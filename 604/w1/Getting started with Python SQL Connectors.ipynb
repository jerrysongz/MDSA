{
 "cells": [
  {
   "cell_type": "markdown",
   "metadata": {},
   "source": [
    "# Introduction\n",
    "\n",
    "In this notebook, we will show you how to work with a relational database using Python, and a SQL Connector. Connectors are typically provided by the database developer to help programmers write their own programs using that database. They may also be created by third-party developers to help with specific kinds of uses for the database. \n",
    "\n",
    "First, let's open our CSV (`Calgary_Public_Library_Locations_and_Hours.csv`) in pandas. \n",
    "\n",
    "This CSV is provided courtesy of the City of Calgary, under the Open Government License, and can be found here: https://data.calgary.ca/Recreation-and-Culture/Calgary-Public-Library-Locations-and-Hours/m9y7-ui7j"
   ]
  },
  {
   "cell_type": "code",
   "execution_count": 1,
   "metadata": {},
   "outputs": [
    {
     "name": "stdout",
     "output_type": "stream",
     "text": [
      "['Library', 'Postal_Code', 'Square_Feet', 'Phone_Number', 'Monday_Open', 'Monday_Close', 'Tuesday_Open', 'Tuesday_Close', 'Wednesday_Open', 'Wednesday_Close', 'Thursday_Open', 'Thursday_Close', 'Friday_Open', 'Friday_Close', 'Saturday_Open', 'Saturday_Close', 'Sunday_Open', 'Sunday_Close', 'Address']\n"
     ]
    }
   ],
   "source": [
    "\n",
    "import pandas as pd\n",
    "\n",
    "cpl_locations = pd.read_csv(\"Calgary_Public_Library_Locations_and_Hours.csv\")\n",
    "cpl_locations.head()\n",
    "print(cpl_locations.columns.tolist())\n"
   ]
  },
  {
   "cell_type": "markdown",
   "metadata": {},
   "source": [
    "# Using Python to create a table\n",
    "\n",
    "First, we're going to create your table using the [MySQL Connector](https://dev.mysql.com/doc/connector-python/en/).\n",
    "\n",
    "Always have the documentation for your connector available, as different implementations of database connectors may vary in terms of what methods are available and how they are used.\n",
    "\n",
    "Although we are running MariaDB on the server, we are using the connector from MySQL on the _client side_ as it is compatible with MariaDB."
   ]
  },
  {
   "cell_type": "code",
   "execution_count": 2,
   "metadata": {},
   "outputs": [],
   "source": [
    "import mysql.connector\n",
    "from mysql.connector import errorcode\n",
    "\n",
    "# uncomment the lines below and fill in any relevant details that need to be changed here, such as if you set up a different user or password\n",
    "\n",
    "\n",
    "myconnection = mysql.connector.connect(user='zheyu_song', password='5QFH73NUI',\n",
    "                                 host='datasciencedb.ucalgary.ca', database='zheyu_song')\n",
    "# "
   ]
  },
  {
   "cell_type": "code",
   "execution_count": 3,
   "metadata": {},
   "outputs": [
    {
     "name": "stdout",
     "output_type": "stream",
     "text": [
      "table created successfully!\n"
     ]
    },
    {
     "data": {
      "text/plain": [
       "True"
      ]
     },
     "execution_count": 3,
     "metadata": {},
     "output_type": "execute_result"
    }
   ],
   "source": [
    "# CREATE TABLE STATEMENT\n",
    "create_statement = '''create table library_locations (\n",
    "    Library varchar(40) NOT NULL,\n",
    "    Postal_Code varchar(7),\n",
    "    Square_Feet int, \n",
    "    Phone_Number varchar(12),\n",
    "    Monday_Open time,\n",
    "    Monday_Close time,\n",
    "    Tuesday_Open time,\n",
    "    Tuesday_Close time,\n",
    "    Wednesday_Open time,\n",
    "    Wednesday_Close time,\n",
    "    Thursday_Open time,\n",
    "    Thursday_Close time,\n",
    "    Friday_Open time,\n",
    "    Friday_Close time,\n",
    "    Saturday_Open time,\n",
    "    Saturday_Close time,\n",
    "    Sunday_Open time,\n",
    "    Sunday_Close time,\n",
    "    Address  varchar(100)\n",
    "    );'''\n",
    "\n",
    "# now we'll create a cursor and run our create statement\n",
    "create_cursor = myconnection.cursor()\n",
    "try:\n",
    "    create_cursor.execute(create_statement)\n",
    "except mysql.connector.Error as err:\n",
    "    if err.errno == errorcode.ER_TABLE_EXISTS_ERROR:\n",
    "        print(\"Ooops! We already have that table\")\n",
    "    else:\n",
    "        print(err.msg)\n",
    "else:\n",
    "    print(\"table created successfully!\")\n",
    "\n",
    "create_cursor.close()"
   ]
  },
  {
   "cell_type": "markdown",
   "metadata": {},
   "source": [
    "# Using Python to insert data\n",
    "\n",
    "Because we have already built a dataframe with data from our CSV, we are going to use this datafrarame by reading each line, and writing each line into its own insert command.\n",
    "\n",
    "How would you re-write the block of code below to make it more efficient?"
   ]
  },
  {
   "cell_type": "code",
   "execution_count": 4,
   "metadata": {},
   "outputs": [
    {
     "name": "stdout",
     "output_type": "stream",
     "text": [
      "('W.R. Castell Central Library', 'T2G 2M2', 177532, '403-260-2600', '9:00', '20:00', '9:00', '20:00', '9:00', '20:00', '9:00', '20:00', '9:00', '17:00', '10:00', '17:00', '12:00', '17:00', '616 Macleod Tr SE\\n(51.0470276, -114.0578995)')\n",
      "INSERT INTO `library_locations` (`Library`,`Postal_Code`,`Square_Feet`,`Phone_Number`,`Monday_Open`,`Monday_Close`,`Tuesday_Open`,`Tuesday_Close`,`Wednesday_Open`,`Wednesday_Close`,`Thursday_Open`,`Thursday_Close`,`Friday_Open`,`Friday_Close`,`Saturday_Open`,`Saturday_Close`,`Sunday_Open`,`Sunday_Close`,`Address`) VALUES (%s,%s,%s,%s,%s,%s,%s,%s,%s,%s,%s,%s,%s,%s,%s,%s,%s,%s,%s)\n",
      "('Alexander Calhoun Library', 'T2T 3V8', 9256, '403-260-2600', '10:00', '21:00', '10:00', '21:00', '10:00', '21:00', '10:00', '21:00', '10:00', '18:00', '10:00', '17:00', '12:00', '17:00', '3223 14 St SW\\n(51.0255318, -114.0947876)')\n",
      "INSERT INTO `library_locations` (`Library`,`Postal_Code`,`Square_Feet`,`Phone_Number`,`Monday_Open`,`Monday_Close`,`Tuesday_Open`,`Tuesday_Close`,`Wednesday_Open`,`Wednesday_Close`,`Thursday_Open`,`Thursday_Close`,`Friday_Open`,`Friday_Close`,`Saturday_Open`,`Saturday_Close`,`Sunday_Open`,`Sunday_Close`,`Address`) VALUES (%s,%s,%s,%s,%s,%s,%s,%s,%s,%s,%s,%s,%s,%s,%s,%s,%s,%s,%s)\n",
      "('Bowness Library', 'T3B 0H3', 7800, '403-260-2600', '13:00', '20:00', '10:00', '20:00', '10:00', '20:00', '10:00', '17:00', '10:00', '17:00', '10:00', '17:00', '12:00', '17:00', '7930 Bowness Rd NW\\n(51.0872841, -114.1830978)')\n",
      "INSERT INTO `library_locations` (`Library`,`Postal_Code`,`Square_Feet`,`Phone_Number`,`Monday_Open`,`Monday_Close`,`Tuesday_Open`,`Tuesday_Close`,`Wednesday_Open`,`Wednesday_Close`,`Thursday_Open`,`Thursday_Close`,`Friday_Open`,`Friday_Close`,`Saturday_Open`,`Saturday_Close`,`Sunday_Open`,`Sunday_Close`,`Address`) VALUES (%s,%s,%s,%s,%s,%s,%s,%s,%s,%s,%s,%s,%s,%s,%s,%s,%s,%s,%s)\n",
      "('Fish Creek Library', 'T2J 6S1', 47074, '403-260-2600', '9:00', '21:00', '9:00', '21:00', '9:00', '21:00', '9:00', '21:00', '9:00', '18:00', '9:00', '17:00', '12:00', '17:00', '11161 Bonaventure Dr SE\\n(50.9516296, -114.0603409)')\n",
      "INSERT INTO `library_locations` (`Library`,`Postal_Code`,`Square_Feet`,`Phone_Number`,`Monday_Open`,`Monday_Close`,`Tuesday_Open`,`Tuesday_Close`,`Wednesday_Open`,`Wednesday_Close`,`Thursday_Open`,`Thursday_Close`,`Friday_Open`,`Friday_Close`,`Saturday_Open`,`Saturday_Close`,`Sunday_Open`,`Sunday_Close`,`Address`) VALUES (%s,%s,%s,%s,%s,%s,%s,%s,%s,%s,%s,%s,%s,%s,%s,%s,%s,%s,%s)\n",
      "('Forest Lawn Library', 'T2A 4M1', 16977, '403-260-2600', '10:00', '21:00', '10:00', '21:00', '10:00', '21:00', '10:00', '21:00', '10:00', '18:00', '10:00', '17:00', '12:00', '17:00', '4807 8 Av SE\\n(51.045105, -113.9652023)')\n",
      "INSERT INTO `library_locations` (`Library`,`Postal_Code`,`Square_Feet`,`Phone_Number`,`Monday_Open`,`Monday_Close`,`Tuesday_Open`,`Tuesday_Close`,`Wednesday_Open`,`Wednesday_Close`,`Thursday_Open`,`Thursday_Close`,`Friday_Open`,`Friday_Close`,`Saturday_Open`,`Saturday_Close`,`Sunday_Open`,`Sunday_Close`,`Address`) VALUES (%s,%s,%s,%s,%s,%s,%s,%s,%s,%s,%s,%s,%s,%s,%s,%s,%s,%s,%s)\n",
      "('Glenmore Square Library', 'T2C 2N5', 6068, '403-260-2600', '10:00', '21:00', '10:00', '21:00', '13:00', '21:00', '10:00', '21:00', '10:00', '17:00', '10:00', '17:00', '12:00', '17:00', '7740 18 St SE\\n(50.9835968, -114.0141449)')\n",
      "INSERT INTO `library_locations` (`Library`,`Postal_Code`,`Square_Feet`,`Phone_Number`,`Monday_Open`,`Monday_Close`,`Tuesday_Open`,`Tuesday_Close`,`Wednesday_Open`,`Wednesday_Close`,`Thursday_Open`,`Thursday_Close`,`Friday_Open`,`Friday_Close`,`Saturday_Open`,`Saturday_Close`,`Sunday_Open`,`Sunday_Close`,`Address`) VALUES (%s,%s,%s,%s,%s,%s,%s,%s,%s,%s,%s,%s,%s,%s,%s,%s,%s,%s,%s)\n",
      "('Louise Riley Library', 'T2N 1M5', 14191, '403-260-2600', '10:00', '21:00', '10:00', '21:00', '10:00', '21:00', '10:00', '21:00', '10:00', '18:00', '10:00', '17:00', '12:00', '17:00', '1904 14 Av NW\\n(51.0652428, -114.1038132)')\n",
      "INSERT INTO `library_locations` (`Library`,`Postal_Code`,`Square_Feet`,`Phone_Number`,`Monday_Open`,`Monday_Close`,`Tuesday_Open`,`Tuesday_Close`,`Wednesday_Open`,`Wednesday_Close`,`Thursday_Open`,`Thursday_Close`,`Friday_Open`,`Friday_Close`,`Saturday_Open`,`Saturday_Close`,`Sunday_Open`,`Sunday_Close`,`Address`) VALUES (%s,%s,%s,%s,%s,%s,%s,%s,%s,%s,%s,%s,%s,%s,%s,%s,%s,%s,%s)\n",
      "('Memorial Park Library', 'T2R 0W5', 19397, '403-260-2600', '10:00', '17:00', '12:00', '20:00', '12:00', '20:00', '12:00', '20:00', '10:00', '18:00', '10:00', '17:00', '12:00', '17:00', '1221 2 St SW\\n(51.0412674, -114.0683823)')\n",
      "INSERT INTO `library_locations` (`Library`,`Postal_Code`,`Square_Feet`,`Phone_Number`,`Monday_Open`,`Monday_Close`,`Tuesday_Open`,`Tuesday_Close`,`Wednesday_Open`,`Wednesday_Close`,`Thursday_Open`,`Thursday_Close`,`Friday_Open`,`Friday_Close`,`Saturday_Open`,`Saturday_Close`,`Sunday_Open`,`Sunday_Close`,`Address`) VALUES (%s,%s,%s,%s,%s,%s,%s,%s,%s,%s,%s,%s,%s,%s,%s,%s,%s,%s,%s)\n",
      "('Nose Hill Library', 'T2L 0G6', 17782, '403-260-2600', '10:00', '21:00', '10:00', '21:00', '10:00', '21:00', '10:00', '21:00', '10:00', '18:00', '10:00', '17:00', '12:00', '17:00', '1530 Northmount Dr NW\\n(51.0960922, -114.1391296)')\n",
      "INSERT INTO `library_locations` (`Library`,`Postal_Code`,`Square_Feet`,`Phone_Number`,`Monday_Open`,`Monday_Close`,`Tuesday_Open`,`Tuesday_Close`,`Wednesday_Open`,`Wednesday_Close`,`Thursday_Open`,`Thursday_Close`,`Friday_Open`,`Friday_Close`,`Saturday_Open`,`Saturday_Close`,`Sunday_Open`,`Sunday_Close`,`Address`) VALUES (%s,%s,%s,%s,%s,%s,%s,%s,%s,%s,%s,%s,%s,%s,%s,%s,%s,%s,%s)\n",
      "('Shawnessy Library', 'T2Y 4H3', 18847, '403-260-2600', '9:00', '21:00', '9:00', '21:00', '9:00', '21:00', '9:00', '21:00', '9:00', '18:00', '9:00', '17:00', '12:00', '17:00', '333 Shawville Bv SE\\n(50.8986015, -114.062851)')\n",
      "INSERT INTO `library_locations` (`Library`,`Postal_Code`,`Square_Feet`,`Phone_Number`,`Monday_Open`,`Monday_Close`,`Tuesday_Open`,`Tuesday_Close`,`Wednesday_Open`,`Wednesday_Close`,`Thursday_Open`,`Thursday_Close`,`Friday_Open`,`Friday_Close`,`Saturday_Open`,`Saturday_Close`,`Sunday_Open`,`Sunday_Close`,`Address`) VALUES (%s,%s,%s,%s,%s,%s,%s,%s,%s,%s,%s,%s,%s,%s,%s,%s,%s,%s,%s)\n",
      "('Signal Hill Library', 'T3H 3P8', 18470, '403-260-2600', '10:00', '21:00', '10:00', '21:00', '10:00', '21:00', '10:00', '21:00', '10:00', '18:00', '10:00', '17:00', '12:00', '17:00', '5994 Signal Hill Ce SW\\n(51.0181122, -114.1756439)')\n",
      "INSERT INTO `library_locations` (`Library`,`Postal_Code`,`Square_Feet`,`Phone_Number`,`Monday_Open`,`Monday_Close`,`Tuesday_Open`,`Tuesday_Close`,`Wednesday_Open`,`Wednesday_Close`,`Thursday_Open`,`Thursday_Close`,`Friday_Open`,`Friday_Close`,`Saturday_Open`,`Saturday_Close`,`Sunday_Open`,`Sunday_Close`,`Address`) VALUES (%s,%s,%s,%s,%s,%s,%s,%s,%s,%s,%s,%s,%s,%s,%s,%s,%s,%s,%s)\n",
      "('Southwood Library', 'T2W 0J9', 6779, '403-260-2600', '10:00', '21:00', '10:00', '21:00', '10:00', '21:00', '10:00', '21:00', '10:00', '18:00', '10:00', '17:00', '12:00', '17:00', '924 Southland Dr SW\\n(50.963623, -114.0860367)')\n",
      "INSERT INTO `library_locations` (`Library`,`Postal_Code`,`Square_Feet`,`Phone_Number`,`Monday_Open`,`Monday_Close`,`Tuesday_Open`,`Tuesday_Close`,`Wednesday_Open`,`Wednesday_Close`,`Thursday_Open`,`Thursday_Close`,`Friday_Open`,`Friday_Close`,`Saturday_Open`,`Saturday_Close`,`Sunday_Open`,`Sunday_Close`,`Address`) VALUES (%s,%s,%s,%s,%s,%s,%s,%s,%s,%s,%s,%s,%s,%s,%s,%s,%s,%s,%s)\n",
      "('Judith Umbach Library', 'T2K 4Y5', 7921, '403-260-2600', '10:00', '21:00', '10:00', '21:00', '10:00', '21:00', '10:00', '21:00', '10:00', '18:00', '10:00', '17:00', '12:00', '17:00', '6617 Centre St N\\n(51.1121979, -114.0633087)')\n",
      "INSERT INTO `library_locations` (`Library`,`Postal_Code`,`Square_Feet`,`Phone_Number`,`Monday_Open`,`Monday_Close`,`Tuesday_Open`,`Tuesday_Close`,`Wednesday_Open`,`Wednesday_Close`,`Thursday_Open`,`Thursday_Close`,`Friday_Open`,`Friday_Close`,`Saturday_Open`,`Saturday_Close`,`Sunday_Open`,`Sunday_Close`,`Address`) VALUES (%s,%s,%s,%s,%s,%s,%s,%s,%s,%s,%s,%s,%s,%s,%s,%s,%s,%s,%s)\n",
      "('Village Square Library', 'T1Y 6E7', 19064, '403-260-2600', '9:00', '21:00', '9:00', '21:00', '9:00', '21:00', '9:00', '21:00', '9:00', '18:00', '9:00', '17:00', '12:00', '17:00', '2623 56 St NE\\n(51.0753708, -113.9525833)')\n",
      "INSERT INTO `library_locations` (`Library`,`Postal_Code`,`Square_Feet`,`Phone_Number`,`Monday_Open`,`Monday_Close`,`Tuesday_Open`,`Tuesday_Close`,`Wednesday_Open`,`Wednesday_Close`,`Thursday_Open`,`Thursday_Close`,`Friday_Open`,`Friday_Close`,`Saturday_Open`,`Saturday_Close`,`Sunday_Open`,`Sunday_Close`,`Address`) VALUES (%s,%s,%s,%s,%s,%s,%s,%s,%s,%s,%s,%s,%s,%s,%s,%s,%s,%s,%s)\n",
      "('Crowfoot Library', 'T3G 5T3', 28506, '403-260-2600', '9:00', '21:00', '9:00', '21:00', '9:00', '21:00', '9:00', '21:00', '9:00', '18:00', '9:00', '17:00', '12:00', '17:00', '8685 Nose hill Dr NW\\n(51.1295815, -114.1926956)')\n",
      "INSERT INTO `library_locations` (`Library`,`Postal_Code`,`Square_Feet`,`Phone_Number`,`Monday_Open`,`Monday_Close`,`Tuesday_Open`,`Tuesday_Close`,`Wednesday_Open`,`Wednesday_Close`,`Thursday_Open`,`Thursday_Close`,`Friday_Open`,`Friday_Close`,`Saturday_Open`,`Saturday_Close`,`Sunday_Open`,`Sunday_Close`,`Address`) VALUES (%s,%s,%s,%s,%s,%s,%s,%s,%s,%s,%s,%s,%s,%s,%s,%s,%s,%s,%s)\n",
      "('Country Hills Library', 'T3K 6E3', 18127, '403-260-2600', '10:00', '21:00', '10:00', '21:00', '10:00', '21:00', '10:00', '21:00', '10:00', '18:00', '10:00', '17:00', '12:00', '17:00', '388 Country Hills Bv NE\\n(51.159462, -114.0675659)')\n",
      "INSERT INTO `library_locations` (`Library`,`Postal_Code`,`Square_Feet`,`Phone_Number`,`Monday_Open`,`Monday_Close`,`Tuesday_Open`,`Tuesday_Close`,`Wednesday_Open`,`Wednesday_Close`,`Thursday_Open`,`Thursday_Close`,`Friday_Open`,`Friday_Close`,`Saturday_Open`,`Saturday_Close`,`Sunday_Open`,`Sunday_Close`,`Address`) VALUES (%s,%s,%s,%s,%s,%s,%s,%s,%s,%s,%s,%s,%s,%s,%s,%s,%s,%s,%s)\n",
      "('Saddletowne Library', 'T3J 0C9', 18783, '403-260-2600', '10:00', '21:00', '10:00', '21:00', '10:00', '21:00', '10:00', '21:00', '10:00', '18:00', '10:00', '17:00', '12:00', '17:00', '7556 Falconridge Bl NE\\n(51.1196709, -113.9485092)')\n",
      "INSERT INTO `library_locations` (`Library`,`Postal_Code`,`Square_Feet`,`Phone_Number`,`Monday_Open`,`Monday_Close`,`Tuesday_Open`,`Tuesday_Close`,`Wednesday_Open`,`Wednesday_Close`,`Thursday_Open`,`Thursday_Close`,`Friday_Open`,`Friday_Close`,`Saturday_Open`,`Saturday_Close`,`Sunday_Open`,`Sunday_Close`,`Address`) VALUES (%s,%s,%s,%s,%s,%s,%s,%s,%s,%s,%s,%s,%s,%s,%s,%s,%s,%s,%s)\n",
      "('Westbrook Library', 'T3C 1P4', 8992, '403-260-2600', '9:00', '21:00', '9:00', '21:00', '9:00', '21:00', '9:00', '21:00', '9:00', '18:00', '10:00', '17:00', '12:00', '17:00', '1421 33 Street SW\\n(51.0404778, -114.138237)')\n",
      "INSERT INTO `library_locations` (`Library`,`Postal_Code`,`Square_Feet`,`Phone_Number`,`Monday_Open`,`Monday_Close`,`Tuesday_Open`,`Tuesday_Close`,`Wednesday_Open`,`Wednesday_Close`,`Thursday_Open`,`Thursday_Close`,`Friday_Open`,`Friday_Close`,`Saturday_Open`,`Saturday_Close`,`Sunday_Open`,`Sunday_Close`,`Address`) VALUES (%s,%s,%s,%s,%s,%s,%s,%s,%s,%s,%s,%s,%s,%s,%s,%s,%s,%s,%s)\n"
     ]
    },
    {
     "data": {
      "text/plain": [
       "True"
      ]
     },
     "execution_count": 4,
     "metadata": {},
     "output_type": "execute_result"
    }
   ],
   "source": [
    "insertCursor = myconnection.cursor()\n",
    "\n",
    "columnString = \"`,`\".join([str(currentColumn) for currentColumn in cpl_locations.columns.tolist()])\n",
    "#print (columnString)\n",
    "\n",
    "# inserting rows one by one from the DataFrame is sufficient for now\n",
    "for i, currentRow in cpl_locations.iterrows():\n",
    "    print (tuple(currentRow))\n",
    "    insertCommand = \"INSERT INTO `library_locations` (`\" + columnString + \"`) VALUES (\" + \"%s,\"*(len(currentRow)-1) + \"%s)\"\n",
    "    print (insertCommand)\n",
    "    insertCursor.execute(insertCommand, tuple(currentRow))\n",
    "    \n",
    "myconnection.commit()\n",
    "\n",
    "insertCursor.close()"
   ]
  },
  {
   "cell_type": "markdown",
   "metadata": {},
   "source": [
    "# Using Python to retrieve data\n",
    "\n",
    "You can also use cursors to read data from a database table. It is helpful to specify what kind of result set you would like the cursor to return. Try each of the following for the second arguement:\n",
    "* `raw=True`\n",
    "* `dictionary=True`\n",
    "* `named_tuple=True`"
   ]
  },
  {
   "cell_type": "code",
   "execution_count": 5,
   "metadata": {},
   "outputs": [
    {
     "name": "stdout",
     "output_type": "stream",
     "text": [
      "Row(library='W.R. Castell Central Library')\n",
      "Row(library='Alexander Calhoun Library')\n",
      "Row(library='Bowness Library')\n",
      "Row(library='Fish Creek Library')\n",
      "Row(library='Forest Lawn Library')\n",
      "Row(library='Glenmore Square Library')\n",
      "Row(library='Louise Riley Library')\n",
      "Row(library='Memorial Park Library')\n",
      "Row(library='Nose Hill Library')\n",
      "Row(library='Shawnessy Library')\n",
      "Row(library='Signal Hill Library')\n",
      "Row(library='Southwood Library')\n",
      "Row(library='Judith Umbach Library')\n",
      "Row(library='Village Square Library')\n",
      "Row(library='Crowfoot Library')\n",
      "Row(library='Country Hills Library')\n",
      "Row(library='Saddletowne Library')\n",
      "Row(library='Westbrook Library')\n"
     ]
    },
    {
     "data": {
      "text/plain": [
       "True"
      ]
     },
     "execution_count": 5,
     "metadata": {},
     "output_type": "execute_result"
    }
   ],
   "source": [
    "# try changing the second argument in this method call.\n",
    "read_cursor = myconnection.cursor(buffered=True, named_tuple=True)\n",
    "\n",
    "query_string = (\"SELECT library FROM library_locations;\")\n",
    "\n",
    "read_cursor.execute(query_string)\n",
    "\n",
    "for (library_value) in read_cursor:\n",
    "    print(library_value)\n",
    "    \n",
    "read_cursor.close()"
   ]
  },
  {
   "cell_type": "markdown",
   "metadata": {},
   "source": [
    "# Parameters in SQL\n",
    "\n",
    "_Parameterization_ is an important feature of cursors which let you create (or *prepare*) a general statement which you can \"fill in\" with specific values later. This is a more efficient way to use a database rather than submit specific queries.\n",
    "\n",
    "For the MySQL Connector, the %s symbol is usually used to indicate when a parameter should be used. \n",
    "\n",
    "_Can you see where in this notebook we have already used this feature in a statement?_"
   ]
  },
  {
   "cell_type": "code",
   "execution_count": 6,
   "metadata": {},
   "outputs": [
    {
     "name": "stdout",
     "output_type": "stream",
     "text": [
      "Number of libraries with square feet less than 0\n",
      "0\n",
      "Number of libraries with square feet less than 10000\n",
      "6\n",
      "Number of libraries with square feet less than 25000\n",
      "15\n",
      "Number of libraries with square feet less than 100000\n",
      "17\n"
     ]
    },
    {
     "data": {
      "text/plain": [
       "True"
      ]
     },
     "execution_count": 6,
     "metadata": {},
     "output_type": "execute_result"
    }
   ],
   "source": [
    "import datetime\n",
    "\n",
    "size_cursor = myconnection.cursor(buffered=True, dictionary=True)\n",
    "library_sizes = [0, 10000, 25000, 100000]\n",
    "\n",
    "query_string = (\"SELECT library FROM library_locations where square_feet < %s ;\")\n",
    "for current_size in library_sizes:\n",
    "    print (\"Number of libraries with square feet less than\", current_size)\n",
    "    size_cursor.execute(query_string, (current_size,))\n",
    "    print (size_cursor.rowcount)\n",
    "\n",
    "size_cursor.close()"
   ]
  },
  {
   "cell_type": "code",
   "execution_count": 7,
   "metadata": {},
   "outputs": [],
   "source": [
    "# CLEANUP: always remember to release the resources you have used on the server. Always run this cell last!\n",
    "\n",
    "myconnection.close()"
   ]
  },
  {
   "cell_type": "code",
   "execution_count": null,
   "metadata": {},
   "outputs": [],
   "source": []
  },
  {
   "cell_type": "code",
   "execution_count": null,
   "metadata": {},
   "outputs": [],
   "source": []
  },
  {
   "cell_type": "code",
   "execution_count": null,
   "metadata": {},
   "outputs": [],
   "source": []
  }
 ],
 "metadata": {
  "kernelspec": {
   "display_name": "Python 3 (ipykernel)",
   "language": "python",
   "name": "python3"
  },
  "language_info": {
   "codemirror_mode": {
    "name": "ipython",
    "version": 3
   },
   "file_extension": ".py",
   "mimetype": "text/x-python",
   "name": "python",
   "nbconvert_exporter": "python",
   "pygments_lexer": "ipython3",
   "version": "3.10.5"
  }
 },
 "nbformat": 4,
 "nbformat_minor": 4
}
