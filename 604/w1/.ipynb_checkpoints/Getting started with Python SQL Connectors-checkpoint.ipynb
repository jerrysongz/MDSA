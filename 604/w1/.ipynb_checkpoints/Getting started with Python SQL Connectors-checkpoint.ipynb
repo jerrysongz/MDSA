{
 "cells": [
  {
   "cell_type": "markdown",
   "metadata": {},
   "source": [
    "# Introduction\n",
    "\n",
    "In this notebook, we will show you how to work with a relational database using Python, and a SQL Connector. Connectors are typically provided by the database developer to help programmers write their own programs using that database. They may also be created by third-party developers to help with specific kinds of uses for the database. \n",
    "\n",
    "First, let's open our CSV (`Calgary_Public_Library_Locations_and_Hours.csv`) in pandas. \n",
    "\n",
    "This CSV is provided courtesy of the City of Calgary, under the Open Government License, and can be found here: https://data.calgary.ca/Recreation-and-Culture/Calgary-Public-Library-Locations-and-Hours/m9y7-ui7j"
   ]
  },
  {
   "cell_type": "code",
   "execution_count": null,
   "metadata": {},
   "outputs": [],
   "source": [
    "import pandas as pd\n",
    "\n",
    "cpl_locations = pd.read_csv(\"Calgary_Public_Library_Locations_and_Hours.csv\")\n",
    "cpl_locations.head()"
   ]
  },
  {
   "cell_type": "markdown",
   "metadata": {},
   "source": [
    "# Using Python to create a table\n",
    "\n",
    "First, we're going to create your table using the [MySQL Connector](https://dev.mysql.com/doc/connector-python/en/).\n",
    "\n",
    "Always have the documentation for your connector available, as different implementations of database connectors may vary in terms of what methods are available and how they are used.\n",
    "\n",
    "Although we are running MariaDB on the server, we are using the connector from MySQL on the _client side_ as it is compatible with MariaDB."
   ]
  },
  {
   "cell_type": "code",
   "execution_count": null,
   "metadata": {},
   "outputs": [],
   "source": [
    "import mysql.connector\n",
    "from mysql.connector import errorcode\n",
    "\n",
    "# uncomment the lines below and fill in any relevant details that need to be changed here, such as if you set up a different user or password\n",
    "\n",
    "\n",
    "#myconnection = mysql.connector.connect(user='yourusername', password='yourpasswordhere',\n",
    "#                                 host='datasciencedb.ucalgary.ca', database='yourusername')\n",
    "# "
   ]
  },
  {
   "cell_type": "code",
   "execution_count": null,
   "metadata": {},
   "outputs": [],
   "source": [
    "# CREATE TABLE STATEMENT\n",
    "create_statement = '''create table library_locations (\n",
    "    Library varchar(40) NOT NULL,\n",
    "    Postal_Code varchar(7),\n",
    "    Square_Feet int, \n",
    "    Phone_Number varchar(12),\n",
    "    Monday_Open time,\n",
    "    Monday_Close time,\n",
    "    Tuesday_Open time,\n",
    "    Tuesday_Close time,\n",
    "    Wednesday_Open time,\n",
    "    Wednesday_Close time,\n",
    "    Thursday_Open time,\n",
    "    Thursday_Close time,\n",
    "    Friday_Open time,\n",
    "    Friday_Close time,\n",
    "    Saturday_Open time,\n",
    "    Saturday_Close time,\n",
    "    Sunday_Open time,\n",
    "    Sunday_Close time,\n",
    "    Address  varchar(100)\n",
    "    );'''\n",
    "\n",
    "# now we'll create a cursor and run our create statement\n",
    "create_cursor = myconnection.cursor()\n",
    "try:\n",
    "    create_cursor.execute(create_statement)\n",
    "except mysql.connector.Error as err:\n",
    "    if err.errno == errorcode.ER_TABLE_EXISTS_ERROR:\n",
    "        print(\"Ooops! We already have that table\")\n",
    "    else:\n",
    "        print(err.msg)\n",
    "else:\n",
    "    print(\"table created successfully!\")\n",
    "\n",
    "create_cursor.close()"
   ]
  },
  {
   "cell_type": "markdown",
   "metadata": {},
   "source": [
    "# Using Python to insert data\n",
    "\n",
    "Because we have already built a dataframe with data from our CSV, we are going to use this datafrarame by reading each line, and writing each line into its own insert command.\n",
    "\n",
    "How would you re-write the block of code below to make it more efficient?"
   ]
  },
  {
   "cell_type": "code",
   "execution_count": null,
   "metadata": {},
   "outputs": [],
   "source": [
    "insertCursor = myconnection.cursor()\n",
    "\n",
    "columnString = \"`,`\".join([str(currentColumn) for currentColumn in cpl_locations.columns.tolist()])\n",
    "#print (columnString)\n",
    "\n",
    "# inserting rows one by one from the DataFrame is sufficient for now\n",
    "for i, currentRow in cpl_locations.iterrows():\n",
    "    print (tuple(currentRow))\n",
    "    insertCommand = \"INSERT INTO `library_locations` (`\" + columnString + \"`) VALUES (\" + \"%s,\"*(len(currentRow)-1) + \"%s)\"\n",
    "    print (insertCommand)\n",
    "    insertCursor.execute(insertCommand, tuple(currentRow))\n",
    "    \n",
    "myconnection.commit()\n",
    "\n",
    "insertCursor.close()"
   ]
  },
  {
   "cell_type": "markdown",
   "metadata": {},
   "source": [
    "# Using Python to retrieve data\n",
    "\n",
    "You can also use cursors to read data from a database table. It is helpful to specify what kind of result set you would like the cursor to return. Try each of the following for the second arguement:\n",
    "* `raw=True`\n",
    "* `dictionary=True`\n",
    "* `named_tuple=True`"
   ]
  },
  {
   "cell_type": "code",
   "execution_count": null,
   "metadata": {},
   "outputs": [],
   "source": [
    "# try changing the second argument in this method call.\n",
    "read_cursor = myconnection.cursor(buffered=True, named_tuple=True)\n",
    "\n",
    "query_string = (\"SELECT library FROM library_locations;\")\n",
    "\n",
    "read_cursor.execute(query_string)\n",
    "\n",
    "for (library_value) in read_cursor:\n",
    "    print(library_value)\n",
    "    \n",
    "read_cursor.close()"
   ]
  },
  {
   "cell_type": "markdown",
   "metadata": {},
   "source": [
    "# Parameters in SQL\n",
    "\n",
    "_Parameterization_ is an important feature of cursors which let you create (or *prepare*) a general statement which you can \"fill in\" with specific values later. This is a more efficient way to use a database rather than submit specific queries.\n",
    "\n",
    "For the MySQL Connector, the %s symbol is usually used to indicate when a parameter should be used. \n",
    "\n",
    "_Can you see where in this notebook we have already used this feature in a statement?_"
   ]
  },
  {
   "cell_type": "code",
   "execution_count": null,
   "metadata": {},
   "outputs": [],
   "source": [
    "import datetime\n",
    "\n",
    "size_cursor = myconnection.cursor(buffered=True, dictionary=True)\n",
    "library_sizes = [0, 10000, 25000, 100000]\n",
    "\n",
    "query_string = (\"SELECT library FROM library_locations where square_feet < %s ;\")\n",
    "for current_size in library_sizes:\n",
    "    print (\"Number of libraries with square feet less than\", current_size)\n",
    "    size_cursor.execute(query_string, (current_size,))\n",
    "    print (size_cursor.rowcount)\n",
    "\n",
    "size_cursor.close()"
   ]
  },
  {
   "cell_type": "code",
   "execution_count": null,
   "metadata": {},
   "outputs": [],
   "source": [
    "# CLEANUP: always remember to release the resources you have used on the server. Always run this cell last!\n",
    "\n",
    "myconnection.close()"
   ]
  }
 ],
 "metadata": {
  "kernelspec": {
   "display_name": "Python 3",
   "language": "python",
   "name": "python3"
  },
  "language_info": {
   "codemirror_mode": {
    "name": "ipython",
    "version": 3
   },
   "file_extension": ".py",
   "mimetype": "text/x-python",
   "name": "python",
   "nbconvert_exporter": "python",
   "pygments_lexer": "ipython3",
   "version": "3.7.4"
  }
 },
 "nbformat": 4,
 "nbformat_minor": 2
}
