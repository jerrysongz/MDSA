{
 "cells": [
  {
   "cell_type": "markdown",
   "metadata": {},
   "source": [
    "# Assignment 1\n",
    "\n",
    "## Instructions - Read this first!\n",
    "\n",
    "This is an individual homework assignment. This means that:\n",
    "* You may discuss the problems in this assignment with other students in this course and your instructor/TA, but YOUR WORK MUST BE YOUR OWN.\n",
    "* Do not show other students code or your own work on this assignment.\n",
    "* You may consult external references, but not actively receive help from individuals not involved in this course. \n",
    "* Cite all references outside of the course you used, including conversations with other students which were helpful. (This helps us give credit where it is due!). All references must use a commonly accepted reference format, for example, APA or IEEE (or another citation style of your choice).\n",
    "\n",
    "If any of these rules seem ambiguous, please check with your professors for help interpreting them.\n",
    "\n",
    "Please complete this homework assignment within the Jupypter notebook environment. You may use Anaconda at home or https://datasciencehub.ucalgary.ca. However, all submitted code must be runnable via datasciencehub.\n",
    "\n",
    "\n",
    "## Submission instructions\n",
    "\n",
    "Your submission will be graded manually. To ensure that everything goes smoothly, please follow these instructions to prepare your notebook for submission to the D2L Dropbox for Assignment 1:\n",
    "\n",
    "* Please remove any print statments used to test your work (you can comment them out)\n",
    "* Please provide your solutions where asked; please do not alter any other parts of this notebook.\n",
    "* If you need to add cells to test your code please move them to the end of the notebook before submission- or you may included your commented out answers and tests in the cells provided.\n",
    "\n",
    "In this assignment, we will focus on familiarizing you with using Python to work with files and JSON objects."
   ]
  },
  {
   "cell_type": "markdown",
   "metadata": {},
   "source": [
    "# Part A: Warm-up questions (10 marks)\n",
    "\n",
    "**Question 1 (2 marks)**\n",
    "\n",
    "In the cell below, open the json file that has been provided to you (travel.json). Using only Python built-ins, count how many lines this file contains."
   ]
  },
  {
   "cell_type": "code",
   "execution_count": 67,
   "metadata": {},
   "outputs": [
    {
     "name": "stdout",
     "output_type": "stream",
     "text": [
      "CPU times: user 159 µs, sys: 28 µs, total: 187 µs\n",
      "Wall time: 116 µs\n",
      "65\n"
     ]
    }
   ],
   "source": [
    "import json\n",
    "count = 0\n",
    "with open(\"travel.json\") as my_json:\n",
    "    %time travel_info = json.load(my_json)\n",
    "    #print (travel_info)\n",
    "for i in open(\"travel.json\"):\n",
    "    #print(i)\n",
    "    count += 1 \n",
    "print(count) #There are 65 lines in the file"
   ]
  },
  {
   "cell_type": "markdown",
   "metadata": {},
   "source": [
    "**Question 2 (1 mark)**\n",
    "\n",
    "Use a for loop and the `readlines()` method to read each line of the file and print it out."
   ]
  },
  {
   "cell_type": "code",
   "execution_count": 68,
   "metadata": {},
   "outputs": [
    {
     "name": "stdout",
     "output_type": "stream",
     "text": [
      "{\n",
      "\n",
      "\t\"Trip\": {\n",
      "\n",
      "\t\t\"Name\": \"Western Canadian Adventure\",\n",
      "\n",
      "\t\t\"Segments\": [{\n",
      "\n",
      "\t\t\t\t\"Flight\": \"Calgary to Vancouver\",\n",
      "\n",
      "\t\t\t\t\"Departure Times\": [\n",
      "\n",
      "\t\t\t\t\t\"0731\",\n",
      "\n",
      "\t\t\t\t\t\"0845\",\n",
      "\n",
      "\t\t\t\t\t\"1030\",\n",
      "\n",
      "\t\t\t\t\t\"1332\",\n",
      "\n",
      "\t\t\t\t\t\"1519\"\n",
      "\n",
      "\t\t\t\t],\n",
      "\n",
      "\t\t\t\t\"Airline\": \"CheapFlights Air\",\n",
      "\n",
      "\t\t\t\t\"Departure City\": \"Calgary\",\n",
      "\n",
      "\t\t\t\t\"Destination City\": \"Vancouver\"\n",
      "\n",
      "\t\t\t},\n",
      "\n",
      "\t\t\t{\n",
      "\n",
      "\t\t\t\t\"Hotel\": \"Coastal Western\",\n",
      "\n",
      "\t\t\t\t\"Room Type\": [\"Queen\",\n",
      "\n",
      "\t\t\t\t\t\"King\",\n",
      "\n",
      "\t\t\t\t\t\"Suite\"\n",
      "\n",
      "\t\t\t\t],\n",
      "\n",
      "\t\t\t\t\"Rating\": 4,\n",
      "\n",
      "\t\t\t\t\"City\": \"Vancouver\"\n",
      "\n",
      "\t\t\t},\n",
      "\n",
      "\t\t\t{\n",
      "\n",
      "\t\t\t\t\"Ground\": \"East Train\",\n",
      "\n",
      "\t\t\t\t\"Destination City\": \"Calgary\",\n",
      "\n",
      "\t\t\t\t\"Departure City\": \"Vancouver\",\n",
      "\n",
      "\t\t\t\t\"Departure Times\": [\n",
      "\n",
      "\t\t\t\t\t\"0930\",\n",
      "\n",
      "\t\t\t\t\t\"1412\"\n",
      "\n",
      "\t\t\t\t]\n",
      "\n",
      "\t\t\t},\n",
      "\n",
      "\t\t\t{\n",
      "\n",
      "\t\t\t\t\"Trip\": {\n",
      "\n",
      "\t\t\t\t\t\"Name\": \"Mountain Excursion\",\n",
      "\n",
      "\t\t\t\t\t\"Segments\": [{\n",
      "\n",
      "\t\t\t\t\t\t\t\"Ground\": \"Scenic Bus\",\n",
      "\n",
      "\t\t\t\t\t\t\t\"Destination City\": \"Banff\",\n",
      "\n",
      "\t\t\t\t\t\t\t\"Departure City\": \"Calgary\",\n",
      "\n",
      "\t\t\t\t\t\t\t\"Departure Times\": [\n",
      "\n",
      "\t\t\t\t\t\t\t\t\"0700\",\n",
      "\n",
      "\t\t\t\t\t\t\t\t\"0800\",\n",
      "\n",
      "\t\t\t\t\t\t\t\t\"0900\",\n",
      "\n",
      "\t\t\t\t\t\t\t\t\"1000\",\n",
      "\n",
      "\t\t\t\t\t\t\t\t\"1100\"\n",
      "\n",
      "\t\t\t\t\t\t\t]\n",
      "\n",
      "\n",
      "\n",
      "\t\t\t\t\t\t},\n",
      "\n",
      "\t\t\t\t\t\t{\n",
      "\n",
      "\t\t\t\t\t\t\t\"Ground\": \"Quick Train\",\n",
      "\n",
      "\t\t\t\t\t\t\t\"Departure City\": \"Calgary\",\n",
      "\n",
      "\t\t\t\t\t\t\t\"Destination City\": \"Banff\",\n",
      "\n",
      "\t\t\t\t\t\t\t\"Departure Times\": [\n",
      "\n",
      "\t\t\t\t\t\t\t\t\"1800\"\n",
      "\n",
      "\t\t\t\t\t\t\t]\n",
      "\n",
      "\t\t\t\t\t\t}\n",
      "\n",
      "\n",
      "\n",
      "\t\t\t\t\t]\n",
      "\n",
      "\t\t\t\t}\n",
      "\n",
      "\t\t\t}\n",
      "\n",
      "\t\t]\n",
      "\n",
      "\t}\n",
      "\n",
      "}\n"
     ]
    }
   ],
   "source": [
    "with open(\"travel.json\") as my_json2:\n",
    "    for lines in my_json2.readlines():\n",
    "        print(lines)"
   ]
  },
  {
   "cell_type": "markdown",
   "metadata": {},
   "source": [
    "**Question 3 (2 marks)**\n",
    "\n",
    "Use the json library to read the contents of the file into a json object. Output the contents of this object."
   ]
  },
  {
   "cell_type": "code",
   "execution_count": 69,
   "metadata": {},
   "outputs": [
    {
     "name": "stdout",
     "output_type": "stream",
     "text": [
      "{'Trip': {'Name': 'Western Canadian Adventure', 'Segments': [{'Flight': 'Calgary to Vancouver', 'Departure Times': ['0731', '0845', '1030', '1332', '1519'], 'Airline': 'CheapFlights Air', 'Departure City': 'Calgary', 'Destination City': 'Vancouver'}, {'Hotel': 'Coastal Western', 'Room Type': ['Queen', 'King', 'Suite'], 'Rating': 4, 'City': 'Vancouver'}, {'Ground': 'East Train', 'Destination City': 'Calgary', 'Departure City': 'Vancouver', 'Departure Times': ['0930', '1412']}, {'Trip': {'Name': 'Mountain Excursion', 'Segments': [{'Ground': 'Scenic Bus', 'Destination City': 'Banff', 'Departure City': 'Calgary', 'Departure Times': ['0700', '0800', '0900', '1000', '1100']}, {'Ground': 'Quick Train', 'Departure City': 'Calgary', 'Destination City': 'Banff', 'Departure Times': ['1800']}]}}]}}\n"
     ]
    }
   ],
   "source": [
    "import json\n",
    "with open(\"travel.json\") as my_json3:\n",
    "    travel_info3 = json.load(my_json3)\n",
    "print(travel_info3)\n",
    "#print(type(travel_info3))\n"
   ]
  },
  {
   "cell_type": "markdown",
   "metadata": {},
   "source": [
    "**Question 4 (5 marks)**\n",
    "\n",
    "Using the json library again, read the contents of the file into a json object, and wrangle the object however you please, using Python built-ins, or by running the results through json library methods a second time. List all names of Destination Cities in the provided file."
   ]
  },
  {
   "cell_type": "code",
   "execution_count": 70,
   "metadata": {},
   "outputs": [
    {
     "name": "stdout",
     "output_type": "stream",
     "text": [
      "['Vancouver', 'Calgary', 'Banff', 'Banff']\n"
     ]
    }
   ],
   "source": [
    "list4 = []\n",
    "for i in travel_info3[\"Trip\"][\"Segments\"]:\n",
    "    #print(i)\n",
    "    for j in i:\n",
    "        if j == 'Destination City':\n",
    "            #print(i[j])\n",
    "            list4.append(i[j])\n",
    "        if j == 'Trip':\n",
    "            for k in i[j][\"Segments\"]:\n",
    "                #print(k)\n",
    "                for l in k:\n",
    "                    if l == 'Destination City':\n",
    "                        #print(k[l])\n",
    "                        list4.append(k[l])\n",
    "                    #print(\"\")\n",
    "                #print(\"\")\n",
    "                \n",
    "    #print(\"\")\n",
    "    #list4.append(i['Destination City'])\n",
    "print(list4)"
   ]
  },
  {
   "cell_type": "markdown",
   "metadata": {},
   "source": [
    "## Part B: Understanding our data (12 marks)"
   ]
  },
  {
   "cell_type": "markdown",
   "metadata": {},
   "source": [
    "**Question 1 (8 marks)**\n",
    "\n",
    "First, let's take a look at the contents of the JSON file you have been provided. Imagine that we will need a CSV for each element of the file which contains data. In the markdown cell below, identify what attributes each element should have."
   ]
  },
  {
   "cell_type": "markdown",
   "metadata": {},
   "source": [
    "**Trip**: Trip Name\n",
    "\n",
    "**Flight**: Trip Name, Flight,Departure Times, Airline, Departure City, Destination City\n",
    "\n",
    "**Ground**: Trip Name, Ground, Destination City, Departure City, Departure Times\n",
    "\n",
    "**Hotel**: Trip Name, Hotel, Room Type, Rating, City"
   ]
  },
  {
   "cell_type": "markdown",
   "metadata": {},
   "source": [
    "**Question 2 (1 mark)**\n",
    "\n",
    "Are there any elements that are missing from the list above?"
   ]
  },
  {
   "cell_type": "markdown",
   "metadata": {},
   "source": [
    "No, there are not any elements that are missing from the list above."
   ]
  },
  {
   "cell_type": "markdown",
   "metadata": {},
   "source": [
    "**Question 3 (3 marks)**\n",
    "\n",
    "Of the four elements identified at the start of Part B, which is the most difficult to read from our file, and why?"
   ]
  },
  {
   "cell_type": "markdown",
   "metadata": {},
   "source": [
    "Ground is the most difficult to read from the file.\n",
    "There are two layers of the trip: dictionary keys, one nested inside of another. For flight and hotel, only one of each dictionary contains the information of them that are in the Segments key which is in the outter layer trip. However, there are three dictionaries of ground. One of them is in the Segments key, which is in the outer layer trip. Two ground dictionaries are nested in the inner layer of the trip key. Therefore, Ground is the most difficult to read from the file."
   ]
  },
  {
   "cell_type": "markdown",
   "metadata": {},
   "source": [
    "## Part C: Converting from JSON to CSV (13 marks)"
   ]
  },
  {
   "cell_type": "markdown",
   "metadata": {},
   "source": [
    "Write your own code, using Python built-ins, the csv and json modules, to convert the data in the provided file into appropriate CSVs for each of your identified elements from Part B, Question 1. You may add additional fields where necessary.\n",
    "\n",
    "Each row of each of your CSVs should contain sufficient information so that they could be used in another program independently of each other. For example, you may be able to write another program which could read your CSV file about flights to extract information about departure times and cities."
   ]
  },
  {
   "cell_type": "code",
   "execution_count": 71,
   "metadata": {},
   "outputs": [],
   "source": [
    "import csv\n",
    "\n",
    "#data wrangligh\n",
    "tripname = travel_info3['Trip'][\"Name\"]\n",
    "flightinfodict = travel_info3[\"Trip\"][\"Segments\"][0]\n",
    "hotelinfodict = travel_info3[\"Trip\"][\"Segments\"][1]\n",
    "ground1dict = travel_info3[\"Trip\"][\"Segments\"][2]\n",
    "nesttrip = travel_info3[\"Trip\"][\"Segments\"][3]\n",
    "nesttripname = nesttrip['Trip'][\"Name\"]\n",
    "ground2dict = nesttrip[\"Trip\"][\"Segments\"][0]\n",
    "ground3dict = nesttrip[\"Trip\"][\"Segments\"][1]\n",
    "tripnames = [tripname,nesttripname]\n",
    "flightinfodict[\"Trip Name\"] = tripnames[0]\n",
    "hotelinfodict[\"Trip Name\"] = tripnames[0]\n",
    "ground1dict[\"Trip Name\"] = tripnames[0]\n",
    "ground2dict[\"Trip Name\"] = tripnames[1]\n",
    "ground3dict[\"Trip Name\"] = tripnames[1]\n",
    "groundlist = [ground1dict,ground2dict,ground3dict]\n",
    "\n",
    "with open('Flight.csv', 'w', newline='') as flightfile:\n",
    "    fieldnames = [x for x in flightinfodict.keys()]\n",
    "    writer = csv.DictWriter(flightfile, fieldnames=fieldnames)\n",
    "\n",
    "    writer.writeheader()\n",
    "    for i in flightinfodict['Departure Times']:\n",
    "        d = dict()\n",
    "        d['Departure Times'] = i\n",
    "        for key,value in flightinfodict.items():\n",
    "            if key != 'Departure Times':\n",
    "                d[key]=value\n",
    "        writer.writerow(d)\n",
    "        d.clear()\n",
    "        \n",
    "with open('Ground.csv', 'w', newline='') as groundfile:\n",
    "    fieldnames = [x for x in ground1dict.keys()]\n",
    "    writer = csv.DictWriter(groundfile, fieldnames=fieldnames)\n",
    "\n",
    "    writer.writeheader()\n",
    "    for k in groundlist:        \n",
    "        for i in k['Departure Times']:\n",
    "            d = dict()\n",
    "            d['Departure Times'] = i\n",
    "            for key,value in k.items():\n",
    "                if key != 'Departure Times':\n",
    "                    d[key]=value\n",
    "            writer.writerow(d)\n",
    "            d.clear()\n",
    "\n",
    "\n",
    "with open('Hotel.csv', 'w', newline='') as hotelfile:\n",
    "    fieldnames = [x for x in hotelinfodict.keys()]\n",
    "    writer = csv.DictWriter(hotelfile, fieldnames=fieldnames)\n",
    "    writer.writeheader()\n",
    "    for i in hotelinfodict['Room Type']:\n",
    "        d = dict()\n",
    "        d['Room Type'] = i\n",
    "        for key,value in hotelinfodict.items():\n",
    "            if key != 'Room Type':\n",
    "                d[key]=value\n",
    "        writer.writerow(d)\n",
    "        d.clear()\n",
    "\n",
    "with open('Trip.csv', 'w', newline='') as tripfile:\n",
    "    fieldnames = [\"Name\"]\n",
    "    writer = csv.DictWriter(tripfile, fieldnames=fieldnames)\n",
    "    writer.writeheader()\n",
    "    for i in tripnames:\n",
    "        d = dict()\n",
    "        d['Name'] = i\n",
    "        writer.writerow(d)\n",
    "        d.clear()\n",
    "        "
   ]
  },
  {
   "cell_type": "markdown",
   "metadata": {},
   "source": [
    "## Part D: Reflection (5 marks)\n",
    "\n",
    "In 100 to 250 words, identify a concept you have found difficult or confusing from this assignment. Reflect on how your previous learning or experience helped you to understand this concept. Provide your reflection using markdown in the cell below. "
   ]
  },
  {
   "cell_type": "markdown",
   "metadata": {},
   "source": [
    "Creating CSV files is a concept I found difficult and confusing in this assignment. I have only minimal experience creating CSV documents using Python. The assignment hinted me to use the CSV library to do this work. Based on my experience learning new programming knowledge, I looked up python.org for the CSV library module contents. I found several useful functions that I could apply to this assignment. In particular, the DictWriter function. Furthermore, I could use my experience of iterative in Python to work with the DictWriter function to create CSV files for this assignment. And I did pretty well in the end, even though I have never worked with the CSV library in Python. This gave me the confidence to succeed in this course."
   ]
  },
  {
   "cell_type": "code",
   "execution_count": null,
   "metadata": {},
   "outputs": [],
   "source": []
  }
 ],
 "metadata": {
  "kernelspec": {
   "display_name": "Python 3 (ipykernel)",
   "language": "python",
   "name": "python3"
  },
  "language_info": {
   "codemirror_mode": {
    "name": "ipython",
    "version": 3
   },
   "file_extension": ".py",
   "mimetype": "text/x-python",
   "name": "python",
   "nbconvert_exporter": "python",
   "pygments_lexer": "ipython3",
   "version": "3.10.5"
  }
 },
 "nbformat": 4,
 "nbformat_minor": 4
}
