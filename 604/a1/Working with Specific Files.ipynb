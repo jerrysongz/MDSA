{
 "cells": [
  {
   "cell_type": "markdown",
   "metadata": {},
   "source": [
    "## About this Notebook"
   ]
  },
  {
   "cell_type": "markdown",
   "metadata": {},
   "source": [
    "This notebook will take us through:\n",
    "\n",
    "* refresher on how to read a csv using the csv library\n",
    "* comparison to using pandas and some exploratory analysis\n",
    "* writing using the csv library\n",
    "* working with JSON files"
   ]
  },
  {
   "cell_type": "markdown",
   "metadata": {},
   "source": [
    "You've already seen how to use the pandas library to access data in specific file formats, such as CSV. \n",
    "\n",
    "In this notebook, we will investigate how to use Python's built-in CSV library in a similar way. We'll begin by importing the CSV module, and opening a file.\n",
    "\n",
    "We will start with the [City of Calgary's School Enrolment Data](https://data.calgary.ca/Demographics/School-Enrolment-Data/9qye-mibh). This data is a subset of a dataset provided by the Government of Alberta (https://open.alberta.ca/opendata) and Alberta Education website (https://education.alberta.ca/).\n",
    "\n",
    "Contains information licensed under the Open Government Licence – City of Calgary."
   ]
  },
  {
   "cell_type": "code",
   "execution_count": 1,
   "metadata": {},
   "outputs": [
    {
     "ename": "SyntaxError",
     "evalue": "incomplete input (4129329991.py, line 6)",
     "output_type": "error",
     "traceback": [
      "\u001b[0;36m  Input \u001b[0;32mIn [1]\u001b[0;36m\u001b[0m\n\u001b[0;31m    #print (','.join(row))\u001b[0m\n\u001b[0m                          ^\u001b[0m\n\u001b[0;31mSyntaxError\u001b[0m\u001b[0;31m:\u001b[0m incomplete input\n"
     ]
    }
   ],
   "source": [
    "import csv\n",
    "\n",
    "with open('School_Enrolment_Data.csv') as my_csv:\n",
    "    my_csv_reader = csv.reader(my_csv)\n",
    "    for row in my_csv_reader:\n",
    "        #print (','.join(row))"
   ]
  },
  {
   "cell_type": "markdown",
   "metadata": {},
   "source": [
    "Now use pandas to open the same file. Try exploring the data a little bit. Some suggestions:\n",
    "\n",
    "* In 2015-16, how many schools had students in Grade 7?\n",
    "* How many different school authorities are there (use 2020-2021 to come up with your answer).\n",
    "* In 2018-17, how many ECS students were there?\n",
    "\n",
    "What is a question you have about this data? Write some code to answer your question."
   ]
  },
  {
   "cell_type": "code",
   "execution_count": null,
   "metadata": {},
   "outputs": [],
   "source": []
  },
  {
   "cell_type": "markdown",
   "metadata": {},
   "source": [
    "Python's csv module also has a writer object that can be used to write CSV files. "
   ]
  },
  {
   "cell_type": "code",
   "execution_count": 126,
   "metadata": {},
   "outputs": [],
   "source": [
    "with open(\"mycsvfile.csv\", 'w') as my_csv_output:\n",
    "    my_csv_writer = csv.writer(my_csv_output)\n",
    "    my_csv_writer.writerow(['Hello', 'World', '!'])"
   ]
  },
  {
   "cell_type": "markdown",
   "metadata": {},
   "source": [
    "Why might we use this csv module instead of pandas? Do you see any features in this library which may not be included in pandas?\n",
    "\n",
    "What kinds of things can you do with pandas, that are not possible with this module?"
   ]
  },
  {
   "cell_type": "markdown",
   "metadata": {},
   "source": [
    "## JSON objects and files\n",
    "\n",
    "JSON can be used to write certain kinds of Python data structures as a file. To do this natively in Python, we can use the `json` module. To convert these into a JSON object, we can use the `dumps()` or `dump()` methods."
   ]
  },
  {
   "cell_type": "code",
   "execution_count": 127,
   "metadata": {},
   "outputs": [
    {
     "name": "stdout",
     "output_type": "stream",
     "text": [
      "[\"1\", \"2\", \"3\"]\n",
      "{\"Woodbine\": 57, \"Whitehorn\": 123}\n"
     ]
    }
   ],
   "source": [
    "import json\n",
    "\n",
    "myList = ['1', '2', '3']\n",
    "myDict = {'Woodbine':57, 'Whitehorn':123}\n",
    "\n",
    "\n",
    "# open a file for reading, and write both myList and myDict to the file. Then, close the file.\n",
    "\n",
    "\n",
    "print(json.dumps(myList))\n",
    "print(json.dumps(myDict))\n",
    "\n",
    "# now open a new file for writing and use the dump() method to write this object to the file\n",
    "\n"
   ]
  },
  {
   "cell_type": "markdown",
   "metadata": {},
   "source": [
    "Now let's work with a pre-existing dataset. We will use results from the [Government of Canada's Algorithmic Impact Assessment for the ATIP Online Request Service](https://open.canada.ca/data/dataset/cea9985f-5e0f-425e-9b7e-e1d122272c56/resource/5678a163-bfaa-4006-b655-75c5fe421d58/download/atip-digital-services-aia.json). "
   ]
  },
  {
   "cell_type": "code",
   "execution_count": 128,
   "metadata": {
    "scrolled": true
   },
   "outputs": [
    {
     "name": "stdout",
     "output_type": "stream",
     "text": [
      "CPU times: user 441 µs, sys: 610 µs, total: 1.05 ms\n",
      "Wall time: 813 µs\n",
      "{'version': 'v0.8', 'currentPage': 12, 'data': {'projectDetailsRespondent': 'W Herbert', 'projectDetailsJob': 'Senior Analyst', 'projectDetailsDepartment-NS': '056', 'projectDetailsBranch': 'CIOB', 'projectDetailsTitle': 'ATIP Digital Services', 'projectDetailsPhase': 'item2', 'projectDetailsDescription': 'Simple central website for Canadians to submit ATIP requests', 'businessDrivers1': ['item2', 'item5'], 'riskProfile1': 'item1-3', 'riskProfile2': 'item2-0', 'riskProfile3': 'item2-0', 'riskProfile4': 'item2-0', 'projectAuthority1': 'item1-2', 'aboutSystem1': ['item2', 'item4'], 'aboutAlgorithm1': 'item1-3', 'aboutAlgorithm2': 'item1-3', 'impact1': 'item1-1', 'impact2': 'item1-3', 'impact3': 'item2-0', 'impact5': 'item1-4', 'impact6': 'item1-1', 'impact7': 'item1-1', 'impact8': 'a misdirected request would immediately be redirected to the appropriate GoC institution', 'impact9': 'item1-1', 'impact10': 'does not prevent requester from exercising their right to information', 'impact11': 'item1-1', 'impact12': 'n/a', 'impact13': 'item1-1', 'impact14': 'n/a', 'impact15': 'item1-1', 'impact16': 'n/a', 'aboutDataSource1': 'item2-0', 'aboutDataSource2': 'item1-0', 'aboutDataSource3': 'item2-1', 'aboutDataSource4': 'item1-4', 'aboutDataSource5': 'item2-0', 'aboutDataSource6': 'item1-4', 'aboutDataSource7': 'item1-1', 'aboutDataSource8': 'item1-1', 'aboutDataType1': 'item1', 'aboutDataType2': ['item1-2'], 'consultationImplementation1': 'item1-1', 'consultationImplementation2-NS': ['item2', 'item3', 'item4', 'item5', 'item6', 'item7', 'item8'], 'consultationImplementation3': 'item1-1', 'consultationImplementation4-NS': ['item2', 'item7', 'item8'], 'dataQualityImplementation1': 'item1-2', 'dataQualityImplementation2': 'item2-0', 'dataQualityImplementation3': 'item1-1', 'dataQualityImplementation4': 'item2-0', 'dataQualityImplementation5': 'item1-1', 'dataQualityImplementation6': 'item2-0', 'dataQualityImplementation7': 'item1-2', 'dataQualityImplementation8': 'item1-2', 'dataQualityImplementation9': 'item2-0', 'dataQualityImplementation10': 'item1-2', 'fairnessImplementation1': 'item2-0', 'fairnessImplementation2': 'item1-2', 'fairnessImplementation3': 'item1-2', 'fairnessImplementation4': 'item2-0', 'fairnessImplementation5': 'item1-2', 'fairnessImplementation6': 'item1-1', 'fairnessImplementation7': 'item1-1', 'fairnessImplementation8': 'item1-2', 'fairnessImplementation9': 'item2-0', 'fairnessImplementation10': 'item1-2', 'fairnessImplementation11': 'item1-1', 'fairnessImplementation12': 'item1-1', 'fairnessImplementation13': 'item1-2', 'fairnessImplementation14': 'item1-2', 'fairnessImplementation15': 'item1-1', 'fairnessImplementation16': 'item1-2', 'fairnessImplementation17': 'item1-1', 'privacyImplementation1': 'item1-1', 'privacyImplementation2': 'item1-1', 'consultationImplementation2': ['item7', 'item8', 'item6', 'item5', 'item4', 'item3', 'item2', 'item9'], 'consultationImplementation2-other': 'Cyber security, a different department (Canada School of Public Service)', 'consultationImplementation4': ['item8', 'item2', 'item9'], 'consultationImplementation4-other': 'Media technology briefings', 'decisionSector1': ['item6-1'], 'decisionSector2': 'Openness and transparency'}}\n"
     ]
    }
   ],
   "source": [
    "with open(\"atip-digital-services-aia.json\") as my_json:\n",
    "    %time aitp_info = json.load(my_json)\n",
    "    print (aitp_info)"
   ]
  },
  {
   "cell_type": "markdown",
   "metadata": {},
   "source": [
    "What are the equivalent methods you would use in pandas to work with JSON objects? Give them a try in the cell below. "
   ]
  },
  {
   "cell_type": "code",
   "execution_count": 129,
   "metadata": {},
   "outputs": [
    {
     "name": "stdout",
     "output_type": "stream",
     "text": [
      "CPU times: user 4.28 ms, sys: 312 µs, total: 4.59 ms\n",
      "Wall time: 4.51 ms\n"
     ]
    },
    {
     "data": {
      "text/html": [
       "<div>\n",
       "<style scoped>\n",
       "    .dataframe tbody tr th:only-of-type {\n",
       "        vertical-align: middle;\n",
       "    }\n",
       "\n",
       "    .dataframe tbody tr th {\n",
       "        vertical-align: top;\n",
       "    }\n",
       "\n",
       "    .dataframe thead th {\n",
       "        text-align: right;\n",
       "    }\n",
       "</style>\n",
       "<table border=\"1\" class=\"dataframe\">\n",
       "  <thead>\n",
       "    <tr style=\"text-align: right;\">\n",
       "      <th></th>\n",
       "      <th>version</th>\n",
       "      <th>currentPage</th>\n",
       "      <th>data</th>\n",
       "    </tr>\n",
       "  </thead>\n",
       "  <tbody>\n",
       "    <tr>\n",
       "      <th>aboutAlgorithm1</th>\n",
       "      <td>v0.8</td>\n",
       "      <td>12</td>\n",
       "      <td>item1-3</td>\n",
       "    </tr>\n",
       "    <tr>\n",
       "      <th>aboutAlgorithm2</th>\n",
       "      <td>v0.8</td>\n",
       "      <td>12</td>\n",
       "      <td>item1-3</td>\n",
       "    </tr>\n",
       "    <tr>\n",
       "      <th>aboutDataSource1</th>\n",
       "      <td>v0.8</td>\n",
       "      <td>12</td>\n",
       "      <td>item2-0</td>\n",
       "    </tr>\n",
       "    <tr>\n",
       "      <th>aboutDataSource2</th>\n",
       "      <td>v0.8</td>\n",
       "      <td>12</td>\n",
       "      <td>item1-0</td>\n",
       "    </tr>\n",
       "    <tr>\n",
       "      <th>aboutDataSource3</th>\n",
       "      <td>v0.8</td>\n",
       "      <td>12</td>\n",
       "      <td>item2-1</td>\n",
       "    </tr>\n",
       "    <tr>\n",
       "      <th>...</th>\n",
       "      <td>...</td>\n",
       "      <td>...</td>\n",
       "      <td>...</td>\n",
       "    </tr>\n",
       "    <tr>\n",
       "      <th>projectDetailsTitle</th>\n",
       "      <td>v0.8</td>\n",
       "      <td>12</td>\n",
       "      <td>ATIP Digital Services</td>\n",
       "    </tr>\n",
       "    <tr>\n",
       "      <th>riskProfile1</th>\n",
       "      <td>v0.8</td>\n",
       "      <td>12</td>\n",
       "      <td>item1-3</td>\n",
       "    </tr>\n",
       "    <tr>\n",
       "      <th>riskProfile2</th>\n",
       "      <td>v0.8</td>\n",
       "      <td>12</td>\n",
       "      <td>item2-0</td>\n",
       "    </tr>\n",
       "    <tr>\n",
       "      <th>riskProfile3</th>\n",
       "      <td>v0.8</td>\n",
       "      <td>12</td>\n",
       "      <td>item2-0</td>\n",
       "    </tr>\n",
       "    <tr>\n",
       "      <th>riskProfile4</th>\n",
       "      <td>v0.8</td>\n",
       "      <td>12</td>\n",
       "      <td>item2-0</td>\n",
       "    </tr>\n",
       "  </tbody>\n",
       "</table>\n",
       "<p>80 rows × 3 columns</p>\n",
       "</div>"
      ],
      "text/plain": [
       "                    version  currentPage                   data\n",
       "aboutAlgorithm1        v0.8           12                item1-3\n",
       "aboutAlgorithm2        v0.8           12                item1-3\n",
       "aboutDataSource1       v0.8           12                item2-0\n",
       "aboutDataSource2       v0.8           12                item1-0\n",
       "aboutDataSource3       v0.8           12                item2-1\n",
       "...                     ...          ...                    ...\n",
       "projectDetailsTitle    v0.8           12  ATIP Digital Services\n",
       "riskProfile1           v0.8           12                item1-3\n",
       "riskProfile2           v0.8           12                item2-0\n",
       "riskProfile3           v0.8           12                item2-0\n",
       "riskProfile4           v0.8           12                item2-0\n",
       "\n",
       "[80 rows x 3 columns]"
      ]
     },
     "execution_count": 129,
     "metadata": {},
     "output_type": "execute_result"
    }
   ],
   "source": [
    "import pandas as pd\n",
    "\n",
    "%time json_data = pd.read_json(\"atip-digital-services-aia.json\")\n",
    "\n",
    "json_data"
   ]
  },
  {
   "cell_type": "markdown",
   "metadata": {},
   "source": [
    "What happens when you use a JSON file that has a different structure? Try downloading some data from the JSON Generator (https://www.json-generator.com/), and trying to work with this in Python."
   ]
  },
  {
   "cell_type": "code",
   "execution_count": 130,
   "metadata": {
    "scrolled": true
   },
   "outputs": [
    {
     "data": {
      "text/html": [
       "<div>\n",
       "<style scoped>\n",
       "    .dataframe tbody tr th:only-of-type {\n",
       "        vertical-align: middle;\n",
       "    }\n",
       "\n",
       "    .dataframe tbody tr th {\n",
       "        vertical-align: top;\n",
       "    }\n",
       "\n",
       "    .dataframe thead th {\n",
       "        text-align: right;\n",
       "    }\n",
       "</style>\n",
       "<table border=\"1\" class=\"dataframe\">\n",
       "  <thead>\n",
       "    <tr style=\"text-align: right;\">\n",
       "      <th></th>\n",
       "      <th>_id</th>\n",
       "      <th>index</th>\n",
       "      <th>guid</th>\n",
       "      <th>isActive</th>\n",
       "      <th>balance</th>\n",
       "      <th>picture</th>\n",
       "      <th>age</th>\n",
       "      <th>eyeColor</th>\n",
       "      <th>name</th>\n",
       "      <th>gender</th>\n",
       "      <th>...</th>\n",
       "      <th>phone</th>\n",
       "      <th>address</th>\n",
       "      <th>about</th>\n",
       "      <th>registered</th>\n",
       "      <th>latitude</th>\n",
       "      <th>longitude</th>\n",
       "      <th>tags</th>\n",
       "      <th>friends</th>\n",
       "      <th>greeting</th>\n",
       "      <th>favoriteFruit</th>\n",
       "    </tr>\n",
       "  </thead>\n",
       "  <tbody>\n",
       "    <tr>\n",
       "      <th>0</th>\n",
       "      <td>6179815d6e8e5559873076e3</td>\n",
       "      <td>0</td>\n",
       "      <td>3a509b67-885d-4bce-b01d-e96aefee0bf7</td>\n",
       "      <td>True</td>\n",
       "      <td>$1,157.12</td>\n",
       "      <td>http://placehold.it/32x32</td>\n",
       "      <td>35</td>\n",
       "      <td>brown</td>\n",
       "      <td>Susanna Reynolds</td>\n",
       "      <td>female</td>\n",
       "      <td>...</td>\n",
       "      <td>+1 (811) 555-3654</td>\n",
       "      <td>482 Danforth Street, Albany, Connecticut, 3698</td>\n",
       "      <td>Do duis dolor ex exercitation esse velit do ex...</td>\n",
       "      <td>2020-09-18T02:20:58 +06:00</td>\n",
       "      <td>3.847462</td>\n",
       "      <td>-3.795569</td>\n",
       "      <td>[cupidatat, proident, aliqua, irure, ut, id, e...</td>\n",
       "      <td>[{'id': 0, 'name': 'Edna Herman'}, {'id': 1, '...</td>\n",
       "      <td>Hello, Susanna Reynolds! You have 3 unread mes...</td>\n",
       "      <td>strawberry</td>\n",
       "    </tr>\n",
       "    <tr>\n",
       "      <th>1</th>\n",
       "      <td>6179815d89fc077e9ced7558</td>\n",
       "      <td>1</td>\n",
       "      <td>5307801a-f651-436c-9dfe-b11ce838e736</td>\n",
       "      <td>True</td>\n",
       "      <td>$3,127.70</td>\n",
       "      <td>http://placehold.it/32x32</td>\n",
       "      <td>39</td>\n",
       "      <td>brown</td>\n",
       "      <td>Chen West</td>\n",
       "      <td>male</td>\n",
       "      <td>...</td>\n",
       "      <td>+1 (978) 488-2004</td>\n",
       "      <td>913 Lorimer Street, Grandview, Hawaii, 8756</td>\n",
       "      <td>Duis enim ex labore esse do. In reprehenderit ...</td>\n",
       "      <td>2016-12-26T08:15:32 +07:00</td>\n",
       "      <td>38.252197</td>\n",
       "      <td>120.615941</td>\n",
       "      <td>[nostrud, dolor, nostrud, ad, voluptate, exerc...</td>\n",
       "      <td>[{'id': 0, 'name': 'Smith Hall'}, {'id': 1, 'n...</td>\n",
       "      <td>Hello, Chen West! You have 10 unread messages.</td>\n",
       "      <td>strawberry</td>\n",
       "    </tr>\n",
       "    <tr>\n",
       "      <th>2</th>\n",
       "      <td>6179815eb522c464e1930ef1</td>\n",
       "      <td>2</td>\n",
       "      <td>014cce4d-906d-42af-bd16-8bb1edcccdd7</td>\n",
       "      <td>True</td>\n",
       "      <td>$2,215.78</td>\n",
       "      <td>http://placehold.it/32x32</td>\n",
       "      <td>36</td>\n",
       "      <td>brown</td>\n",
       "      <td>Nolan Smith</td>\n",
       "      <td>male</td>\n",
       "      <td>...</td>\n",
       "      <td>+1 (814) 491-3162</td>\n",
       "      <td>337 Evans Street, Canoochee, Puerto Rico, 2864</td>\n",
       "      <td>Duis eiusmod officia non ex amet. Laboris et d...</td>\n",
       "      <td>2015-03-21T11:58:12 +06:00</td>\n",
       "      <td>22.379612</td>\n",
       "      <td>-147.970211</td>\n",
       "      <td>[tempor, aliqua, irure, velit, officia, sunt, ...</td>\n",
       "      <td>[{'id': 0, 'name': 'Knight Ward'}, {'id': 1, '...</td>\n",
       "      <td>Hello, Nolan Smith! You have 9 unread messages.</td>\n",
       "      <td>strawberry</td>\n",
       "    </tr>\n",
       "    <tr>\n",
       "      <th>3</th>\n",
       "      <td>6179815ec1d2142de641395f</td>\n",
       "      <td>3</td>\n",
       "      <td>577577a5-fa80-465a-b549-23e805f8e193</td>\n",
       "      <td>False</td>\n",
       "      <td>$3,758.68</td>\n",
       "      <td>http://placehold.it/32x32</td>\n",
       "      <td>33</td>\n",
       "      <td>brown</td>\n",
       "      <td>Morris Sanford</td>\n",
       "      <td>male</td>\n",
       "      <td>...</td>\n",
       "      <td>+1 (960) 427-3102</td>\n",
       "      <td>442 Liberty Avenue, Logan, Illinois, 8643</td>\n",
       "      <td>Non dolor ullamco consectetur qui magna ipsum ...</td>\n",
       "      <td>2018-05-22T06:07:01 +06:00</td>\n",
       "      <td>79.649244</td>\n",
       "      <td>10.848460</td>\n",
       "      <td>[magna, Lorem, ut, consequat, in, magna, eu]</td>\n",
       "      <td>[{'id': 0, 'name': 'Stephenson Charles'}, {'id...</td>\n",
       "      <td>Hello, Morris Sanford! You have 2 unread messa...</td>\n",
       "      <td>apple</td>\n",
       "    </tr>\n",
       "    <tr>\n",
       "      <th>4</th>\n",
       "      <td>6179815e5af1a10268c58f99</td>\n",
       "      <td>4</td>\n",
       "      <td>fe19407d-2e66-4909-9c6e-2327f343ce20</td>\n",
       "      <td>True</td>\n",
       "      <td>$2,454.98</td>\n",
       "      <td>http://placehold.it/32x32</td>\n",
       "      <td>34</td>\n",
       "      <td>green</td>\n",
       "      <td>Jan Rivers</td>\n",
       "      <td>female</td>\n",
       "      <td>...</td>\n",
       "      <td>+1 (990) 478-3221</td>\n",
       "      <td>966 Chase Court, Hartsville/Hartley, Palau, 139</td>\n",
       "      <td>Non aliquip ad magna anim aliquip consequat. C...</td>\n",
       "      <td>2020-10-25T03:39:18 +06:00</td>\n",
       "      <td>21.108885</td>\n",
       "      <td>22.746014</td>\n",
       "      <td>[nulla, Lorem, anim, aliquip, ex, veniam, magna]</td>\n",
       "      <td>[{'id': 0, 'name': 'Katy Wright'}, {'id': 1, '...</td>\n",
       "      <td>Hello, Jan Rivers! You have 9 unread messages.</td>\n",
       "      <td>strawberry</td>\n",
       "    </tr>\n",
       "    <tr>\n",
       "      <th>5</th>\n",
       "      <td>6179815e2aa35c5cc8c6cb59</td>\n",
       "      <td>5</td>\n",
       "      <td>4909fb18-6819-492d-9a09-a124415bea4b</td>\n",
       "      <td>False</td>\n",
       "      <td>$1,723.20</td>\n",
       "      <td>http://placehold.it/32x32</td>\n",
       "      <td>25</td>\n",
       "      <td>green</td>\n",
       "      <td>Terry Hines</td>\n",
       "      <td>female</td>\n",
       "      <td>...</td>\n",
       "      <td>+1 (844) 579-2960</td>\n",
       "      <td>549 Lawrence Avenue, Eden, Wyoming, 5578</td>\n",
       "      <td>Ipsum et eiusmod pariatur pariatur ipsum conse...</td>\n",
       "      <td>2018-07-16T03:44:19 +06:00</td>\n",
       "      <td>-55.206820</td>\n",
       "      <td>-15.667406</td>\n",
       "      <td>[adipisicing, laborum, sit, incididunt, volupt...</td>\n",
       "      <td>[{'id': 0, 'name': 'Adams Jensen'}, {'id': 1, ...</td>\n",
       "      <td>Hello, Terry Hines! You have 1 unread messages.</td>\n",
       "      <td>strawberry</td>\n",
       "    </tr>\n",
       "  </tbody>\n",
       "</table>\n",
       "<p>6 rows × 22 columns</p>\n",
       "</div>"
      ],
      "text/plain": [
       "                        _id  index                                  guid  \\\n",
       "0  6179815d6e8e5559873076e3      0  3a509b67-885d-4bce-b01d-e96aefee0bf7   \n",
       "1  6179815d89fc077e9ced7558      1  5307801a-f651-436c-9dfe-b11ce838e736   \n",
       "2  6179815eb522c464e1930ef1      2  014cce4d-906d-42af-bd16-8bb1edcccdd7   \n",
       "3  6179815ec1d2142de641395f      3  577577a5-fa80-465a-b549-23e805f8e193   \n",
       "4  6179815e5af1a10268c58f99      4  fe19407d-2e66-4909-9c6e-2327f343ce20   \n",
       "5  6179815e2aa35c5cc8c6cb59      5  4909fb18-6819-492d-9a09-a124415bea4b   \n",
       "\n",
       "   isActive    balance                    picture  age eyeColor  \\\n",
       "0      True  $1,157.12  http://placehold.it/32x32   35    brown   \n",
       "1      True  $3,127.70  http://placehold.it/32x32   39    brown   \n",
       "2      True  $2,215.78  http://placehold.it/32x32   36    brown   \n",
       "3     False  $3,758.68  http://placehold.it/32x32   33    brown   \n",
       "4      True  $2,454.98  http://placehold.it/32x32   34    green   \n",
       "5     False  $1,723.20  http://placehold.it/32x32   25    green   \n",
       "\n",
       "               name  gender  ...              phone  \\\n",
       "0  Susanna Reynolds  female  ...  +1 (811) 555-3654   \n",
       "1         Chen West    male  ...  +1 (978) 488-2004   \n",
       "2       Nolan Smith    male  ...  +1 (814) 491-3162   \n",
       "3    Morris Sanford    male  ...  +1 (960) 427-3102   \n",
       "4        Jan Rivers  female  ...  +1 (990) 478-3221   \n",
       "5       Terry Hines  female  ...  +1 (844) 579-2960   \n",
       "\n",
       "                                           address  \\\n",
       "0   482 Danforth Street, Albany, Connecticut, 3698   \n",
       "1      913 Lorimer Street, Grandview, Hawaii, 8756   \n",
       "2   337 Evans Street, Canoochee, Puerto Rico, 2864   \n",
       "3        442 Liberty Avenue, Logan, Illinois, 8643   \n",
       "4  966 Chase Court, Hartsville/Hartley, Palau, 139   \n",
       "5         549 Lawrence Avenue, Eden, Wyoming, 5578   \n",
       "\n",
       "                                               about  \\\n",
       "0  Do duis dolor ex exercitation esse velit do ex...   \n",
       "1  Duis enim ex labore esse do. In reprehenderit ...   \n",
       "2  Duis eiusmod officia non ex amet. Laboris et d...   \n",
       "3  Non dolor ullamco consectetur qui magna ipsum ...   \n",
       "4  Non aliquip ad magna anim aliquip consequat. C...   \n",
       "5  Ipsum et eiusmod pariatur pariatur ipsum conse...   \n",
       "\n",
       "                   registered   latitude   longitude  \\\n",
       "0  2020-09-18T02:20:58 +06:00   3.847462   -3.795569   \n",
       "1  2016-12-26T08:15:32 +07:00  38.252197  120.615941   \n",
       "2  2015-03-21T11:58:12 +06:00  22.379612 -147.970211   \n",
       "3  2018-05-22T06:07:01 +06:00  79.649244   10.848460   \n",
       "4  2020-10-25T03:39:18 +06:00  21.108885   22.746014   \n",
       "5  2018-07-16T03:44:19 +06:00 -55.206820  -15.667406   \n",
       "\n",
       "                                                tags  \\\n",
       "0  [cupidatat, proident, aliqua, irure, ut, id, e...   \n",
       "1  [nostrud, dolor, nostrud, ad, voluptate, exerc...   \n",
       "2  [tempor, aliqua, irure, velit, officia, sunt, ...   \n",
       "3       [magna, Lorem, ut, consequat, in, magna, eu]   \n",
       "4   [nulla, Lorem, anim, aliquip, ex, veniam, magna]   \n",
       "5  [adipisicing, laborum, sit, incididunt, volupt...   \n",
       "\n",
       "                                             friends  \\\n",
       "0  [{'id': 0, 'name': 'Edna Herman'}, {'id': 1, '...   \n",
       "1  [{'id': 0, 'name': 'Smith Hall'}, {'id': 1, 'n...   \n",
       "2  [{'id': 0, 'name': 'Knight Ward'}, {'id': 1, '...   \n",
       "3  [{'id': 0, 'name': 'Stephenson Charles'}, {'id...   \n",
       "4  [{'id': 0, 'name': 'Katy Wright'}, {'id': 1, '...   \n",
       "5  [{'id': 0, 'name': 'Adams Jensen'}, {'id': 1, ...   \n",
       "\n",
       "                                            greeting favoriteFruit  \n",
       "0  Hello, Susanna Reynolds! You have 3 unread mes...    strawberry  \n",
       "1     Hello, Chen West! You have 10 unread messages.    strawberry  \n",
       "2    Hello, Nolan Smith! You have 9 unread messages.    strawberry  \n",
       "3  Hello, Morris Sanford! You have 2 unread messa...         apple  \n",
       "4     Hello, Jan Rivers! You have 9 unread messages.    strawberry  \n",
       "5    Hello, Terry Hines! You have 1 unread messages.    strawberry  \n",
       "\n",
       "[6 rows x 22 columns]"
      ]
     },
     "execution_count": 130,
     "metadata": {},
     "output_type": "execute_result"
    }
   ],
   "source": [
    "#with open(\"generated_data.json\") as gen_json:\n",
    "#   generated_info = json.load(gen_json)\n",
    "#    print (generated_info)\n",
    "\n",
    "\n",
    "generated_data = pd.read_json(\"generated_data.json\")\n",
    "generated_data"
   ]
  },
  {
   "cell_type": "markdown",
   "metadata": {},
   "source": [
    "Since each person might have a different number of friends, instead we want to create a table where one can find a person's friends."
   ]
  },
  {
   "cell_type": "code",
   "execution_count": 131,
   "metadata": {},
   "outputs": [
    {
     "data": {
      "text/plain": [
       "0    [{'id': 0, 'name': 'Edna Herman'}, {'id': 1, '...\n",
       "1    [{'id': 0, 'name': 'Smith Hall'}, {'id': 1, 'n...\n",
       "2    [{'id': 0, 'name': 'Knight Ward'}, {'id': 1, '...\n",
       "3    [{'id': 0, 'name': 'Stephenson Charles'}, {'id...\n",
       "4    [{'id': 0, 'name': 'Katy Wright'}, {'id': 1, '...\n",
       "5    [{'id': 0, 'name': 'Adams Jensen'}, {'id': 1, ...\n",
       "Name: friends, dtype: object"
      ]
     },
     "execution_count": 131,
     "metadata": {},
     "output_type": "execute_result"
    }
   ],
   "source": [
    "generated_friends = pd.Series(generated_data['friends'])\n",
    "generated_friends\n",
    "\n"
   ]
  },
  {
   "cell_type": "markdown",
   "metadata": {},
   "source": [
    "Is there something that may be an issue in this table?"
   ]
  },
  {
   "cell_type": "markdown",
   "metadata": {},
   "source": [
    "The pandas library has methods to `read_json()` and write `to_json()`. Is this any different from reading or writing to and from a csv? If there are differences, when do you think those would happen?"
   ]
  },
  {
   "cell_type": "markdown",
   "metadata": {},
   "source": [
    "## JSON Scavenger Hunt"
   ]
  },
  {
   "cell_type": "markdown",
   "metadata": {},
   "source": [
    "Find and print out the `Treasure` in the nested JSON."
   ]
  },
  {
   "cell_type": "code",
   "execution_count": 132,
   "metadata": {},
   "outputs": [
    {
     "data": {
      "text/html": [
       "<div>\n",
       "<style scoped>\n",
       "    .dataframe tbody tr th:only-of-type {\n",
       "        vertical-align: middle;\n",
       "    }\n",
       "\n",
       "    .dataframe tbody tr th {\n",
       "        vertical-align: top;\n",
       "    }\n",
       "\n",
       "    .dataframe thead th {\n",
       "        text-align: right;\n",
       "    }\n",
       "</style>\n",
       "<table border=\"1\" class=\"dataframe\">\n",
       "  <thead>\n",
       "    <tr style=\"text-align: right;\">\n",
       "      <th></th>\n",
       "      <th>WHO</th>\n",
       "      <th>WEEK</th>\n",
       "    </tr>\n",
       "  </thead>\n",
       "  <tbody>\n",
       "    <tr>\n",
       "      <th>0</th>\n",
       "      <td>Joe</td>\n",
       "      <td>[{'NUMBER': 3, 'EXPENSE': [{'WHAT': 'Beverage'...</td>\n",
       "    </tr>\n",
       "    <tr>\n",
       "      <th>1</th>\n",
       "      <td>Beth</td>\n",
       "      <td>[{'NUMBER': 3, 'EXPENSE': [{'WHAT': 'Beverage'...</td>\n",
       "    </tr>\n",
       "    <tr>\n",
       "      <th>2</th>\n",
       "      <td>Janet</td>\n",
       "      <td>[{'NUMBER': 3, 'EXPENSE': [{'WHAT': 'Car', 'AM...</td>\n",
       "    </tr>\n",
       "  </tbody>\n",
       "</table>\n",
       "</div>"
      ],
      "text/plain": [
       "     WHO                                               WEEK\n",
       "0    Joe  [{'NUMBER': 3, 'EXPENSE': [{'WHAT': 'Beverage'...\n",
       "1   Beth  [{'NUMBER': 3, 'EXPENSE': [{'WHAT': 'Beverage'...\n",
       "2  Janet  [{'NUMBER': 3, 'EXPENSE': [{'WHAT': 'Car', 'AM..."
      ]
     },
     "execution_count": 132,
     "metadata": {},
     "output_type": "execute_result"
    }
   ],
   "source": [
    "df = pd.read_json(\"expenses.json\")\n",
    "df"
   ]
  },
  {
   "cell_type": "code",
   "execution_count": 133,
   "metadata": {},
   "outputs": [
    {
     "name": "stdout",
     "output_type": "stream",
     "text": [
      "[{'WHO': 'Joe', 'WEEK': [{'NUMBER': 3, 'EXPENSE': [{'WHAT': 'Beverage', 'AMOUNT': 18.0}, {'WHAT': 'Food', 'AMOUNT': 12.0}, {'WHAT': 'Food', 'AMOUNT': 19.0}, {'WHAT': 'Car', 'AMOUNT': 20.0}]}, {'NUMBER': 4, 'EXPENSE': [{'WHAT': 'Beverage', 'AMOUNT': 19.0}, {'WHAT': 'Beverage', 'AMOUNT': 16.0}, {'WHAT': 'Food', 'AMOUNT': 17.0}, {'WHAT': 'Food', 'AMOUNT': 17.0}, {'WHAT': 'Beverage', 'AMOUNT': 14.0}]}, {'NUMBER': 5, 'EXPENSE': [{'WHAT': 'Beverage', 'AMOUNT': 14.0}, {'WHAT': 'Food', 'AMOUNT': 12.0}]}]}, {'WHO': 'Beth', 'WEEK': [{'NUMBER': 3, 'EXPENSE': [{'WHAT': 'Beverage', 'AMOUNT': 16.0}]}, {'NUMBER': 4, 'EXPENSE': [{'WHAT': 'Treasure', 'AMOUNT': 0.0}, {'WHAT': 'Beverage', 'AMOUNT': 15.0}]}, {'NUMBER': 5, 'EXPENSE': [{'WHAT': 'Food', 'AMOUNT': 12.0}, {'WHAT': 'Beverage', 'AMOUNT': 20.0}]}]}, {'WHO': 'Janet', 'WEEK': [{'NUMBER': 3, 'EXPENSE': [{'WHAT': 'Car', 'AMOUNT': 19.0}, {'WHAT': 'Food', 'AMOUNT': 18.0}, {'WHAT': 'Beverage', 'AMOUNT': 18.0}]}, {'NUMBER': 4, 'EXPENSE': [{'WHAT': 'Car', 'AMOUNT': 17.0}]}, {'NUMBER': 5, 'EXPENSE': [{'WHAT': 'Beverage', 'AMOUNT': 14.0}, {'WHAT': 'Car', 'AMOUNT': 12.0}, {'WHAT': 'Beverage', 'AMOUNT': 19.0}, {'WHAT': 'Food', 'AMOUNT': 12.0}]}]}]\n"
     ]
    }
   ],
   "source": [
    "with open(\"expenses.json\") as my_json:\n",
    "    nested_json = json.load(my_json)\n",
    "    print (nested_json)"
   ]
  },
  {
   "cell_type": "code",
   "execution_count": null,
   "metadata": {},
   "outputs": [],
   "source": []
  }
 ],
 "metadata": {
  "kernelspec": {
   "display_name": "Python 3 (ipykernel)",
   "language": "python",
   "name": "python3"
  },
  "language_info": {
   "codemirror_mode": {
    "name": "ipython",
    "version": 3
   },
   "file_extension": ".py",
   "mimetype": "text/x-python",
   "name": "python",
   "nbconvert_exporter": "python",
   "pygments_lexer": "ipython3",
   "version": "3.10.6"
  }
 },
 "nbformat": 4,
 "nbformat_minor": 4
}
