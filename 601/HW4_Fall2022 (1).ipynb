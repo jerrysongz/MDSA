{
 "cells": [
  {
   "cell_type": "markdown",
   "id": "d2e74df3",
   "metadata": {},
   "source": [
    "# DATA 601: HW4\n",
    "\n",
    "**Learning Objectives**\n",
    "\n",
    "- Work with realworld datasets that can be represented using tabular data structures.\n",
    "- Gain experience wrangling and organizing data using `pandas`.\n",
    "- Produce visualizations summarizing information from tabular data.\n",
    "\n",
    "_This is an individual homework assignment._ \n",
    "\n",
    "Please complete this homework assignment within the Jupypter notebook environment, and provide your answers where indicated.\n",
    "\n",
    "#### Submission \n",
    "\n",
    "Your submission will be manually tested and graded. In order to ensure that everything goes smoothly, please ensure that: \n",
    "\n",
    "- your notebook runs on the Data Science Hub environment, \n",
    "- you have provided your solutions where asked without altering any other parts of this notebook,\n",
    "\n",
    "_You do not need to submit the datasets provided for this homework._\n"
   ]
  },
  {
   "cell_type": "markdown",
   "id": "71a3d737",
   "metadata": {},
   "source": [
    "## Dataset\n",
    "\n",
    "In this homework, you will be working with a building utility usage dataset that contains usage data for six buildings at the University of Calgary over a period of three years. The data has been made available by the [Office of Sunstainability](https://www.ucalgary.ca/sustainability/campus-learning-lab) at the University of Calgary specifically for use in DATA 601. \n",
    "\n",
    "_Please do not share the data with anyone in any form_.\n",
    "\n",
    "The original data is in excel format and contains a hierarchical index. For this assignment, you will be working with a slightly modified version where the building names have been anonymized and the hierarchical index has been flattended into a [tidy format](https://r4ds.had.co.nz/tidy-data.html). The resulting dataset is available on D2L in CSV format."
   ]
  },
  {
   "cell_type": "markdown",
   "id": "27bff76d",
   "metadata": {},
   "source": [
    "<!-- BEGIN QUESTION -->\n",
    "\n",
    "## TASK 0\n",
    "\n",
    "### Read the Dataset\n",
    "\n",
    "- Please ensure that the data is available to you locally on the machine you are working on. \n",
    "- Read the data using `pandas`, display the head and tail of the data and familiarize yourself with the variables contained in the dataset. "
   ]
  },
  {
   "cell_type": "code",
   "execution_count": null,
   "id": "fdc621a0",
   "metadata": {
    "tags": []
   },
   "outputs": [],
   "source": [
    "# Use this cell to collect package imports\n",
    "\n",
    "..."
   ]
  },
  {
   "cell_type": "code",
   "execution_count": null,
   "id": "2861e9a1",
   "metadata": {
    "tags": []
   },
   "outputs": [],
   "source": [
    "# Read the data into a pandas dataframe and display the head and tail\n",
    "\n",
    "..."
   ]
  },
  {
   "cell_type": "markdown",
   "id": "96f6076f",
   "metadata": {},
   "source": [
    "<!-- END QUESTION -->\n",
    "\n",
    "<!-- BEGIN QUESTION -->\n",
    "\n",
    "## TASK 1\n",
    "\n",
    "### Data Wrangling\n",
    "\n",
    "At this stage, it might be helpful to do some data cleaning and wrangling to facilitate the tasks below. \n",
    "\n",
    "- Ensure that the numerical values are read in properly. If not, please use an appropiate numerical type to represent columns that contain numerical quantities.\n",
    "- The `Date` column contains year, month and day information that needs to be parsed as such so that the data can be inspected at yearly, monthly and daily granularities. There are multiple ways of doing this; one way is to separate the year, month and day out into separate columns. You can also build a hierarchical row index with year, month and day as different levels of the index. \n",
    " \n",
    " You may find [`pandas.to_datetime()`](https://pandas.pydata.org/docs/reference/api/pandas.to_datetime.html) helpful for this task.\n",
    " Please also have a look at the documentation for [`pandas.read_csv()`](https://pandas.pydata.org/docs/reference/api/pandas.read_csv.html). Some helpful type conversions and cleanup can be performed by pandas at the data read stage."
   ]
  },
  {
   "cell_type": "code",
   "execution_count": null,
   "id": "4a9ad8d6",
   "metadata": {
    "tags": []
   },
   "outputs": [],
   "source": [
    "# Use this cell to do any data type conversions. Alternatively, you may want to pass in appropriate \n",
    "# arguments when reading in data above to ensure that the types are inferred correctly.\n",
    "\n",
    "# Do any conversions needed and then print out the `dtypes` for the non-date columns. \n",
    "\n",
    "..."
   ]
  },
  {
   "cell_type": "code",
   "execution_count": null,
   "id": "78225f9b",
   "metadata": {
    "tags": []
   },
   "outputs": [],
   "source": [
    "# Use this cell to do any wrangling on the date column. Then display the resulting dataframe\n",
    "\n",
    "..."
   ]
  },
  {
   "cell_type": "markdown",
   "id": "3c526fe8",
   "metadata": {},
   "source": [
    "<!-- END QUESTION -->\n",
    "\n",
    "<!-- BEGIN QUESTION -->\n",
    "\n",
    "## TASK 2\n",
    "\n",
    "### Exploring the Data for 2019\n",
    "\n",
    "For this task, you will be working with usage data for the year 2019. For the year 2019, manipulate your dataframe to extract and visualize the following information:\n",
    "1. Electricity usage per building for the entire year.\n",
    "2. Total energy usage per building for the entire year. To determine total energy usage, add the variables that are in `kWh` units.\n",
    "3. Box plots showing the daily energy usage (aggregated over the buildings) per month. As in the previous task, add the variables that are in `kWh` units to determine daily totals. \n",
    "\n",
    "For the tasks above where the type visualization is not clearly spelled out,  please choose an appropriate visualization that clearly shows the requested information. Please also ensure that you provide appropriate labels/legends/colorbars so that your visualizations are readable and self-contained."
   ]
  },
  {
   "cell_type": "code",
   "execution_count": null,
   "id": "9e03135d",
   "metadata": {
    "tags": []
   },
   "outputs": [],
   "source": [
    "# Solution for 1.\n",
    "\n",
    "..."
   ]
  },
  {
   "cell_type": "code",
   "execution_count": null,
   "id": "04d40c8f",
   "metadata": {
    "tags": []
   },
   "outputs": [],
   "source": [
    "# Solution for 2.\n",
    "\n",
    "..."
   ]
  },
  {
   "cell_type": "code",
   "execution_count": null,
   "id": "1b1e7ac0",
   "metadata": {
    "tags": []
   },
   "outputs": [],
   "source": [
    "# Solution for 3.\n",
    "\n",
    "..."
   ]
  },
  {
   "cell_type": "markdown",
   "id": "f2ba2147",
   "metadata": {},
   "source": [
    "<!-- END QUESTION -->\n",
    "\n",
    "<!-- BEGIN QUESTION -->\n",
    "\n",
    "## TASK 3\n",
    "\n",
    "### Exploring trends over time\n",
    "\n",
    "You may approach this task however you see fit. We expect appropriate use of visualizations and summary statistics, and textual explanations of your approach and findings following your code.\n",
    "\n",
    "Consider the energy usage for each building over the entire timeframe available. Address the following questions:\n",
    "- How does use of natural gas and electricity compare between buildings? Comment on magnitude and variance of usage.\n",
    "- Can you identify any impacts of the pandemic on energy usage? Reflect on why/why not."
   ]
  },
  {
   "cell_type": "code",
   "execution_count": 3,
   "id": "244479a3",
   "metadata": {},
   "outputs": [
    {
     "data": {
      "text/plain": [
       "Ellipsis"
      ]
     },
     "execution_count": 3,
     "metadata": {},
     "output_type": "execute_result"
    }
   ],
   "source": [
    "# Solution for 1.\n",
    "\n",
    "..."
   ]
  },
  {
   "cell_type": "code",
   "execution_count": 4,
   "id": "c001b9fe",
   "metadata": {},
   "outputs": [
    {
     "data": {
      "text/plain": [
       "Ellipsis"
      ]
     },
     "execution_count": 4,
     "metadata": {},
     "output_type": "execute_result"
    }
   ],
   "source": [
    "# Solution for 2.\n",
    "\n",
    "..."
   ]
  },
  {
   "cell_type": "code",
   "execution_count": null,
   "id": "add5eb89",
   "metadata": {},
   "outputs": [],
   "source": []
  },
  {
   "cell_type": "markdown",
   "id": "d0b4ecd2",
   "metadata": {},
   "source": [
    "<!-- END QUESTION -->"
   ]
  },
  {
   "cell_type": "markdown",
   "id": "b56c7559",
   "metadata": {},
   "source": [
    "<!-- END QUESTION -->\n",
    "\n"
   ]
  }
 ],
 "metadata": {
  "kernelspec": {
   "display_name": "Python 3 (ipykernel)",
   "language": "python",
   "name": "python3"
  },
  "language_info": {
   "codemirror_mode": {
    "name": "ipython",
    "version": 3
   },
   "file_extension": ".py",
   "mimetype": "text/x-python",
   "name": "python",
   "nbconvert_exporter": "python",
   "pygments_lexer": "ipython3",
   "version": "3.10.6"
  },
  "otter": {
   "OK_FORMAT": true,
   "tests": {}
  }
 },
 "nbformat": 4,
 "nbformat_minor": 5
}
