{
 "cells": [
  {
   "cell_type": "code",
   "execution_count": 79,
   "id": "6bd69ae8-04ee-414d-86cb-928e43dbad32",
   "metadata": {},
   "outputs": [
    {
     "name": "stdout",
     "output_type": "stream",
     "text": [
      "(0, 1)\n",
      "[0, 1, 0, 1, 0, 1]\n",
      "[0, 1, 2]\n",
      "16\n",
      "[(0, 0, 0, 0), (0, 0, 0, 1), (0, 0, 1, 0), (0, 0, 1, 1), (0, 1, 0, 0), (0, 1, 0, 1), (0, 1, 1, 0), (0, 1, 1, 1), (1, 0, 0, 0), (1, 0, 0, 1), (1, 0, 1, 0), (1, 0, 1, 1), (1, 1, 0, 0), (1, 1, 0, 1), (1, 1, 1, 0), (1, 1, 1, 1)]\n"
     ]
    }
   ],
   "source": [
    "import itertools\n",
    "\n",
    "l1 = [0,1]\n",
    "l2 = ['X', 'Y', 'Z']\n",
    "print(tuple(l1))\n",
    "print(l1*3)\n",
    "print([i for i in range(3)])\n",
    "p = sorted(set(itertools.product(l1, repeat=4)))\n",
    "print(len(p))\n",
    "print(p)"
   ]
  },
  {
   "cell_type": "code",
   "execution_count": 68,
   "id": "49d36751-9cfe-43f6-bc6f-e72e8cd9d396",
   "metadata": {},
   "outputs": [],
   "source": [
    "def product1(*args, repeat=1):\n",
    "    pools = [tuple(pool) for pool in args] * repeat\n",
    "    result = [[]]\n",
    "    thing = []\n",
    "    for pool in pools:\n",
    "        result = [x+[y] for x in result for y in pool]\n",
    "    for prod in result:\n",
    "        thing.append(tuple(prod))\n",
    "    return thing"
   ]
  },
  {
   "cell_type": "code",
   "execution_count": null,
   "id": "ea4cc958-418f-4382-baf6-c072a40b198e",
   "metadata": {},
   "outputs": [],
   "source": [
    "def myproduct(*args,repeat):\n",
    "    r = []\n",
    "    result = [[]]\n",
    "    tup = tuple(args)\n",
    "    for i in range(repeat):\n",
    "        r.append(tup)\n",
    "    for ts in r:\n",
    "        for x in result:\n",
    "            for y in r:\n",
    "                result = [x+[y]]\n",
    "    r = []\n",
    "    for thing in result:\n",
    "        r.append(tuple(thing))\n",
    "    return r\n",
    "        \n",
    "        \n",
    "        "
   ]
  },
  {
   "cell_type": "code",
   "execution_count": null,
   "id": "e081a72b-7c35-4b02-8e27-e3ced26636d7",
   "metadata": {},
   "outputs": [
    {
     "name": "stdout",
     "output_type": "stream",
     "text": [
      "[(([0, 1],), ([0, 1],), ([0, 1],))]\n"
     ]
    }
   ],
   "source": [
    "print(myproduct([0,1],repeat=3))"
   ]
  },
  {
   "cell_type": "code",
   "execution_count": 89,
   "id": "a0369ff6-e51d-4f46-972e-498d51bef467",
   "metadata": {},
   "outputs": [],
   "source": [
    "def product(*args, repeat=1):\n",
    "    print(args)\n",
    "    for pool in args:\n",
    "        print(pool)\n",
    "        print(type(pool))\n",
    "    pools = [tuple(pool) for pool in args] * repeat\n",
    "    print(pools)\n",
    "    result = [[]]\n",
    "    thing = []\n",
    "    for pool in pools:\n",
    "        result = [x+[y] for x in result for y in pool]\n",
    "        print(result)\n",
    "    for prod in result:\n",
    "        thing.append(tuple(prod))\n",
    "    return thing\n"
   ]
  },
  {
   "cell_type": "code",
   "execution_count": 107,
   "id": "645293be-e20e-470c-bd1f-b4271c7ac9d8",
   "metadata": {},
   "outputs": [
    {
     "name": "stdout",
     "output_type": "stream",
     "text": [
      "([0, 1],)\n",
      "<class 'tuple'>\n",
      "[0, 1]\n",
      "<class 'list'>\n",
      "[(0, 1), (0, 1), (0, 1)]\n",
      "[[0], [1]]\n",
      "[[0, 0], [0, 1], [1, 0], [1, 1]]\n",
      "[[0, 0, 0], [0, 0, 1], [0, 1, 0], [0, 1, 1], [1, 0, 0], [1, 0, 1], [1, 1, 0], [1, 1, 1]]\n",
      "{(1, 0, 1), (1, 1, 0), (0, 1, 0), (0, 0, 0), (1, 0, 0), (0, 0, 1), (1, 1, 1), (0, 1, 1)}\n"
     ]
    }
   ],
   "source": [
    "print(set(product([0,1],repeat=3)))"
   ]
  },
  {
   "cell_type": "code",
   "execution_count": 96,
   "id": "ed56b7a7-e513-464b-8187-87632f117b92",
   "metadata": {},
   "outputs": [
    {
     "name": "stdout",
     "output_type": "stream",
     "text": [
      "0 1\n",
      "[[1, 2, 3], 4]\n"
     ]
    }
   ],
   "source": [
    "print(*l1)\n",
    "a =[[1]+[2]+[3]] + [4]\n",
    "print(a)"
   ]
  },
  {
   "cell_type": "code",
   "execution_count": 23,
   "id": "d130fe97-2ab1-4497-9a0e-cc72121a012c",
   "metadata": {},
   "outputs": [
    {
     "data": {
      "text/plain": [
       "0"
      ]
     },
     "execution_count": 23,
     "metadata": {},
     "output_type": "execute_result"
    }
   ],
   "source": [
    "def calc(*numbers):\n",
    "\tsum = 0\n",
    "\tfor i in numbers:\n",
    "\t\tsum = sum + i**2\n",
    "\treturn sum\n",
    "calc()"
   ]
  },
  {
   "cell_type": "code",
   "execution_count": 5,
   "id": "8b49775d-221c-42ac-a7bc-28e64569fb4b",
   "metadata": {},
   "outputs": [
    {
     "name": "stdout",
     "output_type": "stream",
     "text": [
      "0 1 2\n",
      "[0, 1, 2]\n",
      "0 1 2\n"
     ]
    }
   ],
   "source": [
    "print(*l1)\n",
    "print(l1)\n",
    "print(0,1,2)"
   ]
  },
  {
   "cell_type": "code",
   "execution_count": 29,
   "id": "d625159e-198f-403a-96cd-484f75676083",
   "metadata": {},
   "outputs": [
    {
     "name": "stdout",
     "output_type": "stream",
     "text": [
      "2 1\n",
      "<class 'int'>\n",
      "2, 1, 3, 4, 7, 11, 18\n"
     ]
    }
   ],
   "source": [
    "numbers = [2, 1, 3, 4, 7]\n",
    "more_numbers = [*numbers, 11, 18]\n",
    "print(more_numbers[0],more_numbers[1])\n",
    "print(type(more_numbers[0]))\n",
    "print(*more_numbers, sep=', ')\n"
   ]
  },
  {
   "cell_type": "code",
   "execution_count": 115,
   "id": "9fa982c5-6bdb-4b9e-be8b-afe00b22883d",
   "metadata": {},
   "outputs": [
    {
     "data": {
      "image/png": "[encoded data removed]",
      "text/plain": [
       "<Figure size 640x480 with 1 Axes>"
      ]
     },
     "metadata": {},
     "output_type": "display_data"
    }
   ],
   "source": [
    "import matplotlib.pyplot as plt\n",
    "plt.plot([1,2,3,4], [1,4,9,16])\n",
    "plt.axis([0, 6, 0, 20])\n",
    "plt.show()"
   ]
  },
  {
   "cell_type": "code",
   "execution_count": 118,
   "id": "265b2d95-5262-4adc-a126-f965f88b47da",
   "metadata": {},
   "outputs": [
    {
     "name": "stdout",
     "output_type": "stream",
     "text": [
      "[0.0, 0.2, 0.4, 0.6000000000000001, 0.8, 1.0, 1.2000000000000002, 1.4000000000000001, 1.6, 1.8, 2.0, 2.2, 2.4000000000000004, 2.6, 2.8000000000000003, 3.0, 3.2, 3.4000000000000004, 3.6, 3.8000000000000003, 4.0, 4.2, 4.4, 4.6000000000000005, 4.800000000000001]\n"
     ]
    },
    {
     "data": {
      "image/png": "[encoded data removed]",
      "text/plain": [
       "<Figure size 640x480 with 1 Axes>"
      ]
     },
     "metadata": {},
     "output_type": "display_data"
    }
   ],
   "source": [
    "import numpy as np\n",
    "import matplotlib.pyplot as plt\n",
    "\n",
    "# evenly sampled time at 200ms intervals\n",
    "t = np.arange(0., 5., 0.2)\n",
    "\n",
    "# red dashes, blue squares and green triangles\n",
    "plt.plot(t, t, 'r--', t, t**2, 'bs', t, t**3, 'g^')\n",
    "#plt.show()\n",
    "print([x for x in t])"
   ]
  },
  {
   "cell_type": "code",
   "execution_count": 120,
   "id": "3a7abf7e-97f3-41a3-ae45-67dcf87bd921",
   "metadata": {},
   "outputs": [
    {
     "data": {
      "text/plain": [
       "0"
      ]
     },
     "execution_count": 120,
     "metadata": {},
     "output_type": "execute_result"
    }
   ],
   "source": [
    "9%3"
   ]
  },
  {
   "cell_type": "code",
   "execution_count": 122,
   "id": "3ec3d615-0791-4cb6-a7fd-cea1901786b6",
   "metadata": {},
   "outputs": [
    {
     "name": "stdout",
     "output_type": "stream",
     "text": [
      "[0, 0, 0, 22]\n"
     ]
    }
   ],
   "source": [
    "a = [(lambda x : x*2 if (x > 10) else 0)(x) for x in [8,9,10,11]]\n",
    "print(a)"
   ]
  },
  {
   "cell_type": "code",
   "execution_count": null,
   "id": "44d7fcdc-4435-46aa-b3b3-86784c0560b6",
   "metadata": {},
   "outputs": [],
   "source": []
  }
 ],
 "metadata": {
  "kernelspec": {
   "display_name": "Python 3 (ipykernel)",
   "language": "python",
   "name": "python3"
  },
  "language_info": {
   "codemirror_mode": {
    "name": "ipython",
    "version": 3
   },
   "file_extension": ".py",
   "mimetype": "text/x-python",
   "name": "python",
   "nbconvert_exporter": "python",
   "pygments_lexer": "ipython3",
   "version": "3.10.5"
  }
 },
 "nbformat": 4,
 "nbformat_minor": 5
}
