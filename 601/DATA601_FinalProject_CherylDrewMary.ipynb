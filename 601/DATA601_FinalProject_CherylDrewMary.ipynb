{
 "cells": [
  {
   "cell_type": "markdown",
   "metadata": {
    "slideshow": {
     "slide_type": "slide"
    }
   },
   "source": [
    "# CRIME STATISTICS DATA ANALYTICS\n",
    "## Data Exploration via visualization\n",
    "\n",
    "** **\n",
    "** **\n",
    "### DATA 601: Fall 2018 \n",
    "\n",
    "\n",
    "** By **\n",
    "** Cheryl Kwong, Drew Anweiler, Mary Sarafraz ** \n",
    "** **\n",
    "** **"
   ]
  },
  {
   "cell_type": "code",
   "execution_count": 1,
   "metadata": {
    "slideshow": {
     "slide_type": "slide"
    }
   },
   "outputs": [
    {
     "ename": "NameError",
     "evalue": "name 'HTML' is not defined",
     "output_type": "error",
     "traceback": [
      "\u001b[0;31m---------------------------------------------------------------------------\u001b[0m",
      "\u001b[0;31mNameError\u001b[0m                                 Traceback (most recent call last)",
      "Input \u001b[0;32mIn [1]\u001b[0m, in \u001b[0;36m<cell line: 1>\u001b[0;34m()\u001b[0m\n\u001b[0;32m----> 1\u001b[0m \u001b[43mHTML\u001b[49m(\u001b[38;5;124m'''\u001b[39m\u001b[38;5;124m<script>\u001b[39m\n\u001b[1;32m      2\u001b[0m \u001b[38;5;124mcode_show=true; \u001b[39m\n\u001b[1;32m      3\u001b[0m \u001b[38;5;124mfunction code_toggle() \u001b[39m\u001b[38;5;124m{\u001b[39m\n\u001b[1;32m      4\u001b[0m \u001b[38;5;124m if (code_show)\u001b[39m\u001b[38;5;124m{\u001b[39m\n\u001b[1;32m      5\u001b[0m \u001b[38;5;124m $(\u001b[39m\u001b[38;5;124m'\u001b[39m\u001b[38;5;124mdiv.input\u001b[39m\u001b[38;5;124m'\u001b[39m\u001b[38;5;124m).hide();\u001b[39m\n\u001b[1;32m      6\u001b[0m \u001b[38;5;124m } else \u001b[39m\u001b[38;5;124m{\u001b[39m\n\u001b[1;32m      7\u001b[0m \u001b[38;5;124m $(\u001b[39m\u001b[38;5;124m'\u001b[39m\u001b[38;5;124mdiv.input\u001b[39m\u001b[38;5;124m'\u001b[39m\u001b[38;5;124m).show();\u001b[39m\n\u001b[1;32m      8\u001b[0m \u001b[38;5;124m }\u001b[39m\n\u001b[1;32m      9\u001b[0m \u001b[38;5;124m code_show = !code_show\u001b[39m\n\u001b[1;32m     10\u001b[0m \u001b[38;5;124m} \u001b[39m\n\u001b[1;32m     11\u001b[0m \u001b[38;5;124m$( document ).ready(code_toggle);\u001b[39m\n\u001b[1;32m     12\u001b[0m \u001b[38;5;124m</script>\u001b[39m\n\u001b[1;32m     13\u001b[0m \u001b[38;5;124mThe raw code for this IPython notebook is by default hidden for easier reading.\u001b[39m\n\u001b[1;32m     14\u001b[0m \u001b[38;5;124mTo toggle on/off the raw code, click <a href=\u001b[39m\u001b[38;5;124m\"\u001b[39m\u001b[38;5;124mjavascript:code_toggle()\u001b[39m\u001b[38;5;124m\"\u001b[39m\u001b[38;5;124m>here</a>.\u001b[39m\u001b[38;5;124m'''\u001b[39m)\n",
      "\u001b[0;31mNameError\u001b[0m: name 'HTML' is not defined"
     ]
    }
   ],
   "source": [
    "HTML('''<script>\n",
    "code_show=true; \n",
    "function code_toggle() {\n",
    " if (code_show){\n",
    " $('div.input').hide();\n",
    " } else {\n",
    " $('div.input').show();\n",
    " }\n",
    " code_show = !code_show\n",
    "} \n",
    "$( document ).ready(code_toggle);\n",
    "</script>\n",
    "The raw code for this IPython notebook is by default hidden for easier reading.\n",
    "To toggle on/off the raw code, click <a href=\"javascript:code_toggle()\">here</a>.''')"
   ]
  },
  {
   "cell_type": "markdown",
   "metadata": {
    "slideshow": {
     "slide_type": "slide"
    }
   },
   "source": [
    "## Introduction\n",
    "\n",
    "Crime isn't a topic most people want to use mental energy to think about. We want to avoid harm, protect our loved ones, and hold on to what we claim is ours. So how do we remain vigilant without digging too deep into the filth that is crime? Data, of course. The focus of our study is to explore possible trends between crime and communities in the city of Calgary. Our purpose is visualize Calgary criminal behaviour in order to help increase awareness for both citizens and law enforcement. Through the use of our visuals, individuals can make more informed decisions to improve the overall safety of their lives. Some of the main concerns of the study include: how crime rates increase with population, which areas in Calgary have the most crime, and if crime adheres to time-sensative patterns.\n",
    "\n",
    "\n"
   ]
  },
  {
   "cell_type": "markdown",
   "metadata": {
    "slideshow": {
     "slide_type": "slide"
    }
   },
   "source": [
    "## Dataset\n",
    "\n",
    "The dataset of interest is called Community Crime Statistics, and it's under the domain of the City of Calgary Police server. The domain provides information on the type of reported crimes dating back from January 1, 2012 to September 18, 2018. The crime statistics and Calgary shapefile datasets were obtained from the Open Calgary public data portal. Permission to use the data is obtained through consenting to the terms of use under this license https://data.calgary.ca/d/Open-Data-Terms/u45n-7awa. The dataset format provides information about the crime type, date, frequency of crime, resident count, sector and neighborhood. \n",
    "\n",
    "Community information is tabulated through the columns Sector, Community Name, and Resident Count. \n",
    "The Sector column describes the quadrant that the neighborhood is situated in. Community Name provides the location as to where the incident occurred. These locations are also in the form of longitude and latitude coordinates, which indicate the center point of each community. Resident Count is the number of citizens residing in a community; a value obtained from the Civic Census of that year.  \n",
    "\n",
    "Criminal activity is described in the Crime Count, Date, ID, and Category columns. Date indicates the first day of that month and year when the incident occurred. Additionally, month and year data can be found in the columns Month and Year. Category types include: Assault (non-domestic), Commercial Break & Enter, Commercial Robbery, Physical Disorder, Residential Break & Enter, Social Disorder, Street Robbery, Theft FROM Vehicle, Theft OF Vehicle, Violence ‘Other’ (Non-domestic). Crime Count is based on the most serious violation per incident. (Open Calgary, 2018, online)\n",
    "\n"
   ]
  },
  {
   "cell_type": "markdown",
   "metadata": {
    "slideshow": {
     "slide_type": "slide"
    }
   },
   "source": [
    "## Guiding Questions\n",
    "\n",
    "The guiding questions proposed for this study were generated with the generalization that civilians and law enforcement will find the data useful for their own purposes. In respect to residents, the visuals may aid in their decision about the community they want to move to or continue to reside in. They may also want additional insight regarding criminal behaviour in the city, over time. From this insight, they can take proper precautionary measures by learning what kinds of crime frequently occur in their area. Alternatively, police may find the data useful in preventing crimes by studying the trends of areas with denser crime activities and the change in crime rates over time. The following are our guiding questions:\n",
    "\n",
    "** 1.\tHow does the crime distribution change over time? **\n",
    "\n",
    "If there is a pattern of crime over certain time periods, then it may benefit police to study said pattern. If crime rates increase during certain time periods, then law enforcement may want alter officer schedules to counteract those trends.\n",
    "\n",
    "** 2.\tWhat’s the frequency of the crimes by category? **\n",
    "\n",
    "Presenting the frequency of certain crime types may prepare residents and police to better responds during certain crises. Studying crime types may expose if there are more an increase of activity or variety in certain areas during different times such as deteriorating economy. \n",
    "\n",
    "** 3.\tIs the amount of crime affected by population? **\n",
    "\n",
    "Showing the crime rate (crime per resident) by neighbourhood can help evaluate the risk for individuals. \n",
    "\n",
    "** 4.\tHow is crime distributed throughout the city? **\n",
    "\n",
    "Presenting the trend by community helps residents monitor the safety of their neighbourhood and allows police to allocate resources to deteriorating communities.\n",
    "\n",
    "\n",
    "To answer our guiding questions, we will use Python within the Jupyter notebook environment to create visualizations of the dataset. The main software libraries we’ll be importing are Geopandas, Pandas and Matplotlib. Because the dataset provided has been pre-cleaned by the source, minimum cleaning will be required.\n",
    "\n"
   ]
  },
  {
   "cell_type": "code",
   "execution_count": null,
   "metadata": {},
   "outputs": [],
   "source": []
  },
  {
   "cell_type": "code",
   "execution_count": null,
   "metadata": {
    "slideshow": {
     "slide_type": "slide"
    }
   },
   "outputs": [],
   "source": [
    "# we have imported all the libraries here:\n",
    "import matplotlib.pyplot as plt\n",
    "\n",
    "import geopandas as gpd\n",
    "import matplotlib as mpl\n",
    "mpl.style.use('ggplot')\n",
    "\n",
    "import numpy as np\n",
    "import pandas as pd\n",
    "import datetime as dt\n",
    "from IPython.display import Image\n",
    "from IPython.display import HTML\n",
    "\n",
    "import plotly.plotly as py\n",
    "import plotly.offline as plotly\n",
    "import plotly.graph_objs as go\n",
    "plotly.init_notebook_mode(connected=True)\n",
    "\n",
    "mpl.rcParams['figure.dpi']= 96\n",
    "mpl.style.use('ggplot')\n",
    "import csv\n",
    "import warnings\n",
    "warnings.filterwarnings('ignore')  \n"
   ]
  },
  {
   "cell_type": "markdown",
   "metadata": {
    "slideshow": {
     "slide_type": "slide"
    },
    "tags": []
   },
   "source": [
    "## Data Wrangling\n",
    "\n",
    "Our data set was relatively clean. We encountered a few minor text formatting issues with the Violent crime category and zero resident count. Only a small amount of cleaning and wrangling was required to obtain our visualizations. Our cleaning and wrangling activities included:\n",
    "\n",
    "1. Filtering incomplete data:\n",
    "    The 2018 census has not been completed so the data set does not include up to date resident count for the current year.\n",
    "2. Data type conversion:\n",
    "    We have converted Year and Month from string to year and month. \n",
    "3. Clean up category with extra characters to make sure we don't have duplicate categories.\n",
    "4. Deleting of columns:\n",
    "    The ID column is a unique identifier of each row which does not provide any statistical information.\n",
    "    Date Column includes the first day of the month which includes the same information as Year and Month columns. \n",
    "5. Manipulating data frame:\n",
    "    Organize the data frames grouped by Sector, Community Name, Category or Year to generate respective visualizations."
   ]
  },
  {
   "cell_type": "code",
   "execution_count": null,
   "metadata": {},
   "outputs": [],
   "source": [
    "# Read Data\n",
    "\n",
    "dataset = pd.read_csv(\"Community_Crime_Statistics.csv\") # Read data from data.calgary.ca - Calgary Crime Statistics\n",
    "map_df = gpd.read_file(\"calgarycommunities.shp\") # Read shapefile into jupyter and geopandas"
   ]
  },
  {
   "cell_type": "code",
   "execution_count": null,
   "metadata": {},
   "outputs": [],
   "source": [
    "# Data Wrangling\n",
    "\n",
    "display(dataset.head(),\"Raw Data\") # Raw data table\n",
    "display(dataset.describe(), \"Statistical Information from Raw Data\") # Describe information from raw data\n",
    "display(map_df.head(),\"Choropleth Shapefile Data\") # Shapefile data\n",
    "display(map_df.describe(), \"Statistical Information from Shapefile Data\") # Describe information from shapefile data\n",
    "\n",
    "# Remove incomplete data: remove all resident count that is zero and special\n",
    "# characters that were only found in the 2018 data. So main focus of the \n",
    "# study will be years 2012 to 2018\n",
    "\n",
    "#Data type conversion\n",
    "dataset['Date'] = pd.to_datetime(dataset['Date'],format='%m/%d/%Y %I:%M:%S %p')\n",
    "dataset['Month'] = dataset['Date'].dt.month # Convert month column to numbers to keep sorted order\n",
    "dataset['Year'] = dataset['Date'].dt.year\n",
    "\n",
    "#clean up category with extra characters to make sure we don't have duplicate categories\n",
    "dataset.Category.replace(\"Violence\\xa0 'Other' (Non-domestic)\", \"Violence 'Other' (Non-domestic)\", inplace=True)\n",
    "\n",
    "#Drop unwanted columns\n",
    "dataset = dataset.drop('ID',axis=1)\n",
    "dataset = dataset.drop(['Date'],axis=1)\n",
    "\n",
    "cdata = dataset[dataset['Year']!=2018]\n",
    "\n",
    "display(cdata.head(),\"Cleaned Data\") # Display cleaned table\n",
    "display(cdata.drop(['Year','Month'],axis=1).describe(exclude=[np.object]), \"Statistical information from cleaned data\") # Describe information from clean data\n"
   ]
  },
  {
   "cell_type": "markdown",
   "metadata": {},
   "source": [
    "### How the crime distribution is changing over time? \n",
    "\n",
    "We can analyze crime on both monthly and yearly levels, which are:\n",
    "\n",
    "- Crime rate trend over years\n",
    "- Crime count pattern and trend over months\n",
    "\n",
    "In the first part of our analysis we look at the Crime rate trend over years\n",
    "To have a standard measure to compare yearly data we use crime rate.\n",
    "The crime rate is calculated by dividing the number of reported crimes by the total population; the result is multiplied by 100,000. For example, in 2010 there were 58,100 robberies in California and the population was 38,826,898. This equals a robbery crime rate of 149.6 per 100,000 general population."
   ]
  },
  {
   "cell_type": "code",
   "execution_count": null,
   "metadata": {},
   "outputs": [],
   "source": [
    "#Specific data wrangling for analysis, droped the unwanted columns\n",
    "#cdata.drop('Community Center Point',axis=1)\n",
    "tdata = cdata.drop(['Community Center Point','Community Name','Month'],axis=1)\n",
    "\n",
    "# Calculate yearly total crime rate: group by Year then calculate sum of Crime Count and Resident Count  \n",
    "cyeardata = tdata.groupby(['Year']).agg({'Crime Count':'sum','Resident Count':'sum'})\n",
    "# crime rate formula\n",
    "cyeardata['Crime Rate'] = (cyeardata['Crime Count']/cyeardata['Resident Count'])*100000\n",
    "\n",
    "display(cyeardata.head(),\"cyeardata\")\n"
   ]
  },
  {
   "cell_type": "code",
   "execution_count": null,
   "metadata": {},
   "outputs": [],
   "source": [
    "#plot Yearly crime rate\n",
    "fig = plt.figure()\n",
    "ax=fig.add_subplot(1,1,1)\n",
    "cyeardata['Crime Rate'].plot(kind='line',ax=ax,figsize=(8,6))\n",
    "\n",
    "# label\n",
    "ax.set_title('Yearly Total Crime Rate')\n",
    "ax.set_ylabel('Crime Rate')\n",
    "ax.set_xlabel('Year')\n",
    "\n",
    "fig.savefig('Yearly Total Crime Rate')"
   ]
  },
  {
   "cell_type": "markdown",
   "metadata": {},
   "source": [
    "This graph shows\n",
    "- The crime rate has gone up and down since 2012 but generally, it had an increasing trend. \n",
    "- Even though the crime rate had an increasing trend, it has decreased from 2016 to 2017. We can interpret this as the strategies police have applied were effective and the city has become safer.\n",
    "- Crime rate can also be related to the recession because there is a spike in crime rate in 2016.\n",
    "\n",
    "Additionally, we can compare the crime rate by city sectors, as shown in the following graph, to see if all sectors in Calgary follow the same pattern over the last 6 years. "
   ]
  },
  {
   "cell_type": "code",
   "execution_count": null,
   "metadata": {},
   "outputs": [],
   "source": [
    "# To calculate yearly crime rate per sector, group by sector and year then aggregate  crime Count and Resident Count \n",
    "cyearsdata = tdata.groupby(['Sector','Year']).agg({'Crime Count':'sum','Resident Count':'sum'})\n",
    "\n",
    "# apply swaplevel to be able to calculate crime rate\n",
    "cyearsdata=cyearsdata.swaplevel(0, 1, axis=0)\n",
    "\n",
    "#display(cyearsdata.head())\n",
    "\n",
    "# calculate Crime Rate\n",
    "cyearsdata['Crime Rate'] = (cyearsdata['Crime Count']/cyearsdata['Resident Count'])*100000\n",
    "\n",
    "display(cyearsdata['Crime Rate'].unstack('Sector').head(),\"Unstaked_cyearcdata\")\n",
    "\n",
    "#Plot the results\n",
    "fig = plt.figure()\n",
    "ax=fig.add_subplot(1,1,1)\n",
    "cyearsdata['Crime Rate'].unstack('Sector').plot(kind='line',ax=ax,figsize=(8,12),colormap='tab10')\n",
    "\n",
    "# label\n",
    "ax.set_title('Yearly Crime Rate Per Sector')\n",
    "ax.set_ylabel('Crime Rate')\n",
    "ax.set_xlabel('Year')\n",
    "plt.legend(bbox_to_anchor=(1.0,1.0))\n",
    "\n",
    "fig.savefig('Yearly crime rate per sector')\n",
    "plt.show()"
   ]
  },
  {
   "cell_type": "markdown",
   "metadata": {},
   "source": [
    "- Breaking down the yearly trends by sector shows that most city sectors follow similar trends, but the overall trend for the city is mostly driven by the Center sector because of the high volume of crime in this sector.\n",
    "- The graph also highlihts that City center and East sectors consistnetly show a higher crime rate.\n",
    "- Furthermore, this graph shows that the North sector doesn't follow the overall trend and it has become safer over the last 6 years. \n",
    "\n",
    "In the next section, we analyze the trend of each crime category over the last 6 years.  "
   ]
  },
  {
   "cell_type": "code",
   "execution_count": null,
   "metadata": {},
   "outputs": [],
   "source": [
    "# To calculate yearly crime rate per category, group by category and year then aggregate crime Count and Resident Count\n",
    "cyearcdata = tdata.groupby(['Category','Year']).agg({'Crime Count':'sum','Resident Count':'sum'})\n",
    "cyearcdata = cyearcdata.swaplevel(0,1, axis=0)\n",
    "\n",
    "\n",
    "# calculate Crime Rate\n",
    "cyearcdata['Crime Rate'] = (cyearcdata['Crime Count']/cyearcdata['Resident Count'])*100000\n",
    "\n",
    "cyearcdata=cyearcdata.swaplevel(0,1, axis=0)\n",
    "display(cyearcdata.head(),\"cyearcdata\")\n",
    "\n",
    "#Plot data\n",
    "fig = plt.figure()\n",
    "ax=fig.add_subplot(1,1,1)\n",
    "cyearcdata['Crime Rate'].unstack('Category').plot(kind='line',ax=ax,figsize=(12,20),colormap='tab10')\n",
    "\n",
    "#label\n",
    "ax.set_title('Yearly Crime Rate Per Category')\n",
    "ax.set_ylabel('Crime Rate')\n",
    "ax.set_xlabel('Year')\n",
    "plt.legend(bbox_to_anchor=(1.0,1.0))\n",
    "\n",
    "fig.savefig('Yearly Crime Rate Per Category')\n",
    "plt.show()"
   ]
  },
  {
   "cell_type": "markdown",
   "metadata": {},
   "source": [
    "- As we can see from this graph, Social disorder and Thief from vehicle follow the general trend, but Assault, Commercial rubbery, Street rubbery, and Violence do not follow this trend. \n",
    "- Another observation is that while most crime categories have increased over time or stayed flat, Physical disorder has decreased over the last 6 years.\n",
    "\n",
    "In the second part of our analysis, we look at the Crime frequency patterns over months.\n",
    "In our analyses, the Crime frequency is defined by the sum of crime counts.\n",
    "First, we look at the sum of monthly crime counts over the years 2012 to 2017. Then we break this down by year and analyze the changes in the monthly pattern over this period."
   ]
  },
  {
   "cell_type": "code",
   "execution_count": null,
   "metadata": {},
   "outputs": [],
   "source": [
    "# Data Wrangling Crime frequency patterns over months\n",
    "timecdata = cdata.drop(['Community Center Point','Community Name','Resident Count'],axis=1)\n",
    "\n",
    "# to get yearly total monthly crime count, group by month and Year, then sum  Crime count\n",
    "monthyearcdata = timecdata.groupby(['Month','Year']).agg('sum')\n",
    "display(monthyearcdata.head(5),\"monthyearcdata\")\n",
    "\n",
    "# to get total monthly crime count over the years , unstack Year column and sum over it\n",
    "monthyearcdata = monthyearcdata.unstack('Year')\n",
    "monthlycdata = monthyearcdata.sum(axis=1)\n",
    "display(monthlycdata)"
   ]
  },
  {
   "cell_type": "code",
   "execution_count": null,
   "metadata": {},
   "outputs": [],
   "source": [
    "fig = plt.figure()\n",
    "axis = fig.add_subplot(2,1,1)\n",
    "\n",
    "monthlycdata.plot(ax=axis,label='Year', figsize=(12,4))\n",
    "plt.title('Sum of Monthly Crime Count for 2012 - 2017')\n",
    "axis.set_xticks(np.arange(13))\n",
    "axis.set_ylabel('Crime Count')\n",
    "axis.set_xlabel('Month')\n",
    "fig.savefig('Sum of Monthly Crime Count for 2012 - 2017')\n",
    "\n",
    "axis1 = fig.add_subplot(2,1,2)\n",
    "monthyearcdata.plot(ax=axis1,figsize=(12,6),colormap='tab10')\n",
    "axis1.set_xticks(np.arange(13))\n",
    "axis1.set_ylabel('Crime Count')\n",
    "axis1.set_xlabel('Month')\n",
    "plt.legend()\n",
    "plt.title('Monthly Crime Count per Year')\n",
    "fig.savefig('Monthly Crime Count per Year')\n",
    "plt.legend(bbox_to_anchor=(1.0,1.0))\n",
    "#to make sure graphs don't overlap\n",
    "plt.tight_layout()\n",
    "\n",
    "#fig.set_size_inches(12,4)\n"
   ]
  },
  {
   "cell_type": "markdown",
   "metadata": {},
   "source": [
    "- The top graph shows the sum of monthly crime for the years 2012 to 2017. The most obvious pattern in that the crime count increases over warmer months. If we break this down by year (bottom graph), we can see that each year follows the same monthly pattern.\n",
    "\n",
    "We would also want to investigate if this pattern is repeated over each crime category or city section. Because Social disorder category has a significantly higher crime count, we separated it from other categories and we have displayed the result in separate graphs to have a more clear representation of monthly patterns."
   ]
  },
  {
   "cell_type": "code",
   "execution_count": null,
   "metadata": {},
   "outputs": [],
   "source": [
    "# Group by Month and Category, then sum Crime Count\n",
    "monthcategorycdata = timecdata.groupby(['Month','Category']).agg({'Crime Count':'sum'})\n",
    "monthcategorycdata=monthcategorycdata.unstack('Category')\n",
    "display(monthcategorycdata.head(5),\"monthcategorycdata\")\n"
   ]
  },
  {
   "cell_type": "code",
   "execution_count": null,
   "metadata": {},
   "outputs": [],
   "source": [
    "# filter Crime Count for only Social disorder\n",
    "monthcategorycdata_socialdisorder_ungrouped=timecdata[timecdata[\"Category\"]==\"Social Disorder\"]\n",
    "\n",
    "# Group by Month and Category then sum Crime Count\n",
    "monthcategorycdata_socialdisorder= monthcategorycdata_socialdisorder_ungrouped.groupby(['Month','Category']).agg({'Crime Count':'sum'})\n",
    "monthcategorycdata_socialdisorder=monthcategorycdata_socialdisorder.unstack('Category')\n",
    "display(monthcategorycdata_socialdisorder.head(5),\"monthcategorycdata_socialdisorder\")\n",
    "\n",
    "# filter Crime Count for other categories that Social disorder\n",
    "monthcategorycdata_notsocialdisorder_ungrouped=timecdata[timecdata['Category']!='Social Disorder']\n",
    "\n",
    "# Group by Month and Category then sum Crime Count\n",
    "monthcategorycdata_notsocialdisorder=monthcategorycdata_notsocialdisorder_ungrouped.groupby(['Month','Category']).agg({'Crime Count':'sum'})\n",
    "monthcategorycdata_notsocialdisorder=monthcategorycdata_notsocialdisorder.unstack('Category')\n",
    "display(monthcategorycdata_notsocialdisorder.head(5),\"monthcategorycdata_notsocialdisorder\")"
   ]
  },
  {
   "cell_type": "code",
   "execution_count": null,
   "metadata": {},
   "outputs": [],
   "source": [
    "fig = plt.figure()\n",
    "\n",
    "axis = fig.add_subplot(2,1,1)\n",
    "monthcategorycdata_notsocialdisorder.plot(ax=axis,figsize=(12,8),colormap='tab10')\n",
    "plt.title('Sum of Monthly Crime Count per category for 2012-2017 - excluding Social Disorder')\n",
    "axis.set_xticks(np.arange(13))\n",
    "axis.set_ylabel('Crime Count')\n",
    "axis.set_xlabel('Month')\n",
    "fig.savefig('Sum of Monthly Crime Count per category for 2012-2017 - excluding Social Disorder')\n",
    "plt.legend(bbox_to_anchor=(1.0,1.0))\n",
    "\n",
    "axis1 = fig.add_subplot(2,1,2)\n",
    "monthcategorycdata_socialdisorder.plot(ax=axis1,figsize=(12,8))\n",
    "plt.title('Sum of Monthly Social Disorder Count for 2012-2017')\n",
    "axis1.set_xticks(np.arange(13))\n",
    "axis1.set_ylabel('Crime Count')\n",
    "axis1.set_xlabel('Month')\n",
    "fig.savefig('Sum of Monthly Social Disorder Count for 2012-2017')\n",
    "plt.legend(bbox_to_anchor=(1.0,1.0))\n",
    "#to make sure graphs don't overlap\n",
    "plt.tight_layout()"
   ]
  },
  {
   "cell_type": "markdown",
   "metadata": {},
   "source": [
    "The top graph shows the sum of monthly crime for the years 2012 to 2017 excluding Social disorder. The second graph shows the sum of monthly Social disorder count over the same period.  \n",
    "- We can see that Theft from a vehicle, Assault, and Residential break and enter, as well as Social disorder increase in warmer months. There is also another spike in October for these crimes. On the other hand, Commercial robbery and street robbery do not vary significantly over the months.\n",
    "\n",
    "- By comparing the second graph in this section and the sum of monthly crime count graph in the previous section, we can see that a big portion of the overall monthly crime count is attributed to Social disorder and its frequency pattern is highly driven by this crime category.\n",
    "\n",
    "I the next section we break the sum of monthly crime count for the years 2012 to 2017 by sector to see if various city sectors follow the same pattern. Similar to the previous section, we display Social disorder separately to have a better representation."
   ]
  },
  {
   "cell_type": "code",
   "execution_count": null,
   "metadata": {},
   "outputs": [],
   "source": [
    "# Group by Month and Sector then sum Crime Count for social disorder category\n",
    "monthsectorcdata_socialdisorder= monthcategorycdata_socialdisorder_ungrouped.groupby(['Month','Sector']).agg({'Crime Count':'sum'})\n",
    "monthsectorcdata_socialdisorder=monthsectorcdata_socialdisorder.unstack('Sector')\n",
    "display(monthsectorcdata_socialdisorder.head(),\"monthsectorcdata_socialdisorder\")\n",
    "\n",
    "# Group by Month and Sector then sum Crime Count for non social disorder  category\n",
    "monthsectorcdata_notsocialdisorder=monthcategorycdata_notsocialdisorder_ungrouped.groupby(['Month','Sector']).agg({'Crime Count':'sum'})\n",
    "monthsectorcdata_notsocialdisorder=monthsectorcdata_notsocialdisorder.unstack('Sector')\n",
    "display(monthsectorcdata_notsocialdisorder.head(),\"monthsectorcdata_notsocialdisorder\")"
   ]
  },
  {
   "cell_type": "code",
   "execution_count": null,
   "metadata": {},
   "outputs": [],
   "source": [
    "fig = plt.figure()\n",
    "\n",
    "axis = fig.add_subplot(2,1,1)\n",
    "monthsectorcdata_socialdisorder.plot(ax=axis,figsize=(12,8),colormap='tab10')\n",
    "plt.title('Sum of Monthly Social Disorder Cirme Count per Sector for 2012 - 2017')\n",
    "axis.set_xticks(np.arange(13))\n",
    "axis.set_ylabel('Crime Count')\n",
    "axis.set_xlabel('Month')\n",
    "fig.savefig('Sum of Monthly Social Disorder Crime Count per Sector for 2012 - 2017')\n",
    "plt.legend(bbox_to_anchor=(1.0,1.0))\n",
    "\n",
    "\n",
    "axis1 = fig.add_subplot(2,1,2)\n",
    "monthsectorcdata_notsocialdisorder.plot(ax=axis1,colormap='tab10')\n",
    "plt.title('Sum of Monthly Crime Count per Sector for 2012 - 2017 excluding Social Disorder')\n",
    "axis1.set_xticks(np.arange(13))\n",
    "axis1.set_ylabel('Crime Count')\n",
    "axis1.set_xlabel('Month')\n",
    "plt.legend(bbox_to_anchor=(1.0,1.0))\n",
    "plt.title('Sum of Monthly Crime Count per Sector for 2012 - 2017 excluding Social Disorder')\n",
    "#to make sure graphs don't overlap\n",
    "plt.tight_layout()"
   ]
  },
  {
   "cell_type": "markdown",
   "metadata": {},
   "source": [
    "- The top graph shows that Social disorder follows the same pattern in all city sectors.  As can be seen in the second graph, the noticeable difference for the rest of the crime categories is that they spike in some other months than the warm months. Particularly a spike in October for these categories is observed in most city sectors."
   ]
  },
  {
   "cell_type": "markdown",
   "metadata": {},
   "source": [
    "Another way to visualize crime distribution over time is through a choropleth. To do this, we made a grouping of our cleaned data by Community Name, Year, and Crime Count. This group had it's crime count totaled per community for each year between 2012 and 2017. From this grouping, we made a new dataframe so we could make yearly subsets to join into our geopandas dataframe for plotting purposes. Once the subsets were joined, we built a loop that would plot each years' subsetted data onto a choropleth and save the map on a local drive. By integrating those maps into a gif, we were able to animate the crime distribution change from 2012 to 2017."
   ]
  },
  {
   "cell_type": "code",
   "execution_count": null,
   "metadata": {},
   "outputs": [],
   "source": [
    "# Choropleth Data Wrangling\n",
    "\n",
    "# Grouped cdata by Community Name, Year. Totaled community Crime Count. Made dataframe called chorodf.\n",
    "choroy_df = pd.DataFrame(cdata.groupby([\"Community Name\",\"Year\"])[\"Crime Count\"].sum()).reset_index()\n",
    "\n",
    "# Filitered choroy_df per year, dropped year column, and renamed header for joining geopandas dataframe\n",
    "y12 = choroy_df[choroy_df[\"Year\"] == 2012].drop(columns=[\"Year\"]).rename(index=str, columns={\"Crime Count\": \"12CC\"}).set_index(\"Community Name\")\n",
    "y13 = choroy_df[choroy_df[\"Year\"] == 2013].drop(columns=[\"Year\"]).rename(index=str, columns={\"Crime Count\": \"13CC\"}).set_index(\"Community Name\")\n",
    "y14 = choroy_df[choroy_df[\"Year\"] == 2014].drop(columns=[\"Year\"]).rename(index=str, columns={\"Crime Count\": \"14CC\"}).set_index(\"Community Name\")\n",
    "y15 = choroy_df[choroy_df[\"Year\"] == 2015].drop(columns=[\"Year\"]).rename(index=str, columns={\"Crime Count\": \"15CC\"}).set_index(\"Community Name\")\n",
    "y16 = choroy_df[choroy_df[\"Year\"] == 2016].drop(columns=[\"Year\"]).rename(index=str, columns={\"Crime Count\": \"16CC\"}).set_index(\"Community Name\")\n",
    "y17 = choroy_df[choroy_df[\"Year\"] == 2017].drop(columns=[\"Year\"]).rename(index=str, columns={\"Crime Count\": \"17CC\"}).set_index(\"Community Name\")\n",
    "\n",
    "# Connected new crime count columns into geopandas dataframe\n",
    "merged = map_df.set_index(\"name\").join([y12,y13,y14,y15,y16,y17]) "
   ]
  },
  {
   "cell_type": "code",
   "execution_count": null,
   "metadata": {},
   "outputs": [],
   "source": [
    "# Annual Calgary Community Crime Count: Choropleth plotting\n",
    "\n",
    "y = 2012 # year counter\n",
    "# list of years (which are the column names at the moment)\n",
    "loy = [\"12CC\",\"13CC\",\"14CC\",\"15CC\",\"16CC\",\"17CC\"]\n",
    "\n",
    "\n",
    "# For loop to create one map per year\n",
    "for i in loy:\n",
    "    fig, ax = plt.subplots(1, figsize=(9,12))\n",
    "    mp = merged.dropna().plot(column=i, scheme=\"quantiles\", k=12, cmap=\"Reds\", linewidth=0.8, ax=ax, edgecolor=\"0.8\", legend=True)\n",
    "    ax.axis(\"off\")\n",
    "    mp.set_title(str(y)+\" Calgary Community Crime Count\", fontdict={\"fontsize\": \"20\", \"fontweight\" : \"3\"})\n",
    "    # position the annotation to the bottom left\n",
    "    mp.annotate(\"Source: Open Calgary, 2018\",xy=(0.1, .08),  xycoords=\"figure fraction\", horizontalalignment=\"left\", verticalalignment=\"top\", fontsize=12, color=\"#555555\")\n",
    "    leg = ax.get_legend()\n",
    "    leg.set_bbox_to_anchor((1.1, 0.95, 0., 0.))\n",
    "    #fig.savefig(str(y)+\"YYCCrimeCount.png\", dpi=300)   --- command used for saving the images\n",
    "    y += 1"
   ]
  },
  {
   "cell_type": "code",
   "execution_count": null,
   "metadata": {},
   "outputs": [],
   "source": [
    "# Annual Calgary Community Crime Count: Animation \n",
    "Image(filename=\"YYCCrimeCount.png\")"
   ]
  },
  {
   "cell_type": "markdown",
   "metadata": {},
   "source": [
    "- Communities with low to moderate levels of crime haven't become consistently better or worse in the previous six year period. From watching the plot above, the crime counts in these communities (in relation to others) merely fluctuate between having more crime some years and having less others. There is no discernable crime trend that civilians or law enforcement can take action on here.\n",
    "\n",
    "- Communities with high levels of crime consistently maintain that status. As the animation loops, we see the darkest communities don't decrease their shade as the years change. \n",
    "\n",
    "- From both conclusions we get the sense that crime distribution across the city doesn't change. For both civilians and law enforcement, plots like these may prove to be quite useful. Civilians may want to avoid areas with high levels of crime as a safety precaution, and law enforcement may want to apply additional resources to these regions."
   ]
  },
  {
   "cell_type": "markdown",
   "metadata": {
    "slideshow": {
     "slide_type": "slide"
    }
   },
   "source": [
    "### Frequency of crime count by category\n",
    "\n",
    "The type of reported crimes were categorized by Assault (non-domestic), Commercial Break & Enter, Commercial Robbery, Physical Disorder, Residential Break & Enter, Social Disorder, Street Robbery, Theft FROM Vehicle, Theft OF Vehicle, and Violence ‘Other’ (Non-domestic).\n",
    "\n",
    "Social disorder events included drunk, disturbance, indecent act, juvenile complaint, landlord/tenant, mental health concern, neighbor dispute, party complaint, prowler, suspicious person, threats, drugs, noise complain, possible gunshots, unwanted guest/patron, prostitution, speeder, and suspicious auto. Fire, property damage and abandoned auto were classified under Physical disorder events.\n",
    "\n",
    "To find the frequency of crime by category over the years and sectors of Calgary, we organized the data frame by Sector, Community Name, Category, Year and Month to generate the line graphs then Month was removed to generate the bar graphs. From the visualizations, crime distribution over the sectors show Centre with the most crime, Northeast and South follow after. We plotted all crime categories and found social disorder as the major contributing factor to crime count which is normal as there are many types of crimes under the category. \n",
    "\n",
    "Then social disorder was removed in the next graph to see the other distribution of crimes in each sector. Once removed, there was a general pattern of decrease in crime count for each category as following the rank of highest crime ridden sector to lowest. "
   ]
  },
  {
   "cell_type": "code",
   "execution_count": null,
   "metadata": {},
   "outputs": [],
   "source": [
    "# Group data by Sector, community name, category, year\n",
    "categorysec = cdata.drop(['Month'],axis=1).groupby(['Sector','Community Name','Category','Year']).agg({'Crime Count':'sum','Resident Count':'mean'}) \n",
    "crimecount = categorysec['Crime Count'] # Split Categorysec Table to isolate Crime Count\n",
    "residentcount = categorysec['Resident Count'] # Split Categorysec Table to isolate Resident Count"
   ]
  },
  {
   "cell_type": "code",
   "execution_count": null,
   "metadata": {},
   "outputs": [],
   "source": [
    "avgcrime = crimecount.unstack('Year').mean(axis=1,skipna=True) # Average Crime count table over the years\n",
    "secpercat = avgcrime.unstack('Community Name').sum(axis=1) # Plots a bar graph of different categories separarted by sectors\n",
    "\n",
    "# Sort Category from Sector with highest crime count to lowest\n",
    "sortcat = secpercat.sum(level='Sector').sort_values(ascending=False)\n",
    "secpercat = secpercat.reindex(index=sortcat.index,level=0)\n",
    "\n",
    "# Plot Categorical crimes per sector\n",
    "fig = plt.figure()\n",
    "ax=fig.add_subplot(1,1,1)\n",
    "secpercat.unstack('Category').plot(kind = 'bar',ax=ax,stacked=True)\n",
    "plt.title(\"Comparison of Crime Category in Sectors\")\n",
    "plt.ylabel('Crime Count')\n",
    "fig.set_size_inches(10,6)\n",
    "\n",
    "# Plot without social disorder category\n",
    "fig=plt.figure()\n",
    "ax=fig.add_subplot(1,1,1)\n",
    "secpercatNsoc = secpercat.unstack('Category').drop(['Social Disorder'],axis=1)\n",
    "secpercatNsoc.plot(kind = 'bar',ax=ax,stacked=True,colormap='tab10')\n",
    "plt.title(\"Comparison of Crime Category in Sectors without Social Disorder\")\n",
    "plt.ylabel('Crime Count')\n",
    "handles, labels = ax.get_legend_handles_labels()\n",
    "ax.legend(reversed(handles), reversed(labels), title='Crime Category')\n",
    "fig.set_size_inches(10,6)\n",
    "\n",
    "avgres= residentcount.unstack('Year').mean(axis=1,skipna=True) # Average resident count table over the years\n",
    "secres = avgres.unstack('Community Name').mean(axis=1,skipna=True)\n",
    "secres = secres.sum(level='Sector')\n",
    "secres = secres.reindex(index=sortcat.index)\n",
    "\n",
    "# Plot of resident count per sector\n",
    "fig = plt.figure()\n",
    "ax = fig.add_subplot(1,1,1)\n",
    "secres.plot(kind='bar',ax=ax)\n",
    "plt.title(\"Comparison of Resident Count in Sectors\")\n",
    "ax.set_ylabel('Resident Count')\n",
    "fig.set_size_inches(10,6)\n",
    "\n"
   ]
  },
  {
   "cell_type": "markdown",
   "metadata": {},
   "source": [
    "- Unfortunately, the scale was far too different to be able to see the smaller crime categories' distribution among the sectors correctly. Therefore, box plots of each crime was plotted over the sectors to find the average over the years. A plotly graph was used to allow the user to see each category and how its distributed among the sectors. \n",
    "\n",
    "- It is surprising to see how much reported crimes averaged over the last five years. There are quite an alarming amount of residential breaking and enterings in the South which brings it to a close second to the Northeast sector. Also there are quite a lot of theft from vehicles in the South sector. Breaking down the sectors show how the distribution of crime changes, overall Centre is first, but South comes in to close second and third at times.\n",
    "\n",
    "- Overall crime was averaged over the sectors to produce box plot and pie chart to find whole city of Calgary's average crime distribution. Social Disorder contributes 72.18% to overall crime rate over Calgary and over 30,000 reported crimes were in Centre sector which is logical as it is the most common meeting place."
   ]
  },
  {
   "cell_type": "code",
   "execution_count": null,
   "metadata": {},
   "outputs": [],
   "source": [
    "# Box plot of category crime\n",
    "'''Double click legend groups to isolate each categorical crime'''\n",
    "test = cdata.groupby(['Sector','Category','Year']).sum()\n",
    "test = test['Crime Count']\n",
    "test = test.unstack('Category').unstack('Sector')\n",
    "\n",
    "#PLOTLY\n",
    "seclabel = pd.unique(cdata['Sector'])\n",
    "catlabel = pd.unique(cdata['Category'])\n",
    "data=[]\n",
    "i = 0\n",
    "for catl in catlabel:\n",
    "    i += 1\n",
    "    for secl in seclabel:\n",
    "        t1 = {\"type\":\"box\",'y':test[catl][secl], 'legendgroup': catl, 'name': secl + ' - ' + catl}\n",
    "        data.append(t1)\n",
    "\n",
    "layout = go.Layout(\n",
    "    autosize=False,\n",
    "    width=1000,\n",
    "    height=600,\n",
    "    margin=go.Margin(\n",
    "        l=50,\n",
    "        r=50,\n",
    "        b=275,\n",
    "        t=0,\n",
    "        pad=4\n",
    "    )\n",
    ")\n",
    "\n",
    "fig = go.Figure(data=data,layout=layout)\n",
    "plotly.iplot(fig,filename = \"Multibox\")\n",
    "display(test.describe())"
   ]
  },
  {
   "cell_type": "code",
   "execution_count": null,
   "metadata": {
    "slideshow": {
     "slide_type": "skip"
    }
   },
   "outputs": [],
   "source": [
    "# Box plot of average reported crimes throughout Calgary\n",
    "test = avgcrime.groupby(['Sector','Category']).sum()\n",
    "test = test.unstack('Category')\n",
    "display(test.describe())\n",
    "f426 = pd.concat([test['Physical Disorder'],test['Residential Break & Enter'],test['Theft FROM Vehicle'],test['Theft OF Vehicle']],axis=1)\n",
    "df100 = pd.concat([test['Commercial Robbery'],test['Street Robbery'],test['Violence \\'Other\\' (Non-domestic)']],axis=1)\n",
    "\n",
    "mid2000 = pd.concat([test['Assault (Non-domestic)'],test['Commercial Break & Enter']],axis=1)\n",
    "high = pd.DataFrame(test['Social Disorder'])\n",
    "\n",
    "fig = plt.figure()\n",
    "ax=fig.add_subplot(2,2,1)\n",
    "f426.plot(kind='box',ax=ax)\n",
    "plt.xticks(rotation=10)\n",
    "\n",
    "ax=fig.add_subplot(2,2,3)\n",
    "df100.plot(kind='box',ax=ax)\n",
    "\n",
    "ax=fig.add_subplot(2,2,2)\n",
    "mid2000.plot(kind='box',ax=ax)\n",
    "\n",
    "ax=fig.add_subplot(2,2,4)\n",
    "high.plot(kind='box',ax=ax)\n",
    "plt.xlabel('Social Disorder')\n",
    "fig.set_size_inches(15,10)\n",
    "plt.show()\n",
    "\n",
    "\n",
    "# Pie chart of category crime\n",
    "\n",
    "categorypie = secpercat.sum(level='Category')\n",
    "categorypie.plot(kind='pie',figsize=(5,5),colormap='Paired',autopct='%.2f',pctdistance=1.1, labeldistance=1.23)\n",
    "plt.ylabel('')\n",
    "plt.show()"
   ]
  },
  {
   "cell_type": "code",
   "execution_count": null,
   "metadata": {},
   "outputs": [],
   "source": [
    "# Data Wrangling Crime frequency and proportion to community population\n",
    "crcatdata = cdata.drop(['Community Center Point','Month'],axis=1)\n",
    "crcatdata = crcatdata.groupby(['Sector','Category','Community Name','Year']).agg({'Crime Count':'sum','Resident Count':'mean'})\n",
    "\n",
    "rescount = crcatdata['Resident Count']\n",
    "rescount = rescount.unstack(level='Category').mean(axis=1)\n",
    "rescount = rescount.unstack(level='Community Name').sum(axis=1).astype(int)\n",
    "rescount = rescount.unstack(level='Year')\n",
    "\n",
    "\n",
    "cricount = crcatdata['Crime Count']\n",
    "cricount = cricount.unstack(level='Category').sum(axis=1)\n",
    "cricount = cricount.unstack(level='Community Name').sum(axis=1)\n",
    "cricount = cricount.unstack()\n",
    "\n",
    "population = rescount.sum()\n",
    "\n",
    "#Proportion of crime to resident count\n",
    "propcrime = cricount/rescount\n",
    "propcrime= propcrime.mean(axis=1)"
   ]
  },
  {
   "cell_type": "markdown",
   "metadata": {
    "slideshow": {
     "slide_type": "slide"
    }
   },
   "source": [
    "### Frequency of crime to community population\n",
    "\n",
    "Data was further wrangled from the clean data to visualize crime versus population change. The columns Community Center Point and Month were removed and the table was further grouped by Sector, Category, Community Name and Year. We calculated the total crime count per group and found the average of the resident count as each row had the same number. The resident and crime count were separated in to two different data frames to isolate the numbers.\n",
    "\n",
    "A bar graph was created to compare the resident and crime count of each sector. Major patterns of concern were sectors with increasing crime count. For example, Centre sector had continuous increase in crime count regardless of the population drop off in 2015. This was also evident in the East sector; population had very minor increases and decreases from 2012 to 2017 but crime increased between 2014 and 2015. The remaining sectors had increasing resident counts with increasing crime counts.\n",
    "\n",
    "In the line graph, \"Comparison of Crime and Resident Count in Sectors of Calgary\", crime count had more sharper changes than resident count and does not respond to resident count as quickly over time. Between 2015 and 2016 when resident count dropped then increased, crime count did not respond immediately and continued to increase. More data may be required to find possible explanations for this trend."
   ]
  },
  {
   "cell_type": "code",
   "execution_count": null,
   "metadata": {},
   "outputs": [],
   "source": [
    "# Visualization of crime count and resident count for each sector of Calgary (general plot)\n",
    "fig = plt.figure()\n",
    "axis = fig.add_subplot(3,1,1)\n",
    "rescount.plot(kind='bar',ax=axis)\n",
    "plt.title(\"Comparison of Crime and Resident Count in Sectors of Calgary\")\n",
    "plt.ylabel('Resident Count')\n",
    "plt.legend(bbox_to_anchor=(1.0,0.5))\n",
    "plt.xlabel(\"\")\n",
    "plt.tick_params(labelbottom=False)\n",
    "\n",
    "axis = fig.add_subplot(3,1,2)\n",
    "# cricount = cricount/rescount*100000\n",
    "cricount.plot(kind='bar',ax=axis)\n",
    "plt.xlabel(\"\")\n",
    "plt.tick_params(labelbottom=False)\n",
    "plt.legend([])\n",
    "plt.ylabel('Crime Count')\n",
    "\n",
    "axis = fig.add_subplot(3,1,3)\n",
    "propcrime.plot(kind='bar',ax=axis,color='b')\n",
    "plt.ylabel('Proportion')\n",
    "\n",
    "fig.set_size_inches(15,10)"
   ]
  },
  {
   "cell_type": "code",
   "execution_count": null,
   "metadata": {},
   "outputs": [],
   "source": [
    "# Visualization of crime count and resident count for each sector of Calgary (general plot)\n",
    "# Data Wrangling Crime frequency and proportion to community population\n",
    "crcatdata = cdata.drop(['Community Center Point','Month'],axis=1)\n",
    "crcatdata = crcatdata.groupby(['Sector','Category','Community Name','Year']).agg({'Crime Count':'sum','Resident Count':'mean'})\n",
    "\n",
    "rescount = crcatdata['Resident Count']\n",
    "rescount = rescount.unstack(level='Category').mean(axis=1)\n",
    "rescount = rescount.unstack(level='Community Name').sum(axis=1).astype(int)\n",
    "rescount = rescount.unstack(level='Sector').sum(axis=1)\n",
    "\n",
    "\n",
    "cricount = crcatdata['Crime Count']\n",
    "cricount = cricount.unstack(level='Category').sum(axis=1)\n",
    "cricount = cricount.unstack(level='Community Name').sum(axis=1)\n",
    "cricount = cricount.unstack(level='Sector').sum(axis=1)\n",
    "\n",
    "fig = plt.figure()\n",
    "axis = fig.add_subplot(1,1,1)\n",
    "rescount.plot(kind='line',ax=axis,label='Resident Count')\n",
    "plt.title(\"Overall resident and crime count change\")\n",
    "plt.ylabel('Resident Count')\n",
    "\n",
    "axis2 = axis.twinx()\n",
    "cricount.plot(kind='line',ax=axis2,label='Crime Count',color='b')\n",
    "plt.ylabel('Crime Count')\n",
    "axis.legend()\n",
    "axis2.legend(loc=[0.025,0.8])\n",
    "fig.set_size_inches(6,6)"
   ]
  },
  {
   "cell_type": "code",
   "execution_count": null,
   "metadata": {},
   "outputs": [],
   "source": [
    "def commlabel(datfram,col,name,col2):\n",
    "    \"\"\" Function to organize labels for community name and dataframe\n",
    "    datfram - dataframe\n",
    "    col - column for boolen index (sort table)\n",
    "    name - neighborhood name\n",
    "    col2 - column to sort table by\"\"\"\n",
    "    labdf = datfram[datfram[col]==name]\n",
    "    labnames = labdf[col2].unique()\n",
    "    return labnames, labdf"
   ]
  },
  {
   "cell_type": "code",
   "execution_count": null,
   "metadata": {},
   "outputs": [],
   "source": [
    "# Generate East sector crime and resident count plot\n",
    "\n",
    "comname, com = commlabel(cdata,'Sector','EAST','Community Name')\n",
    "\n",
    "sector = com.drop(['Month','Community Center Point','Sector'],axis=1)\n",
    "sector = sector.groupby(['Community Name','Category','Year']).agg({'Crime Count':'sum','Resident Count':'mean'})\n",
    "\n",
    "# Split table by Resident Count and Crime Count\n",
    "rescount = sector['Resident Count']\n",
    "rescount = rescount.unstack('Year').mean(axis=1)\n",
    "rescount = rescount.unstack('Category').mean(axis=1)\n",
    "\n",
    "cricount = sector['Crime Count']\n",
    "\n",
    "sortlabel = sector['Crime Count'].unstack('Year').mean(axis=1).unstack('Category').sum(axis=1).sort_values(ascending=False)\n",
    "cricount = cricount.unstack('Year').mean(axis=1)\n",
    "cricount = cricount.unstack('Category').sum(axis=1)\n",
    "\n",
    "ind = np.arange(len(comname))  # the x locations for the groups\n",
    "width = 0.35  # the width of the bars\n",
    "\n",
    "\n",
    "t1 = go.Bar(x=comname, y=cricount.values,name='Crime Count')\n",
    "t2 = go.Bar(x=comname, y=rescount.values,name='Resident Count')\n",
    "data = [t1,t2]\n",
    "\n",
    "layout = go.Layout(title='Community comparison within EAST Sector',\n",
    "    xaxis=dict(title='Community Name'),\n",
    "    yaxis=dict(title='Count'),\n",
    "    autosize=False,\n",
    "    width=800,\n",
    "    height=500,\n",
    "    margin=go.Margin(\n",
    "        l=50,\n",
    "        r=0,\n",
    "        b=200,\n",
    "        t=50,\n",
    "        pad=4)\n",
    "                  \n",
    "    ) \n",
    "    \n",
    "fig=go.Figure(data=data,layout=layout)\n",
    "plotly.iplot(fig,filename=\"Communityplot\")"
   ]
  },
  {
   "cell_type": "code",
   "execution_count": null,
   "metadata": {},
   "outputs": [],
   "source": [
    "# 'CENTRE','EAST','WEST','NORTH','NORTHEAST','SOUTHEAST','NORTHWEST'\n",
    "\n",
    "comname, com = commlabel(cdata,'Sector','NORTHWEST','Community Name')\n",
    "\n",
    "sector = com.drop(['Month','Community Center Point','Sector'],axis=1)\n",
    "sector = sector.groupby(['Community Name','Category','Year']).agg({'Crime Count':'sum','Resident Count':'mean'})\n",
    "\n",
    "# Split table by Resident Count and Crime Count\n",
    "rescount = sector['Resident Count']\n",
    "rescount = rescount.unstack('Year').mean(axis=1)\n",
    "rescount = rescount.unstack('Category').mean(axis=1)\n",
    "\n",
    "cricount = sector['Crime Count']\n",
    "\n",
    "sortlabel = sector['Crime Count'].unstack('Year').mean(axis=1).unstack('Category').sum(axis=1).sort_values(ascending=False)\n",
    "cricount = cricount.unstack('Year').mean(axis=1)\n",
    "cricount = cricount.unstack('Category').sum(axis=1)\n",
    "\n",
    "ind = np.arange(len(comname))  # the x locations for the groups\n",
    "width = 0.35  # the width of the bars\n",
    "\n",
    "\n",
    "t1 = go.Bar(x=comname, y=cricount.values,name='Crime Count')\n",
    "t2 = go.Bar(x=comname, y=rescount.values,name='Resident Count')\n",
    "data = [t1,t2]\n",
    "\n",
    "layout = go.Layout(title='Community comparison within NORTHWEST Sector',\n",
    "    xaxis=dict(title='Community Name'),\n",
    "    yaxis=dict(title='Count'),\n",
    "    autosize=False,\n",
    "    width=800,\n",
    "    height=500,\n",
    "    margin=go.Margin(\n",
    "        l=50,\n",
    "        r=0,\n",
    "        b=200,\n",
    "        t=50,\n",
    "        pad=4)             \n",
    "    ) \n",
    "    \n",
    "fig=go.Figure(data=data,layout=layout)\n",
    "plotly.iplot(fig,filename=\"Communityplot\")"
   ]
  },
  {
   "cell_type": "markdown",
   "metadata": {},
   "source": [
    "### Crime Distribution Across Communities \n",
    "\n",
    "To address this guiding question, we wanted to do so using choropleths again. For these maps, we made another grouping of cleaned data by Community Name and Crime Count, and then calculated the total community crime count for the previous six years. We created a new dataframe from this group so we could again make a new column of crime values in our geopandas dataframe by using the join function. \n",
    "\n",
    "The city-wide choropleth allows us to observe the distribution of crime across Calgary communities between the years 2012 and 2017. The choropleth's by sector allow us to zoom in on Calgary and through the crime counts listed in the legends, get a better sense of which neighbourhoods are more problematic than others."
   ]
  },
  {
   "cell_type": "code",
   "execution_count": null,
   "metadata": {},
   "outputs": [],
   "source": [
    "# Choropleth Data Wrangling\n",
    "\n",
    "# Grouped cdata by Community Name, Year. Totaled community Crime Count. Made dataframe called chorodf.\n",
    "choroa_df = pd.DataFrame(cdata.groupby(\"Community Name\")[\"Crime Count\"].sum()).reset_index()\n",
    "\n",
    "# Filitered choroy_df per year, dropped year column, and renamed header for joining geopandas dataframe\n",
    "yall = choroa_df.rename(index=str, columns={\"Crime Count\": \"ACC\"}).set_index(\"Community Name\")\n",
    "\n",
    "# Connected new crime count columns into geopandas dataframe\n",
    "merged = map_df.set_index(\"name\").join(yall) "
   ]
  },
  {
   "cell_type": "code",
   "execution_count": null,
   "metadata": {},
   "outputs": [],
   "source": [
    "# 2012-2017 Calgary Community Crime Count: Choropleth plotting\n",
    "\n",
    "variable = \"ACC\" # choose which crime count column to plot\n",
    "fig, ax = plt.subplots(1, figsize=(9,12)) # create figure and axes for matplotlib\n",
    "ax.axis(\"off\") #turned off graph-style axis'\n",
    "merged.dropna().plot(column=variable, scheme=\"quantiles\", k=12, cmap=\"Greens\", linewidth=0.8, ax=ax, edgecolor=\"0.8\",legend=True) # create choropleth\n",
    "ax.set_title(\"2012-17 Calgary Community Crime Count\", fontdict={\"fontsize\": \"20\", \"fontweight\" : \"3\"}) # choropleth title\n",
    "ax.annotate(\"Source: Open Calgary, 2018\",xy=(0.1, .08),  xycoords=\"figure fraction\", horizontalalignment=\"left\", verticalalignment=\"top\", fontsize=12, color=\"#555555\") # source annotation\n",
    "leg = ax.get_legend() # create quantile legend \n",
    "leg.set_bbox_to_anchor((1.15, 0.95, 0., 0.)) # set legend location"
   ]
  },
  {
   "cell_type": "markdown",
   "metadata": {},
   "source": [
    "- From this visual, we get a good sense of how Calgary communities compare to one another in crime. The east and northeastern ends of the city seem more crime ridden than others, and the downtown centre is also an area of concern. Besides those regions and a couple outliers, crime appears to be moderately distributed across the city. This choropleth reinforces the conclusions made from our choropleth's concerning crime distribution over time. "
   ]
  },
  {
   "cell_type": "code",
   "execution_count": null,
   "metadata": {},
   "outputs": [],
   "source": [
    "# 2012-2017 Calgary Community Crime Count by Sector - CENTRE/WEST/SOUTHEAST/SOUTH/NORTHWEST/NORTHEAST/NORTH/EAST: Choropleth plotting\n",
    "sectors = merged[\"sector\"].unique()\n",
    "\n",
    "# For loop to create one map per sector\n",
    "for i in sectors:\n",
    "    # Similar plotting structure to the city-wide map previously\n",
    "    sect = merged[merged[\"sector\"] == i] # Filtering dataframe for specific sector\n",
    "    fig, ax = plt.subplots(1, figsize=(6,8))\n",
    "    mp = sect.dropna().plot(column=\"ACC\", scheme=\"quantiles\", k=6, cmap=\"Greens\", linewidth=0.8, ax=ax, edgecolor=\"0.8\", legend=True)\n",
    "    ax.axis(\"off\")\n",
    "    mp.set_title(\"2012-17 Calgary Community Crime Count - \"+i, fontdict={\"fontsize\": \"20\", \"fontweight\" : \"3\"})\n",
    "    mp.annotate(\"Source: Open Calgary, 2018\",xy=(0.1, .08),  xycoords=\"figure fraction\", horizontalalignment=\"left\", verticalalignment=\"top\", fontsize=12, color=\"#555555\")\n",
    "    leg = ax.get_legend()\n",
    "    leg.set_bbox_to_anchor((1.4, 0.95, 0., 0.))"
   ]
  },
  {
   "cell_type": "markdown",
   "metadata": {},
   "source": [
    "- The choropleth's that visualize crime distribution by sector allow us to zoom in on the more troubling communities. From the above visuals, civilians and law enforcement alike get a better sense of the crime count variation between communities, and can pinpoint which neighbourhoods pose the most risk. In the Centre sector, we see Beltline, Bridgeland, and a couple industrial areas with high amounts of crime. In the West, Signal Hill, Glenbrook, and Rosscarrock are the sectors biggest troublemakers. Civilians and law enforcement that want more specific ways to visualize crime distribution across the city would find these plots useful."
   ]
  },
  {
   "cell_type": "markdown",
   "metadata": {
    "slideshow": {
     "slide_type": "slide"
    }
   },
   "source": [
    "## Conclusion\n",
    "\n",
    "Throughout our analysis, we observed that the overall crime rate slightly increased from 2012 to 2017, but there was a big spike in the crime rate in 2016. This can be attributed to the worst period of the recent recession. A similar trend was observed for each city sector. City center and East sectors consistently displayed the highest crime rates.\n",
    "Also, we demonstrated that the crime rate increases over the warm months with some crimes showing an additional spike in the month of October. The monthly crime rates vary from year to year but every year between 2012 to 2017 follows the same pattern. This pattern hold for almost all city sectors, despite the significant difference in the absolute crime rate among these sectors.\n",
    "\n",
    "\n",
    "From the citizens' perspective, this information can help remind that in economic downturns they need to be more cautious and vigilant when it comes to crime. It can also help to highlight the City center and East sectors as riskier parts of the city, and that the warmer months of the year can be more trouble-prone. By looking at specific sectors, citizens can increase their awareness of surrounding communities. \n",
    "From the Police's perspective, this information can help add more resources to the City center and East sectors and put more forces out in the street over the warmer months of the year. It can also help the police to budget for more resources in economic downturns.\n",
    "\n",
    "Overall, crime increases with population but does not respond as quickly to slight population changes. Whereas crime is distributed unevenly among the city where Centre has the majority of reported crimes followed by East and Northeast. The communities with the highest level of crime consistently maintain that reputation, regardless of what happens year after year, and communities with low to moderate levels of crime continue to fluctuate within those levels.\n",
    "\n",
    "It will be interesting to combine the data with traffic flow, temperature and census data to study other correlations. Traffic flow may provide better insight on the amount of people travelling through sectors and provide patterns of crime. Temperature data will assist to confirm if warmer months warrant more crime. Census data will be interesting to study to see the distribution of age and people in each sector. "
   ]
  },
  {
   "cell_type": "markdown",
   "metadata": {},
   "source": [
    "### References\n",
    "Cooley, B. (2018) Let’s make a map! Using Geopandas, Pandas and Matplotlib to make a Choropleth map [Online]. Available at: https://towardsdatascience.com/lets-make-a-map-using-geopandas-pandas-and-matplotlib-to-make-a-chloropleth-map-dddc31c1983d (Accessed: 30 September 2018)\n",
    "Open Calgary, City of Calgary, Calgary Police Service. (2018) Community Crime Statistics [Online]. Available at: https://data.calgary.ca/Health-and-Safety/Community-Crime-Statistics/848s-4m4z (Accessed: 19 September 2018).\n",
    "Open Calgary, City of Calgary. (2018) City Boundary – Calgary city limits [Online]. Available at: https://data.calgary.ca/Base-Maps/City-Boundary/7t9h-2z9s (Accessed: 30 September 2018).\n",
    "Contains information licensed under the Open Government Licence – City of Calgary. https://data.calgary.ca/d/Open-Data-Terms/u45n-7awa"
   ]
  }
 ],
 "metadata": {
  "celltoolbar": "Slideshow",
  "kernelspec": {
   "display_name": "Python 3 (ipykernel)",
   "language": "python",
   "name": "python3"
  },
  "language_info": {
   "codemirror_mode": {
    "name": "ipython",
    "version": 3
   },
   "file_extension": ".py",
   "mimetype": "text/x-python",
   "name": "python",
   "nbconvert_exporter": "python",
   "pygments_lexer": "ipython3",
   "version": "3.10.5"
  }
 },
 "nbformat": 4,
 "nbformat_minor": 4
}
