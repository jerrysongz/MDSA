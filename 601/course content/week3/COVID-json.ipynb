{
 "cells": [
  {
   "cell_type": "markdown",
   "id": "2732f676",
   "metadata": {},
   "source": [
    "# Exploring Time Series Data\n",
    "\n",
    "## DATA 601"
   ]
  },
  {
   "cell_type": "markdown",
   "id": "121975a7",
   "metadata": {},
   "source": [
    "## Background\n",
    "\n",
    "A lot of data pertaining to COVID-19 is available as time series data, i.e. the x-axis represents a temporal variable (usually days) while the y-axis is the actual series (case counts, number of hospitalizations, etc.). \n",
    "In this exercise, we'll explore COVID-19 data for Alberta. Rather than using clean data, we'll use raw data that is scraped from the web and archived on a regular basis. This data is available at the following repository (courtesy of CPSC graduate student Haysn Hornbeck):\n",
    "\n",
    "https://gitlab.com/hjhornbeck/covid-19-datasets\n",
    "\n",
    "In particular, we'll use the raw data under [/raw/canada/alberta](https://gitlab.com/hjhornbeck/covid-19-datasets/-/tree/main/data/raw/canada/alberta). It is stored in [JSON format](https://en.wikipedia.org/wiki/JSON) which can be conveniently represented as a Python dictionary.\n",
    "\n",
    "The cell below fetches vaccination data and reads it into a Python dictionary. You can modify the URL below to read in data in JSON format that is of interest to you.\n",
    "Please have a look at the [Readme](https://gitlab.com/hjhornbeck/covid-19-datasets/-/blob/main/data/raw/canada/README.md) to familiarize yourself with the data."
   ]
  },
  {
   "cell_type": "code",
   "execution_count": null,
   "id": "fb912d12",
   "metadata": {},
   "outputs": [],
   "source": [
    "import urllib, json\n",
    "url = \"https://gitlab.com/hjhornbeck/covid-19-datasets/-/raw/main/data/raw/canada/alberta/20220914_220620/htmlwidget-963ed266f06a9dbd45ae.json\"\n",
    "response = urllib.request.urlopen(url)\n",
    "data = json.loads(response.read())"
   ]
  },
  {
   "cell_type": "markdown",
   "id": "950678b8",
   "metadata": {},
   "source": [
    "<!-- BEGIN QUESTION -->\n",
    "\n",
    "## Exercise 1\n",
    "\n",
    "- Familiarize yourself with the structure of the data.\n",
    "- There is lots of info that we don't need. Please extract the x and y data as lists as well as the title as a string.\n",
    "- The 'x' data represents dates. Convert the entries to dates using [Datetime.datetime.strptime()](https://docs.python.org/3/library/datetime.html#strftime-strptime-behavior). This will ensure that the dates are interpreted correctly when we plot them.\n",
    "- Plot the time series using matplotlib."
   ]
  },
  {
   "cell_type": "code",
   "execution_count": null,
   "id": "d7f3775f",
   "metadata": {
    "tags": []
   },
   "outputs": [],
   "source": [
    "# grab the x and y data (into lists) as well as the title (into a string) \n",
    "# from the raw dict.\n",
    "# Once the data has been extracted, convert the x data into Datetime format\n",
    "# Then plot the data (dates on the x-axis, vaccine doses administeted on the y-axis)\n",
    "\n",
    "..."
   ]
  },
  {
   "cell_type": "markdown",
   "id": "1f03ecd2",
   "metadata": {},
   "source": [
    "<!-- END QUESTION -->\n",
    "\n",
    "<!-- BEGIN QUESTION -->\n",
    "\n",
    "## Exercise 2\n",
    "\n",
    "The vaccination data looks a bit noisy; there are lots of fluctuations that make it hard to see the trend. Let's look at monthly totals instead to get a better sense of the trend.\n",
    "- Let's focus on the year 2021.\n",
    "- For the year 2021, determine monthly totals for each of the months. There are several ways to do this but for this exercise, let's use a filtering operation. For example, for Jan. '21, determine the entries in the time series that correspond to the month '1' and year '2021', and add up their corresponding y values.  \n",
    "- Determine monthly totals for the year 2021 and plot the results using a matplotlib bar chart. \n"
   ]
  },
  {
   "cell_type": "code",
   "execution_count": null,
   "id": "93833c5f",
   "metadata": {
    "tags": []
   },
   "outputs": [],
   "source": [
    "# Determine monthly totals for the year 2021.\n",
    "\n",
    "..."
   ]
  },
  {
   "cell_type": "code",
   "execution_count": null,
   "id": "978bc8a0",
   "metadata": {
    "tags": []
   },
   "outputs": [],
   "source": [
    "# Plot the monthly totals using a bar chart\n",
    "..."
   ]
  },
  {
   "cell_type": "markdown",
   "id": "8ef3cad4",
   "metadata": {},
   "source": [
    "<!-- END QUESTION -->\n",
    "\n"
   ]
  }
 ],
 "metadata": {
  "kernelspec": {
   "display_name": "Python 3 (ipykernel)",
   "language": "python",
   "name": "python3"
  },
  "language_info": {
   "codemirror_mode": {
    "name": "ipython",
    "version": 3
   },
   "file_extension": ".py",
   "mimetype": "text/x-python",
   "name": "python",
   "nbconvert_exporter": "python",
   "pygments_lexer": "ipython3",
   "version": "3.10.6"
  },
  "otter": {
   "OK_FORMAT": true,
   "tests": {}
  }
 },
 "nbformat": 4,
 "nbformat_minor": 5
}
