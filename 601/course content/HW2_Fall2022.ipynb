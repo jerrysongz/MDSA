{
 "cells": [
  {
   "cell_type": "code",
   "execution_count": 1,
   "metadata": {
    "deletable": false,
    "editable": false
   },
   "outputs": [],
   "source": [
    "# Initialize Otter\n",
    "import otter\n",
    "grader = otter.Notebook(\"HW2_Fall2022.ipynb\")"
   ]
  },
  {
   "cell_type": "markdown",
   "metadata": {
    "deletable": false
   },
   "source": [
    "# DATA 601\n",
    "\n",
    "## HW2\n",
    "\n",
    "\n",
    "**Learning Objectives**\n",
    "\n",
    "- Explore collection classes in Python by applying them to probelms.\n",
    "- Use intermediate level data structures and programming concepts in the context of data related problems.\n",
    "\n",
    "_This is an individual homework assignment._ \n",
    "\n",
    "Please complete this homework assignment within the Jupypter notebook environment.  \n",
    "\n",
    "#### Submission \n",
    "\n",
    "Your submission will be graded using a combination of autograding and manual grading. In order to ensure that everything goes smoothly, please follow these instructions:\n",
    "\n",
    "- Please provide your solutions where asked. \n",
    "- You may add additional cells to test your code but please remove any print statements to test/debug your code. "
   ]
  },
  {
   "cell_type": "markdown",
   "metadata": {
    "deletable": false,
    "tags": []
   },
   "source": [
    "## Question 1: Linear Data Processing\n",
    "\n",
    "#### (7 points)\n",
    "\n",
    "The questions below ask you generate and process data using Python tuples, lists, sets and dictionaries. To focus on problem solving and to make your code more readable, *you may use built-in functions* associated with these Python data types. However, you may *not* use any other packages or libraries. Please try and use comprehensions wherever possible.\n",
    "\n",
    "#### <font color='red'> Note: Passing the provided test-cases doesn't guarantee points. We check your code with other test-cases for grading.</font> "
   ]
  },
  {
   "cell_type": "markdown",
   "metadata": {
    "deletable": false
   },
   "source": [
    "### A) $l_1$ Norm\n",
    "\n",
    "The $l_1$ norm, also sometimes called the taxicab norm, of a vector $\\mathbf{x} = (x_1, x_2, \\ldots, x_n)$ is defined as:\n",
    "$$\n",
    "\\lVert\\mathbf{x}\\rVert_1 = \\sum_{i=1}^{n} \\lvert x_i \\rvert .\n",
    "$$\n",
    "\n",
    "Write a function called `L1norm` that takes a vector `x` as input and returns its $l_1$ norm."
   ]
  },
  {
   "cell_type": "code",
   "execution_count": 47,
   "metadata": {
    "nbgrader": {
     "grade": false,
     "grade_id": "myprod",
     "locked": false,
     "schema_version": 3,
     "solution": true,
     "task": false
    },
    "tags": []
   },
   "outputs": [],
   "source": [
    "def L1norm(x):\n",
    "    ''' Computes the L1 norm of the entries in vector x represented as an iterable.\n",
    "        It is assumed that x is a valid iterable containing numeric entries\n",
    "    '''\n",
    "    count = 0\n",
    "    for i in x:\n",
    "        count += abs(i)\n",
    "    return count\n"
   ]
  },
  {
   "cell_type": "code",
   "execution_count": 48,
   "metadata": {
    "deletable": false,
    "editable": false
   },
   "outputs": [
    {
     "data": {
      "text/html": [
       "<p><strong><pre style='display: inline;'>q1a</pre></strong> passed!</p>"
      ],
      "text/plain": [
       "q1a results: All test cases passed!"
      ]
     },
     "execution_count": 48,
     "metadata": {},
     "output_type": "execute_result"
    }
   ],
   "source": [
    "grader.check(\"q1a\")"
   ]
  },
  {
   "cell_type": "markdown",
   "metadata": {},
   "source": [
    "### B) Integer Grid\n",
    "\n",
    "Let us define a $d$-dimensional ($d \\ge 2$) integer grid containing $n^d$ ($n \\ge 1$) points as the point set:\n",
    "$$\n",
    "\\mathbb{Z}_n^d := \\{ (p_1, p_2, \\ldots, p_{d}) : p_i \\in \\mathbb{Z} \\text{ and } 0 \\le p_i \\le n-1 \\}.\n",
    "$$\n",
    "\n",
    "Write a function called `intGrid` that takes $n$ and $d$ in the definition above as keyword parameters `n` and `dim` respectively, and returns a Python *set* containing the points in the grid as Python *tuples*. E.g. `intGrid(n=2, dim=2)` should return the set `{(0, 0), (0, 1), (1, 0), (1, 1)}`. "
   ]
  },
  {
   "cell_type": "code",
   "execution_count": 52,
   "metadata": {
    "tags": []
   },
   "outputs": [],
   "source": [
    "def intGrid(n=2, dim=2):\n",
    "    points = (list(range(n)),)\n",
    "    tuples = [tuple(i) for i in points] * dim\n",
    "    result = [[]]\n",
    "    thing = set()\n",
    "    for j in tuples:\n",
    "        result = [x+[y] for x in result for y in j]\n",
    "    for k in result:\n",
    "        thing.add(tuple(k))\n",
    "    return thing\n",
    "    \n",
    "        "
   ]
  },
  {
   "cell_type": "code",
   "execution_count": 44,
   "metadata": {
    "deletable": false,
    "editable": false
   },
   "outputs": [
    {
     "data": {
      "text/html": [
       "<p><strong><pre style='display: inline;'>q1b</pre></strong> passed!</p>"
      ],
      "text/plain": [
       "q1b results: All test cases passed!"
      ]
     },
     "execution_count": 44,
     "metadata": {},
     "output_type": "execute_result"
    }
   ],
   "source": [
    "grader.check(\"q1b\")"
   ]
  },
  {
   "cell_type": "markdown",
   "metadata": {
    "tags": []
   },
   "source": [
    "### C) Histogram of Distances\n",
    "\n",
    "Using your solution to the previous two parts, write a function called `distanceHist` that takes two parameters: `n` and `dim` (as defined above) and returns a histogram of $l_1$ distances for all the points in the integer grid $\\mathbb{Z}_n^d$. The histogram is returned as a dictionary whose _keys_ are the distances and _values_ are the counts of the distances. \n",
    "\n",
    "For example `distanceHist(n=2, dim=2)` should return the dictionary `{0: 1, 1: 2, 2: 1}`. "
   ]
  },
  {
   "cell_type": "code",
   "execution_count": 53,
   "metadata": {
    "tags": []
   },
   "outputs": [],
   "source": [
    "def distanceHist(n=2, dim=2):\n",
    "    ''' Returns a histogram of L1 distances for the integer grid of dimension dim consisting of \n",
    "        non-negative integer coordinates in the range 0 to n-1.\n",
    "        A dictionary is returned whose keys are the L1 distances and the corresponding values are the counts \n",
    "        of the distances.\n",
    "    '''\n",
    "    count = {}\n",
    "    integergrid = intGrid(n,dim)\n",
    "    for i in integergrid:\n",
    "        j = sum(list(i))\n",
    "        if j in count:\n",
    "            count[j] +=1 \n",
    "        else:\n",
    "            count[j] = 1 \n",
    "    return count\n",
    "            \n",
    "    \n",
    "    "
   ]
  },
  {
   "cell_type": "code",
   "execution_count": 54,
   "metadata": {
    "deletable": false,
    "editable": false
   },
   "outputs": [
    {
     "data": {
      "text/html": [
       "<p><strong><pre style='display: inline;'>q1c</pre></strong> passed!</p>"
      ],
      "text/plain": [
       "q1c results: All test cases passed!"
      ]
     },
     "execution_count": 54,
     "metadata": {},
     "output_type": "execute_result"
    }
   ],
   "source": [
    "grader.check(\"q1c\")"
   ]
  },
  {
   "cell_type": "markdown",
   "metadata": {
    "deletable": false,
    "editable": false
   },
   "source": [
    "<!-- BEGIN QUESTION -->\n",
    "\n",
    "\n",
    "\n",
    "## Question 2: Plotting Functions\n",
    "\n",
    "#### (8 points)\n",
    "\n",
    "Please go through the following tutorial, focusing on the first two sections.\n",
    "\n",
    "  [https://matplotlib.org/users/pyplot_tutorial.html](https://matplotlib.org/users/pyplot_tutorial.html)\n",
    "  \n",
    "\n",
    "Use [`matplotlib.pyplot.plot`](https://matplotlib.org/users/pyplot_tutorial.html) to plot the following sequences for $ 2 \\le n \\le 100$. \n",
    "\n",
    " a) $f_n = \\frac{n^3}{2n+3}$\n",
    "\n",
    " b) $f_n = n\\log_2 n$ \n",
    "  <br>\n",
    "  (Use `math.log2(x)` to compute base 2 logarithms. You will need to `import math`)\n",
    "\n",
    " c) $f_n = \n",
    "    \\begin{cases}\n",
    "    \\frac{1}{n^2 \\sqrt2} & ,\\text{if } \\text{ n Mod (3)}\\equiv \\text{ 0} \\\\\n",
    "    0 & ,\\text{otherwise}.\n",
    "    \\end{cases}\n",
    "    $  \n",
    "    (Use `math.sqrt()` for $\\sqrt(2)$. You will need to `import math`)\n",
    "\n",
    "In order to compare the relative growth rates, ***please plot within the same figure***. Use different line styles so that the sequences can be distinguished, and label your axes appropriately. Please also use logarithmic scaling on the vertical axis (`plt.yscale(‘log’)`) so that the relative magnitudes of the sequences is more apparent.\n",
    "\n"
   ]
  },
  {
   "cell_type": "code",
   "execution_count": 67,
   "metadata": {
    "tags": []
   },
   "outputs": [
    {
     "data": {
      "image/png": "[encoded data removed]",
      "text/plain": [
       "<Figure size 640x480 with 1 Axes>"
      ]
     },
     "metadata": {},
     "output_type": "display_data"
    }
   ],
   "source": [
    "import math\n",
    "import matplotlib.pyplot as plt\n",
    "\n",
    "# Please write your plotting code below \n",
    "\n",
    "            \n",
    "t = [x for x in range(2,101)]\n",
    "\n",
    "            \n",
    "a = [(lambda n: (n**3)/(2*n+3))(x) for x in t]\n",
    "b = [(lambda n: n * math.log2(n))(x) for x in t]\n",
    "c = [(lambda n: 1/((n**2)*math.sqrt(2)) if n % 3 == 0 else 0)(x) for x in t]\n",
    "            \n",
    "\n",
    "\n",
    "plt.plot(t, a, 'r--', t, b, 'bs', t, c, 'g^')\n",
    "plt.yscale('log')\n"
   ]
  },
  {
   "cell_type": "markdown",
   "metadata": {
    "detletable": false,
    "editable": false
   },
   "source": [
    "<!-- END QUESTION -->\n",
    "\n",
    "<!-- BEGIN QUESTION -->\n",
    "\n",
    "## Question 3  : Estimating Pi with the Monte Carlo Method\n",
    "#### (10 points)\n",
    "**For this question you may import the random module and the math module**\n",
    "\n",
    "One of the skills needed in data science is to navigate mathematical models and relate them to visual presentations and coding environments. This problem is intended to prompt you to think about how mathematical modeling can be incorporated into data generation and problem solving and make the connection between a model and a visualization.\n",
    "\n",
    "This problem asks you to estimate the value of $\\pi$ using the Monte Carlo method.  A high-level description of the tasks that you need to perform is provided below. You will need to think about suitable data structures and programming constructs that will accomplish the tasks. You may use built-in functions. \n",
    "\n",
    "\n",
    "Explanation of the Monte Carlo technique: The Monte Carlo method can be used to approximate $\\pi$ by applying the following reasoning.  Consider a circle of radius 1, it's area will be $\\pi$. One quarter of the circle, which will land in the upper right quadrant of a Cartesian plane if the center is at (0,0), will have an area of $\\pi /4$. We can use this property to estimate $\\pi$ by taking random points with coordinates between 0 and 1, and testing if they land inside or outside the circle in this quadrant. The fraction of points that land inside the circle multiplied by four provide an estimate of $\\pi$. 𝜋𝜋\n",
    "\n",
    "1. Write a function to estimate $\\pi$. Your function should take N randomly generated points (a,b) where $0\\leq a,b <1$ The function should apply the Monte Carlo method to return an approximate value of $\\pi$.  (Hint: use the Euclidian distance function to find how far the point is from the center of the circle.)\n",
    "2. Test the accuracy of the estimation method by running n=20 trials. Determine and record the distributions of these n=20 tests for the values $N=10$, $N=10^3$ and $N=10^6$.\n",
    "3. On the same figure, plot the distributions of results corresponding to 20 trials for the different values of N, $N=10$, $N=10^3$ and $N=10^6$. For comparison, also plot the true value of $\\pi$. How do the distributions of values compare to the true value of pi? In order to compare the relative accuracy of using different N values, please plot within the same figure. Use different styles so that the sequences can be distinguished, and label your axes appropriately.\n"
   ]
  },
  {
   "cell_type": "markdown",
   "metadata": {
    "deletable": false,
    "editable": false
   },
   "source": [
    "Please write your code in the cells below. \n"
   ]
  },
  {
   "cell_type": "code",
   "execution_count": 112,
   "metadata": {
    "nbgrader": {
     "grade": true,
     "grade_id": "question4",
     "locked": false,
     "points": 0,
     "schema_version": 3,
     "solution": true,
     "task": false
    },
    "tags": []
   },
   "outputs": [],
   "source": [
    "# Plese write your code for step one below the comments\n",
    "\n",
    "# Step 1: Write a function to estimate $\\pi$. \n",
    "# Your function should take N randomly generated points \n",
    "# (a,b) where $0\\leq a,b <1$ \n",
    "# The function should apply the Monte Carlo method to return an \n",
    "# approximate value of $\\pi$. \n",
    "\n",
    "## (Hint: use the euclidian distance function to \n",
    "##  find how far the point is from the center of the circle.)\n",
    "##  If you do not know what euclidan distance is,\n",
    "##  practice the imporortnat data scicne skill of\n",
    "##  finding and explination when needed via other sources\n",
    "\n",
    "import random\n",
    "from math import sqrt\n",
    "\n",
    "def pi(points):\n",
    "    numerator = 0\n",
    "    denominator = len(points)\n",
    "    for x,y in points:\n",
    "        distance = x**2 + y**2\n",
    "        if distance <= 1:\n",
    "            numerator += 1\n",
    "        \n",
    "        pi = 4 * numerator / denominator\n",
    "    return pi"
   ]
  },
  {
   "cell_type": "code",
   "execution_count": 113,
   "metadata": {
    "tags": []
   },
   "outputs": [
    {
     "name": "stdout",
     "output_type": "stream",
     "text": [
      "[[3.2, 2.8, 3.6, 3.2, 3.2, 4.0, 3.6, 3.6, 3.2, 3.2, 3.2, 3.6, 3.6, 3.2, 2.8, 3.2, 3.6, 2.8, 2.4, 3.6], [3.212, 3.276, 3.212, 3.116, 3.16, 3.092, 3.152, 3.036, 3.144, 3.204, 3.16, 3.16, 3.192, 3.124, 3.164, 3.164, 3.024, 3.148, 3.072, 3.132], [3.144652, 3.142656, 3.144612, 3.140424, 3.140528, 3.139032, 3.141068, 3.141612, 3.141788, 3.14072, 3.14126, 3.143392, 3.140048, 3.141928, 3.140848, 3.141412, 3.143156, 3.1415, 3.141436, 3.143512]]\n"
     ]
    }
   ],
   "source": [
    "# Please write your code for part two below the comments\n",
    "\n",
    "# Part 2: Test the accuracy of the estimation method by \n",
    "# running n=20 trials. \n",
    "# Determine and record the distributions of \n",
    "# these n=20 tests for the values $N=10$, $N=10^3$ and $N=10^6$.\n",
    "\n",
    "## Hint:  notice that when \n",
    "##  presented with a formula sometimes the same \n",
    "##  letter is used with a different case to denote a different parameter.\n",
    "##  In this case n and N mean something different.\n",
    "##  If you are finding this confusing \n",
    "##  take a moment to test out what each parameter is \n",
    "##  representing and where it fits in your model.\n",
    "trial_count = 20\n",
    "no_of_points = [10,10**3,10**6]\n",
    "values = []\n",
    "for point_count in no_of_points:\n",
    "    temp = []\n",
    "    for trail in range(trial_count):\n",
    "        random_points = [[random.uniform(-1, 1),random.uniform(-1, 1)] for x in range(point_count)]\n",
    "        temp.append(pi(random_points))\n",
    "    values.append(temp)\n",
    "print(values)"
   ]
  },
  {
   "cell_type": "code",
   "execution_count": 114,
   "metadata": {
    "tags": []
   },
   "outputs": [
    {
     "data": {
      "text/plain": [
       "[<matplotlib.lines.Line2D at 0x7f7d52507700>]"
      ]
     },
     "execution_count": 114,
     "metadata": {},
     "output_type": "execute_result"
    },
    {
     "data": {
      "image/png": "[encoded data removed]",
      "text/plain": [
       "<Figure size 640x480 with 1 Axes>"
      ]
     },
     "metadata": {},
     "output_type": "display_data"
    }
   ],
   "source": [
    "## Please write your code for part three below the comments\n",
    "\n",
    "# 3. On the same figure, plot the distributions of results \n",
    "# corresponding to 20 trials for the differnt values of \n",
    "# N, $N=10$, $N=10^3$ and $N=10^6$. \n",
    "# For comparison, also plot the true value of $\\pi$.\n",
    "\n",
    "\n",
    "import math\n",
    "trial_count = [x for x in range(1,21)]\n",
    "true_value = [math.pi for x in range(20)]\n",
    "plt.plot(trial_count,values[0],marker = '*',color='red')\n",
    "plt.plot(trial_count,values[1],marker = 'v',color='yellow')\n",
    "plt.plot(trial_count,values[2],marker ='v',color = 'blue')\n",
    "plt.plot(trial_count,true_value,marker = '^',color = 'black')\n"
   ]
  },
  {
   "cell_type": "markdown",
   "metadata": {},
   "source": [
    "Use the cell below to explain your findings including a note on how do the distributions of values compare to the true value of pi?"
   ]
  },
  {
   "cell_type": "markdown",
   "metadata": {},
   "source": [
    "_Type your answer here, replacing this text._"
   ]
  },
  {
   "cell_type": "markdown",
   "metadata": {
    "deletable": false,
    "tags": []
   },
   "source": [
    "<!-- END QUESTION -->\n",
    "\n",
    "## Part B\n",
    "\n",
    "The question in this part of the assignment is intended to:\n",
    "\n",
    "  1) Illuminate how what you already know is useful in this context.\n",
    "  \n",
    "  2) Provide an exercise in writing about coding concepts and ideas and using the relevant language and terminology. \n",
    "  \n",
    "  3) Demonstrate your ability to apply  the assignment material in a different format."
   ]
  },
  {
   "cell_type": "markdown",
   "metadata": {
    "tags": []
   },
   "source": [
    "<!-- BEGIN QUESTION -->\n",
    "\n",
    "### Question 1 \n",
    "(3 points) \n",
    "\n",
    "In 100 to 250 words identify a concept you have found difficult, intriguing, or confusing from this assignment. Reflect on how the learning materials from this unit, or other materials relate to this concept, helped you to problem solve and learn from this challenge. Provide your reflection using markdown in the cell below."
   ]
  },
  {
   "cell_type": "markdown",
   "metadata": {},
   "source": [
    "The home work 2 is quite challenging comparing with the first one. The most difficult question in my opinion is the question 1 part B. In the first a few attempts, I tried to use loops and recursion to solve the question without success. I could only get n<2 cases right. Then I did some searches online and I found a library that called itertool, and it has a funtion product that can solve the problem. But for this homework we are not allowed to use any non-build in functions. Therefore, I dived in deep to find the code what make the product funtion work. I learned the main idea of it. And applied on my work. another intrguing question are question 2. I have had no experience of using matplotlib before. It took me some time to study it."
   ]
  },
  {
   "cell_type": "markdown",
   "metadata": {},
   "source": [
    "<!-- END QUESTION -->\n",
    "\n",
    "## Submission\n",
    "\n",
    "Make sure you have run all cells in your notebook and that they work as you expected and show any plots that are being generated. \n",
    "\n",
    "**Please put all testing in the appropriate code blocks and comment out or remove testing print statments. Then save your file and submit your notebook via gradescope!**"
   ]
  },
  {
   "cell_type": "markdown",
   "metadata": {},
   "source": [
    " "
   ]
  }
 ],
 "metadata": {
  "celltoolbar": "Edit Metadata",
  "kernelspec": {
   "display_name": "Python 3 (ipykernel)",
   "language": "python",
   "name": "python3"
  },
  "language_info": {
   "codemirror_mode": {
    "name": "ipython",
    "version": 3
   },
   "file_extension": ".py",
   "mimetype": "text/x-python",
   "name": "python",
   "nbconvert_exporter": "python",
   "pygments_lexer": "ipython3",
   "version": "3.10.6"
  },
  "otter": {
   "OK_FORMAT": true,
   "tests": {
    "q1a": {
     "name": "q1a",
     "points": 2,
     "suites": [
      {
       "cases": [
        {
         "code": ">>> assert L1norm([0]) == 0\n>>> assert L1norm([0,1]) == L1norm((1,0)) == L1norm({0,0,1}) == 1\n",
         "failure_message": "Should work with vectors of any size and iterable type",
         "hidden": false,
         "locked": false,
         "points": 0
        },
        {
         "code": ">>> assert L1norm([5,5]) == L1norm([5,-5]) == L1norm([-5,5]) == L1norm([-5,-5]) == 10  \n",
         "failure_message": "Should handle positive and negative values",
         "hidden": false,
         "locked": false,
         "points": 0
        }
       ],
       "scored": true,
       "setup": "",
       "teardown": "",
       "type": "doctest"
      }
     ]
    },
    "q1b": {
     "name": "q1b",
     "points": 3,
     "suites": [
      {
       "cases": [
        {
         "code": ">>> assert intGrid(n=1, dim=2) == {(0,0)}\n",
         "failure_message": "The smallest point set according to the definition is {(0,0)}.",
         "hidden": false,
         "locked": false,
         "points": 0
        },
        {
         "code": ">>> assert intGrid() == {(0, 0), (0, 1), (1, 0), (1, 1)}\n",
         "failure_message": "Calling with no arguments should return the point set {(0, 0), (0, 1), (1, 0), (1, 1)}.",
         "hidden": false,
         "locked": false,
         "points": 0
        },
        {
         "code": ">>> assert intGrid(dim=3) == {(0, 0, 0), (0, 0, 1), (0, 1, 0), (0, 1, 1),\n...                   (1, 0, 0), (1, 0, 1), (1, 1, 0), (1, 1, 1)}\n",
         "failure_message": "Should be able to change the dimension",
         "hidden": false,
         "locked": false,
         "points": 0
        }
       ],
       "scored": true,
       "setup": "",
       "teardown": "",
       "type": "doctest"
      }
     ]
    },
    "q1c": {
     "name": "q1c",
     "points": 2,
     "suites": [
      {
       "cases": [
        {
         "code": ">>> assert distanceHist(n=1,dim=2) == distanceHist(n=1,dim=3) == distanceHist(n=1,dim=10) == {0 : 1}\n",
         "failure_message": "In any dimension, the simplest histogram should be {0 -> 1}",
         "hidden": false,
         "locked": false,
         "points": 0
        },
        {
         "code": ">>> assert distanceHist(n=2,dim=3) == {0: 1, 1: 3, 2: 3, 3: 1}\n",
         "failure_message": "The histogram for the vertices of a 3D cube should be {0->1, 1->3, 2->3, 3->1}",
         "hidden": false,
         "locked": false,
         "points": 0
        }
       ],
       "scored": true,
       "setup": "",
       "teardown": "",
       "type": "doctest"
      }
     ]
    }
   }
  }
 },
 "nbformat": 4,
 "nbformat_minor": 4
}
