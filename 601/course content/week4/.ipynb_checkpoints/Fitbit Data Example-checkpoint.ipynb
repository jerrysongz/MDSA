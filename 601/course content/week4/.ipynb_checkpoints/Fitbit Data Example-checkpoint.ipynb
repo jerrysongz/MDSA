{
 "cells": [
  {
   "cell_type": "markdown",
   "id": "306f721e-15b7-4451-85b2-1706360d0920",
   "metadata": {},
   "source": [
    "# Fitbit Data Example\n",
    "\n",
    "## DATA 601\n",
    "\n"
   ]
  },
  {
   "cell_type": "markdown",
   "id": "6f5e9a9e-8fd9-444b-9446-9507d1752545",
   "metadata": {},
   "source": [
    "## Background\n",
    "\n",
    "Activity trackers and smart watches are widespread. These devices log a lot of activity data that users can access mainly through apps. Many vendors also make the captured raw data available to users. In this notebook, we'll look at Fitbit data that was downloaded via the Fitbit data export feature. There is lots of data in the exported archive. In this example, we'll focus on _steps_ and _distance_ data which have been made available on D2L as a zip archive. \n",
    "\n",
    "Please download the data corresponding to this notebook and save it in the same folder as this notebook. Unarchive the data to extract the data files. You will notice that the steps and distance data are stored separately. The files are stores in JSON format with one file storing about a month's worth of data.\n",
    "\n",
    "### Learning Objectives\n",
    "\n",
    "- Reading data from separate files and combining into a single dataframe.\n",
    "- Joining dataframes.\n",
    "- Grouping hierarchically by `datetime`.\n",
    "- Exploring additional visualization options in `pandas` and `matplotlib`."
   ]
  },
  {
   "cell_type": "code",
   "execution_count": 91,
   "id": "971afcfa-8a2f-4091-801f-c6acab4a6ac9",
   "metadata": {},
   "outputs": [],
   "source": [
    "# collect imports here\n",
    "import pandas as pd\n",
    "import numpy as np\n",
    "import matplotlib as mpl\n",
    "import matplotlib.pyplot as plt\n",
    "mpl.style.use('ggplot')"
   ]
  },
  {
   "cell_type": "code",
   "execution_count": 19,
   "id": "60f3717c-d864-4bc1-b916-f6d58c4e9aa1",
   "metadata": {},
   "outputs": [
    {
     "data": {
      "text/html": [
       "<div>\n",
       "<style scoped>\n",
       "    .dataframe tbody tr th:only-of-type {\n",
       "        vertical-align: middle;\n",
       "    }\n",
       "\n",
       "    .dataframe tbody tr th {\n",
       "        vertical-align: top;\n",
       "    }\n",
       "\n",
       "    .dataframe thead th {\n",
       "        text-align: right;\n",
       "    }\n",
       "</style>\n",
       "<table border=\"1\" class=\"dataframe\">\n",
       "  <thead>\n",
       "    <tr style=\"text-align: right;\">\n",
       "      <th></th>\n",
       "      <th>dateTime</th>\n",
       "      <th>value</th>\n",
       "    </tr>\n",
       "  </thead>\n",
       "  <tbody>\n",
       "    <tr>\n",
       "      <th>0</th>\n",
       "      <td>2019-10-21 07:54:00</td>\n",
       "      <td>0</td>\n",
       "    </tr>\n",
       "    <tr>\n",
       "      <th>1</th>\n",
       "      <td>2019-10-21 08:42:00</td>\n",
       "      <td>0</td>\n",
       "    </tr>\n",
       "    <tr>\n",
       "      <th>2</th>\n",
       "      <td>2019-10-21 09:02:00</td>\n",
       "      <td>11</td>\n",
       "    </tr>\n",
       "    <tr>\n",
       "      <th>3</th>\n",
       "      <td>2019-10-21 09:19:00</td>\n",
       "      <td>0</td>\n",
       "    </tr>\n",
       "    <tr>\n",
       "      <th>4</th>\n",
       "      <td>2019-10-21 09:39:00</td>\n",
       "      <td>0</td>\n",
       "    </tr>\n",
       "  </tbody>\n",
       "</table>\n",
       "</div>"
      ],
      "text/plain": [
       "             dateTime  value\n",
       "0 2019-10-21 07:54:00      0\n",
       "1 2019-10-21 08:42:00      0\n",
       "2 2019-10-21 09:02:00     11\n",
       "3 2019-10-21 09:19:00      0\n",
       "4 2019-10-21 09:39:00      0"
      ]
     },
     "metadata": {},
     "output_type": "display_data"
    },
    {
     "data": {
      "text/html": [
       "<div>\n",
       "<style scoped>\n",
       "    .dataframe tbody tr th:only-of-type {\n",
       "        vertical-align: middle;\n",
       "    }\n",
       "\n",
       "    .dataframe tbody tr th {\n",
       "        vertical-align: top;\n",
       "    }\n",
       "\n",
       "    .dataframe thead th {\n",
       "        text-align: right;\n",
       "    }\n",
       "</style>\n",
       "<table border=\"1\" class=\"dataframe\">\n",
       "  <thead>\n",
       "    <tr style=\"text-align: right;\">\n",
       "      <th></th>\n",
       "      <th>dateTime</th>\n",
       "      <th>value</th>\n",
       "    </tr>\n",
       "  </thead>\n",
       "  <tbody>\n",
       "    <tr>\n",
       "      <th>20245</th>\n",
       "      <td>2021-02-12 05:48:00</td>\n",
       "      <td>0</td>\n",
       "    </tr>\n",
       "    <tr>\n",
       "      <th>20246</th>\n",
       "      <td>2021-02-12 06:23:00</td>\n",
       "      <td>0</td>\n",
       "    </tr>\n",
       "    <tr>\n",
       "      <th>20247</th>\n",
       "      <td>2021-02-12 06:29:00</td>\n",
       "      <td>0</td>\n",
       "    </tr>\n",
       "    <tr>\n",
       "      <th>20248</th>\n",
       "      <td>2021-02-12 06:49:00</td>\n",
       "      <td>0</td>\n",
       "    </tr>\n",
       "    <tr>\n",
       "      <th>20249</th>\n",
       "      <td>2021-02-12 06:51:00</td>\n",
       "      <td>0</td>\n",
       "    </tr>\n",
       "  </tbody>\n",
       "</table>\n",
       "</div>"
      ],
      "text/plain": [
       "                 dateTime  value\n",
       "20245 2021-02-12 05:48:00      0\n",
       "20246 2021-02-12 06:23:00      0\n",
       "20247 2021-02-12 06:29:00      0\n",
       "20248 2021-02-12 06:49:00      0\n",
       "20249 2021-02-12 06:51:00      0"
      ]
     },
     "metadata": {},
     "output_type": "display_data"
    },
    {
     "data": {
      "text/plain": [
       "dateTime    datetime64[ns]\n",
       "value                int64\n",
       "dtype: object"
      ]
     },
     "metadata": {},
     "output_type": "display_data"
    }
   ],
   "source": [
    "# read the steps data\n",
    "\n",
    "# The '!' is a shell magic\n",
    "# https://ipython.readthedocs.io/en/stable/interactive/magics.html\n",
    "\n",
    "filelist = !ls steps*\n",
    "sdf = pd.DataFrame()\n",
    "for f in filelist:\n",
    "    sdf = pd.concat([sdf, pd.read_json(f)])\n",
    "display(sdf.head())\n",
    "display(sdf.tail())\n",
    "display(sdf.dtypes)"
   ]
  },
  {
   "cell_type": "code",
   "execution_count": 20,
   "id": "6aeeaf6d-43a0-4776-a9ae-d39aa4ff6e59",
   "metadata": {},
   "outputs": [
    {
     "data": {
      "text/html": [
       "<div>\n",
       "<style scoped>\n",
       "    .dataframe tbody tr th:only-of-type {\n",
       "        vertical-align: middle;\n",
       "    }\n",
       "\n",
       "    .dataframe tbody tr th {\n",
       "        vertical-align: top;\n",
       "    }\n",
       "\n",
       "    .dataframe thead th {\n",
       "        text-align: right;\n",
       "    }\n",
       "</style>\n",
       "<table border=\"1\" class=\"dataframe\">\n",
       "  <thead>\n",
       "    <tr style=\"text-align: right;\">\n",
       "      <th></th>\n",
       "      <th>dateTime</th>\n",
       "      <th>value</th>\n",
       "    </tr>\n",
       "  </thead>\n",
       "  <tbody>\n",
       "    <tr>\n",
       "      <th>0</th>\n",
       "      <td>2019-10-21 07:54:00</td>\n",
       "      <td>0</td>\n",
       "    </tr>\n",
       "    <tr>\n",
       "      <th>1</th>\n",
       "      <td>2019-10-21 08:42:00</td>\n",
       "      <td>0</td>\n",
       "    </tr>\n",
       "    <tr>\n",
       "      <th>2</th>\n",
       "      <td>2019-10-21 09:02:00</td>\n",
       "      <td>810</td>\n",
       "    </tr>\n",
       "    <tr>\n",
       "      <th>3</th>\n",
       "      <td>2019-10-21 09:19:00</td>\n",
       "      <td>0</td>\n",
       "    </tr>\n",
       "    <tr>\n",
       "      <th>4</th>\n",
       "      <td>2019-10-21 09:39:00</td>\n",
       "      <td>0</td>\n",
       "    </tr>\n",
       "  </tbody>\n",
       "</table>\n",
       "</div>"
      ],
      "text/plain": [
       "             dateTime  value\n",
       "0 2019-10-21 07:54:00      0\n",
       "1 2019-10-21 08:42:00      0\n",
       "2 2019-10-21 09:02:00    810\n",
       "3 2019-10-21 09:19:00      0\n",
       "4 2019-10-21 09:39:00      0"
      ]
     },
     "metadata": {},
     "output_type": "display_data"
    },
    {
     "data": {
      "text/html": [
       "<div>\n",
       "<style scoped>\n",
       "    .dataframe tbody tr th:only-of-type {\n",
       "        vertical-align: middle;\n",
       "    }\n",
       "\n",
       "    .dataframe tbody tr th {\n",
       "        vertical-align: top;\n",
       "    }\n",
       "\n",
       "    .dataframe thead th {\n",
       "        text-align: right;\n",
       "    }\n",
       "</style>\n",
       "<table border=\"1\" class=\"dataframe\">\n",
       "  <thead>\n",
       "    <tr style=\"text-align: right;\">\n",
       "      <th></th>\n",
       "      <th>dateTime</th>\n",
       "      <th>value</th>\n",
       "    </tr>\n",
       "  </thead>\n",
       "  <tbody>\n",
       "    <tr>\n",
       "      <th>20245</th>\n",
       "      <td>2021-02-12 05:48:00</td>\n",
       "      <td>0</td>\n",
       "    </tr>\n",
       "    <tr>\n",
       "      <th>20246</th>\n",
       "      <td>2021-02-12 06:23:00</td>\n",
       "      <td>0</td>\n",
       "    </tr>\n",
       "    <tr>\n",
       "      <th>20247</th>\n",
       "      <td>2021-02-12 06:29:00</td>\n",
       "      <td>0</td>\n",
       "    </tr>\n",
       "    <tr>\n",
       "      <th>20248</th>\n",
       "      <td>2021-02-12 06:49:00</td>\n",
       "      <td>0</td>\n",
       "    </tr>\n",
       "    <tr>\n",
       "      <th>20249</th>\n",
       "      <td>2021-02-12 06:51:00</td>\n",
       "      <td>0</td>\n",
       "    </tr>\n",
       "  </tbody>\n",
       "</table>\n",
       "</div>"
      ],
      "text/plain": [
       "                 dateTime  value\n",
       "20245 2021-02-12 05:48:00      0\n",
       "20246 2021-02-12 06:23:00      0\n",
       "20247 2021-02-12 06:29:00      0\n",
       "20248 2021-02-12 06:49:00      0\n",
       "20249 2021-02-12 06:51:00      0"
      ]
     },
     "metadata": {},
     "output_type": "display_data"
    },
    {
     "data": {
      "text/plain": [
       "dateTime    datetime64[ns]\n",
       "value                int64\n",
       "dtype: object"
      ]
     },
     "metadata": {},
     "output_type": "display_data"
    }
   ],
   "source": [
    "# Read the distance data, this is similar to the previous cell.\n",
    "filelist = !ls distance*\n",
    "ddf = pd.DataFrame()\n",
    "for f in filelist:\n",
    "    ddf = pd.concat([ddf, pd.read_json(f)])\n",
    "display(ddf.head())\n",
    "display(ddf.tail())\n",
    "display(ddf.dtypes)"
   ]
  },
  {
   "cell_type": "code",
   "execution_count": 29,
   "id": "0734e30b-61d2-486d-92eb-e171cd29793d",
   "metadata": {},
   "outputs": [
    {
     "data": {
      "text/plain": [
       "True"
      ]
     },
     "execution_count": 29,
     "metadata": {},
     "output_type": "execute_result"
    }
   ],
   "source": [
    "# Looks like the dateTime columns are well aligned but let's double check\n",
    "(sdf['dateTime'] == ddf['dateTime']).all()"
   ]
  },
  {
   "cell_type": "code",
   "execution_count": 44,
   "id": "08dc8a5e-915f-48b2-8449-48e5a37fa9a8",
   "metadata": {},
   "outputs": [],
   "source": [
    "# Let's join the dataframes into a new dataframe\n",
    "\n",
    "# Rename columns in the two dataframes before joining\n",
    "sdf.rename(columns={'value' : 'steps'}, inplace=True)\n",
    "ddf.rename(columns={'value' : 'distance'}, inplace=True)\n",
    "\n",
    "# Use dateTime column as index\n",
    "ddf.set_index('dateTime', inplace=True)\n",
    "sdf.set_index('dateTime', inplace=True)\n",
    "\n",
    "# join \n",
    "df = sdf.join(ddf, how='outer')"
   ]
  },
  {
   "cell_type": "code",
   "execution_count": 60,
   "id": "e122c11e-af3a-4e4c-9558-9c93d773698f",
   "metadata": {},
   "outputs": [
    {
     "data": {
      "text/html": [
       "<div>\n",
       "<style scoped>\n",
       "    .dataframe tbody tr th:only-of-type {\n",
       "        vertical-align: middle;\n",
       "    }\n",
       "\n",
       "    .dataframe tbody tr th {\n",
       "        vertical-align: top;\n",
       "    }\n",
       "\n",
       "    .dataframe thead th {\n",
       "        text-align: right;\n",
       "    }\n",
       "</style>\n",
       "<table border=\"1\" class=\"dataframe\">\n",
       "  <thead>\n",
       "    <tr style=\"text-align: right;\">\n",
       "      <th></th>\n",
       "      <th></th>\n",
       "      <th>steps</th>\n",
       "      <th>distance</th>\n",
       "    </tr>\n",
       "    <tr>\n",
       "      <th>dateTime</th>\n",
       "      <th>dateTime</th>\n",
       "      <th></th>\n",
       "      <th></th>\n",
       "    </tr>\n",
       "  </thead>\n",
       "  <tbody>\n",
       "    <tr>\n",
       "      <th rowspan=\"5\" valign=\"top\">1</th>\n",
       "      <th>1</th>\n",
       "      <td>7985</td>\n",
       "      <td>588090</td>\n",
       "    </tr>\n",
       "    <tr>\n",
       "      <th>2</th>\n",
       "      <td>11844</td>\n",
       "      <td>872460</td>\n",
       "    </tr>\n",
       "    <tr>\n",
       "      <th>3</th>\n",
       "      <td>7851</td>\n",
       "      <td>576640</td>\n",
       "    </tr>\n",
       "    <tr>\n",
       "      <th>4</th>\n",
       "      <td>8801</td>\n",
       "      <td>647600</td>\n",
       "    </tr>\n",
       "    <tr>\n",
       "      <th>5</th>\n",
       "      <td>9083</td>\n",
       "      <td>666630</td>\n",
       "    </tr>\n",
       "    <tr>\n",
       "      <th>...</th>\n",
       "      <th>...</th>\n",
       "      <td>...</td>\n",
       "      <td>...</td>\n",
       "    </tr>\n",
       "    <tr>\n",
       "      <th rowspan=\"5\" valign=\"top\">12</th>\n",
       "      <th>27</th>\n",
       "      <td>11664</td>\n",
       "      <td>858780</td>\n",
       "    </tr>\n",
       "    <tr>\n",
       "      <th>28</th>\n",
       "      <td>7761</td>\n",
       "      <td>568950</td>\n",
       "    </tr>\n",
       "    <tr>\n",
       "      <th>29</th>\n",
       "      <td>9919</td>\n",
       "      <td>729960</td>\n",
       "    </tr>\n",
       "    <tr>\n",
       "      <th>30</th>\n",
       "      <td>7167</td>\n",
       "      <td>527330</td>\n",
       "    </tr>\n",
       "    <tr>\n",
       "      <th>31</th>\n",
       "      <td>12542</td>\n",
       "      <td>923420</td>\n",
       "    </tr>\n",
       "  </tbody>\n",
       "</table>\n",
       "<p>357 rows × 2 columns</p>\n",
       "</div>"
      ],
      "text/plain": [
       "                   steps  distance\n",
       "dateTime dateTime                 \n",
       "1        1          7985    588090\n",
       "         2         11844    872460\n",
       "         3          7851    576640\n",
       "         4          8801    647600\n",
       "         5          9083    666630\n",
       "...                  ...       ...\n",
       "12       27        11664    858780\n",
       "         28         7761    568950\n",
       "         29         9919    729960\n",
       "         30         7167    527330\n",
       "         31        12542    923420\n",
       "\n",
       "[357 rows x 2 columns]"
      ]
     },
     "execution_count": 60,
     "metadata": {},
     "output_type": "execute_result"
    }
   ],
   "source": [
    "# Filter data to only retain rows for 2020 and aggregate by month and day\n",
    "\n",
    "# Retain only data corresponding to 2020\n",
    "df = df[df.index.year == 2020]\n",
    "\n",
    "#resulting dataframe after grouping and aggregation\n",
    "rdf = df.groupby( [df.index.month, df.index.day] ).sum()\n",
    "rdf"
   ]
  },
  {
   "cell_type": "code",
   "execution_count": 65,
   "id": "338d0a1d-b12b-4a92-a7b5-26412f3f0ef9",
   "metadata": {},
   "outputs": [
    {
     "data": {
      "text/html": [
       "<div>\n",
       "<style scoped>\n",
       "    .dataframe tbody tr th:only-of-type {\n",
       "        vertical-align: middle;\n",
       "    }\n",
       "\n",
       "    .dataframe tbody tr th {\n",
       "        vertical-align: top;\n",
       "    }\n",
       "\n",
       "    .dataframe thead th {\n",
       "        text-align: right;\n",
       "    }\n",
       "</style>\n",
       "<table border=\"1\" class=\"dataframe\">\n",
       "  <thead>\n",
       "    <tr style=\"text-align: right;\">\n",
       "      <th></th>\n",
       "      <th></th>\n",
       "      <th>steps</th>\n",
       "      <th>distance</th>\n",
       "    </tr>\n",
       "    <tr>\n",
       "      <th>dateTime</th>\n",
       "      <th>dateTime</th>\n",
       "      <th></th>\n",
       "      <th></th>\n",
       "    </tr>\n",
       "  </thead>\n",
       "  <tbody>\n",
       "    <tr>\n",
       "      <th rowspan=\"5\" valign=\"top\">1</th>\n",
       "      <th>1</th>\n",
       "      <td>7985</td>\n",
       "      <td>5.8809</td>\n",
       "    </tr>\n",
       "    <tr>\n",
       "      <th>2</th>\n",
       "      <td>11844</td>\n",
       "      <td>8.7246</td>\n",
       "    </tr>\n",
       "    <tr>\n",
       "      <th>3</th>\n",
       "      <td>7851</td>\n",
       "      <td>5.7664</td>\n",
       "    </tr>\n",
       "    <tr>\n",
       "      <th>4</th>\n",
       "      <td>8801</td>\n",
       "      <td>6.4760</td>\n",
       "    </tr>\n",
       "    <tr>\n",
       "      <th>5</th>\n",
       "      <td>9083</td>\n",
       "      <td>6.6663</td>\n",
       "    </tr>\n",
       "    <tr>\n",
       "      <th>...</th>\n",
       "      <th>...</th>\n",
       "      <td>...</td>\n",
       "      <td>...</td>\n",
       "    </tr>\n",
       "    <tr>\n",
       "      <th rowspan=\"5\" valign=\"top\">12</th>\n",
       "      <th>27</th>\n",
       "      <td>11664</td>\n",
       "      <td>8.5878</td>\n",
       "    </tr>\n",
       "    <tr>\n",
       "      <th>28</th>\n",
       "      <td>7761</td>\n",
       "      <td>5.6895</td>\n",
       "    </tr>\n",
       "    <tr>\n",
       "      <th>29</th>\n",
       "      <td>9919</td>\n",
       "      <td>7.2996</td>\n",
       "    </tr>\n",
       "    <tr>\n",
       "      <th>30</th>\n",
       "      <td>7167</td>\n",
       "      <td>5.2733</td>\n",
       "    </tr>\n",
       "    <tr>\n",
       "      <th>31</th>\n",
       "      <td>12542</td>\n",
       "      <td>9.2342</td>\n",
       "    </tr>\n",
       "  </tbody>\n",
       "</table>\n",
       "<p>357 rows × 2 columns</p>\n",
       "</div>"
      ],
      "text/plain": [
       "                   steps  distance\n",
       "dateTime dateTime                 \n",
       "1        1          7985    5.8809\n",
       "         2         11844    8.7246\n",
       "         3          7851    5.7664\n",
       "         4          8801    6.4760\n",
       "         5          9083    6.6663\n",
       "...                  ...       ...\n",
       "12       27        11664    8.5878\n",
       "         28         7761    5.6895\n",
       "         29         9919    7.2996\n",
       "         30         7167    5.2733\n",
       "         31        12542    9.2342\n",
       "\n",
       "[357 rows x 2 columns]"
      ]
     },
     "execution_count": 65,
     "metadata": {},
     "output_type": "execute_result"
    }
   ],
   "source": [
    "# Looks like the distance data is in cm, let's convert it to km\n",
    "rdf['distance'] = rdf['distance'].apply( lambda x: x / 10**5)"
   ]
  },
  {
   "cell_type": "code",
   "execution_count": 76,
   "id": "87ab007d-2023-47db-bc50-f86a9e0c6365",
   "metadata": {},
   "outputs": [
    {
     "data": {
      "image/png": "[encoded data removed]",
      "text/plain": [
       "<Figure size 640x480 with 1 Axes>"
      ]
     },
     "metadata": {},
     "output_type": "display_data"
    }
   ],
   "source": [
    "# Steps and distance should be highly correlated. Let's do a scatter\n",
    "# plot to verify.\n",
    "ax = rdf.plot(kind='scatter', x='steps', y='distance')"
   ]
  },
  {
   "cell_type": "code",
   "execution_count": 111,
   "id": "1be5c863-5885-4a84-88ee-c92a5e81c100",
   "metadata": {},
   "outputs": [
    {
     "data": {
      "image/png": "[encoded data removed]",
      "text/plain": [
       "<Figure size 640x480 with 1 Axes>"
      ]
     },
     "metadata": {},
     "output_type": "display_data"
    }
   ],
   "source": [
    "# Let's look at the average number of steps per day for each month\n",
    "ax = rdf['steps'].unstack().mean(axis=1).plot(kind='bar', xlabel='Month', ylabel='Steps', \n",
    "                                              title='Daily Average')"
   ]
  },
  {
   "cell_type": "code",
   "execution_count": 110,
   "id": "00bda0a2-d951-45ce-aa8b-c2cedaeb7e0f",
   "metadata": {},
   "outputs": [
    {
     "data": {
      "image/png": "[encoded data removed]",
      "text/plain": [
       "<Figure size 640x480 with 1 Axes>"
      ]
     },
     "metadata": {},
     "output_type": "display_data"
    }
   ],
   "source": [
    "# Max steps for each month labelled with the date of the max\n",
    "ax = rdf['steps'].unstack().max(axis=1).plot(kind='barh', xlabel='Steps', \n",
    "                                             ylabel='Month', \n",
    "                                             title=\"Max. Steps\")\n",
    "max_days = rdf['steps'].unstack().idxmax(axis=1)\n",
    "ax.bar_label(ax.containers[0], labels=max_days.values)\n",
    "plt.show()"
   ]
  },
  {
   "cell_type": "code",
   "execution_count": null,
   "id": "00ec83b7-fea0-4edb-8039-2ca8c0d18da4",
   "metadata": {},
   "outputs": [],
   "source": []
  }
 ],
 "metadata": {
  "kernelspec": {
   "display_name": "Python 3 (ipykernel)",
   "language": "python",
   "name": "python3"
  },
  "language_info": {
   "codemirror_mode": {
    "name": "ipython",
    "version": 3
   },
   "file_extension": ".py",
   "mimetype": "text/x-python",
   "name": "python",
   "nbconvert_exporter": "python",
   "pygments_lexer": "ipython3",
   "version": "3.10.5"
  }
 },
 "nbformat": 4,
 "nbformat_minor": 5
}
