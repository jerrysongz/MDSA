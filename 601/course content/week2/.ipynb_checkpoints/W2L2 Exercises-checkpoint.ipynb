{
 "cells": [
  {
   "cell_type": "markdown",
   "id": "be40c051",
   "metadata": {},
   "source": [
    "# Introduction to Python II\n",
    "\n",
    "## Intermediate Programming Constructs\n",
    "\n",
    "### DATA 601\n",
    "\n",
    "Exercises"
   ]
  },
  {
   "cell_type": "markdown",
   "id": "069b2d03",
   "metadata": {},
   "source": [
    "## Question 1: List Processing\n",
    "\n",
    "This question asks you to process data stored in lists. To focus on problem solving and to make your code more readable, *you may use built-in functions*, do not import additional modules/libraries. Try and use comprehensions whenever possible.\n",
    "\n",
    "a. Given two lists, write a Python function called `myprod(l1, l2)` that produces a list containing all possible pairings &mdash; as tuples &mdash; of the elements in the two lists, i.e. the Cartesian product of the two lists. The first element of each tuple should come from `l1` and the second element should come from `l2`. You can assume that the lists will not have any duplicates.  \n",
    "<br>\n",
    "For example, the Cartesian product of the two lists `['A', 'K', 'Q', 'J', '10', '9', '8', '7', '6', '5', '4', '3', '2']` and `['♠', '♥', '♦', '♣']` should yield a standard deck of playing cards."
   ]
  },
  {
   "cell_type": "code",
   "execution_count": 2,
   "id": "51224a2a",
   "metadata": {},
   "outputs": [],
   "source": [
    "def myprod(l1, l2):\n",
    "    ..."
   ]
  },
  {
   "cell_type": "code",
   "execution_count": 4,
   "id": "46bd1695",
   "metadata": {},
   "outputs": [],
   "source": [
    "## Use this cell for any tests you wish to run on myprod."
   ]
  },
  {
   "cell_type": "markdown",
   "id": "5e85f77c",
   "metadata": {},
   "source": [
    "b. Write a Python function called `mytally( li )` that takes a list `li` and returns a dictionary whose keys are the unique entries in `li` and whose values are the counts of each of the unique entries. For example:<br><br>\n",
    "      `mytally( [1, 2, 3, 3, 4, 5, 6, 6, 6, 7, 8, 9, 9] )` <br> \n",
    "      should return <br>\n",
    "      `{1:1, 2:1, 3:2, 4:1, 5:1, 6:3, 7:1, 8:1, 9:2}`\n",
    "      \n"
   ]
  },
  {
   "cell_type": "code",
   "execution_count": 5,
   "id": "8b841260",
   "metadata": {},
   "outputs": [],
   "source": [
    "def mytally( li ):\n",
    "    ..."
   ]
  },
  {
   "cell_type": "code",
   "execution_count": 6,
   "id": "946b108a",
   "metadata": {},
   "outputs": [],
   "source": [
    "## Use this cell for any tests you wish to run on mytally."
   ]
  },
  {
   "cell_type": "markdown",
   "id": "133db4b9",
   "metadata": {},
   "source": [
    "c. Write a function called `mysplit( li )` that takes a list `li` and splits it into sublists consisting of runs of identitical elements. The returned list should be sorted in ascending order. You may assume that `li` consists of immutable and comparable objects. For example:<br><br>\n",
    "   `mysplit( [1, 6, 3, 9, 4, 5, 2, 6, 6, 7, 8, 9, 3] )` <br> \n",
    "    should return <br>\n",
    "    `[[1], [2], [3,3], [4], [5], [6,6,6], [7], [8], [9,9]]`"
   ]
  },
  {
   "cell_type": "code",
   "execution_count": 8,
   "id": "755f89d1",
   "metadata": {},
   "outputs": [],
   "source": [
    "def mysplit( li ):\n",
    "    ..."
   ]
  },
  {
   "cell_type": "code",
   "execution_count": 9,
   "id": "291415c4",
   "metadata": {},
   "outputs": [],
   "source": [
    "## Use this cell for any tests you wish to run on mysplit."
   ]
  },
  {
   "cell_type": "markdown",
   "id": "09654f83",
   "metadata": {},
   "source": [
    "## Question 2: Lambda functions\n",
    "\n",
    "Answer these questions using anonymous functions."
   ]
  },
  {
   "cell_type": "markdown",
   "id": "018cf247",
   "metadata": {},
   "source": [
    "(a) Filter a list of integers by: <br>\n",
    "(i) Odd numbers<br>\n",
    "(ii) Even numbers<br>\n",
    "(iii) Square numbers<br>\n",
    "\n",
    "For example, if your input list is [1,2,3,4,5,6,7,8,9,10], your program should output:<br>\n",
    "(i) [1,3,5,7,9] <br>\n",
    "(ii) [2,4,6,8,10] <br>\n",
    "(iii) [1,4,9] <br>"
   ]
  },
  {
   "cell_type": "code",
   "execution_count": null,
   "id": "b90b029c",
   "metadata": {},
   "outputs": [],
   "source": []
  },
  {
   "cell_type": "code",
   "execution_count": null,
   "id": "e6ee774d",
   "metadata": {},
   "outputs": [],
   "source": []
  },
  {
   "cell_type": "code",
   "execution_count": null,
   "id": "e098250b",
   "metadata": {},
   "outputs": [],
   "source": []
  },
  {
   "cell_type": "markdown",
   "id": "ae3e96a8",
   "metadata": {},
   "source": [
    "(b) Determine if an input string contains a given letter. Ignore case. \n",
    "\n",
    "For example, your program should output 'True' for input string 'Data Science' and given letter 's'."
   ]
  },
  {
   "cell_type": "code",
   "execution_count": null,
   "id": "51755b01",
   "metadata": {},
   "outputs": [],
   "source": []
  },
  {
   "cell_type": "markdown",
   "id": "15b1e47d",
   "metadata": {},
   "source": [
    "(c) Generate Fibonacci numbers up to a given n. [Reminder: The Fibonacci sequence is constructed by adding the previous two numbers to generate the next. The first few are 1, 1, 2, 3, 5, 8, 13...]"
   ]
  },
  {
   "cell_type": "code",
   "execution_count": null,
   "id": "2413186a",
   "metadata": {},
   "outputs": [],
   "source": []
  },
  {
   "cell_type": "markdown",
   "id": "32526e77",
   "metadata": {},
   "source": [
    "(d) Multiply each number in a list by 5. \n",
    "\n",
    "For example, for the list [1,2,3,9], your program should output [5,10,15,45]."
   ]
  },
  {
   "cell_type": "code",
   "execution_count": null,
   "id": "e95003d4",
   "metadata": {},
   "outputs": [],
   "source": []
  }
 ],
 "metadata": {
  "kernelspec": {
   "display_name": "Python 3",
   "language": "python",
   "name": "python3"
  },
  "language_info": {
   "codemirror_mode": {
    "name": "ipython",
    "version": 3
   },
   "file_extension": ".py",
   "mimetype": "text/x-python",
   "name": "python",
   "nbconvert_exporter": "python",
   "pygments_lexer": "ipython3",
   "version": "3.8.8"
  }
 },
 "nbformat": 4,
 "nbformat_minor": 5
}
