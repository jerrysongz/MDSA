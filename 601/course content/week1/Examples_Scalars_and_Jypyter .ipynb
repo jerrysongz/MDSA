{
 "cells": [
  {
   "cell_type": "markdown",
   "metadata": {},
   "source": [
    "\n",
    "# Examples\n",
    "\n",
    "## Introduction to Python I\n",
    "\n",
    "### DATA 601\n"
   ]
  },
  {
   "cell_type": "markdown",
   "metadata": {},
   "source": [
    "## Matrix-Vector Multiplication\n",
    "\n",
    "Key points to remember:\n",
    "\n",
    "- We'll represent a matrix as a list of lists. Each row is represented as a list and all the rows are put together inside another list.\n",
    "- This representation can handle non-square matrices of size $m \\times n$, where $m$ is the number of rows and $n$ is the number of columns. All sub-lists inside the top-level list should have the same size $n$: the number of columns.\n",
    "\n",
    "\n",
    "Here are some sample matrices that we'll work with:\n",
    "\n",
    "$$\n",
    "A = \n",
    "\\begin{bmatrix}\n",
    "1 & -1 & -1 & 1\\\\\n",
    "-1 & 1 & -1 & 1\\\\\n",
    "-1 & -1 & 1 & 1\\\\\n",
    "\\end{bmatrix}\n",
    "$$\n",
    "\n",
    "$$\n",
    "B = \n",
    "\\begin{bmatrix}\n",
    "1 & \\tfrac{1}{2} \\\\\n",
    "0 & \\tfrac{\\sqrt{3}}{2}\n",
    "\\end{bmatrix}\n",
    "$$"
   ]
  },
  {
   "cell_type": "code",
   "execution_count": 1,
   "metadata": {},
   "outputs": [
    {
     "name": "stdout",
     "output_type": "stream",
     "text": [
      "[[1, -1, -1, 1], [-1, 1, -1, 1], [-1, -1, 1, 1]]\n",
      "[[1, 0.5], [0, 0.8660254037844386]]\n"
     ]
    }
   ],
   "source": [
    "# matrix definitons\n",
    "import math\n",
    "\n",
    "A = [ [1,-1,-1,1], [-1,1,-1,1], [-1,-1,1,1]]\n",
    "B = [ [1, 1/2], [0, math.sqrt(3) / 2] ]\n",
    "\n",
    "print(A)\n",
    "print(B)"
   ]
  },
  {
   "cell_type": "code",
   "execution_count": 2,
   "metadata": {},
   "outputs": [],
   "source": [
    "# dot product of two vectors\n",
    "def dot(v1, v2):\n",
    "    result = 0\n",
    "    for i in range(len(v1)):\n",
    "        result += v1[i] * v2[i]\n",
    "    return result\n",
    "\n",
    "# matrix-vector product\n",
    "def mmult(A, x):\n",
    "    b = list(range(len(A)))\n",
    "    for i in range(len(A)):\n",
    "        b[i] = dot(A[i], x)\n",
    "    return b"
   ]
  },
  {
   "cell_type": "code",
   "execution_count": 3,
   "metadata": {},
   "outputs": [
    {
     "name": "stdout",
     "output_type": "stream",
     "text": [
      "Variable          Type             Data/Info\n",
      "--------------------------------------------\n",
      "A                 list             n=3\n",
      "B                 list             n=2\n",
      "NamespaceMagics   MetaHasTraits    <class 'IPython.core.magi<...>mespace.NamespaceMagics'>\n",
      "dot               function         <function dot at 0x7f5a6fd44f70>\n",
      "get_ipython       function         <function get_ipython at 0x7f5a716a69e0>\n",
      "json              module           <module 'json' from '/opt<...>on3.10/json/__init__.py'>\n",
      "math              module           <module 'math' from '/opt<...>310-x86_64-linux-gnu.so'>\n",
      "mmult             function         <function mmult at 0x7f5a6fd44af0>\n",
      "sys               module           <module 'sys' (built-in)>\n"
     ]
    }
   ],
   "source": [
    "%whos"
   ]
  },
  {
   "cell_type": "code",
   "execution_count": 4,
   "metadata": {},
   "outputs": [
    {
     "name": "stdout",
     "output_type": "stream",
     "text": [
      "[2.0, 1.7320508075688772]\n"
     ]
    }
   ],
   "source": [
    "# Test matrix-vector multiplication\n",
    "\n",
    "print(mmult( B, [1, 2]))"
   ]
  },
  {
   "cell_type": "markdown",
   "metadata": {},
   "source": [
    "## Binning Example\n",
    "\n",
    "For this example, we'll assume that the data range is $[0,99]$, and we have ten equally sized bins: $[0,9]\\,, [10,19]\\,, \\ldots\\,, [90-99]$. Given a list of data values, we'd like to produce a histogram that consists of the counts of the data values that fall in each of the bins."
   ]
  },
  {
   "cell_type": "code",
   "execution_count": 5,
   "metadata": {},
   "outputs": [
    {
     "data": {
      "text/plain": [
       "[0, 0, 0, 0, 0, 0, 0, 0, 0, 0, 0, 0, 0, 0, 0]"
      ]
     },
     "execution_count": 5,
     "metadata": {},
     "output_type": "execute_result"
    }
   ],
   "source": [
    "# Here is the syntax for quickly producing a list of identical elements.\n",
    "[0]*15"
   ]
  },
  {
   "cell_type": "code",
   "execution_count": 6,
   "metadata": {},
   "outputs": [],
   "source": [
    "# Function to compute the histogram and output the result as a list\n",
    "def hist(X):\n",
    "    result = [0]*10\n",
    "    for el in X:\n",
    "        result[el // 10] += 1\n",
    "    return result"
   ]
  },
  {
   "cell_type": "code",
   "execution_count": 7,
   "metadata": {},
   "outputs": [],
   "source": [
    "X = [46, 1, 49, 13, 59, 86, 53, 52, 95, 75]"
   ]
  },
  {
   "cell_type": "code",
   "execution_count": 8,
   "metadata": {},
   "outputs": [
    {
     "name": "stdout",
     "output_type": "stream",
     "text": [
      "[1, 1, 0, 0, 2, 3, 0, 1, 1, 1]\n"
     ]
    }
   ],
   "source": [
    "print( hist(X) )"
   ]
  },
  {
   "cell_type": "code",
   "execution_count": null,
   "metadata": {},
   "outputs": [],
   "source": []
  }
 ],
 "metadata": {
  "kernelspec": {
   "display_name": "Python 3 (ipykernel)",
   "language": "python",
   "name": "python3"
  },
  "language_info": {
   "codemirror_mode": {
    "name": "ipython",
    "version": 3
   },
   "file_extension": ".py",
   "mimetype": "text/x-python",
   "name": "python",
   "nbconvert_exporter": "python",
   "pygments_lexer": "ipython3",
   "version": "3.10.5"
  }
 },
 "nbformat": 4,
 "nbformat_minor": 4
}
