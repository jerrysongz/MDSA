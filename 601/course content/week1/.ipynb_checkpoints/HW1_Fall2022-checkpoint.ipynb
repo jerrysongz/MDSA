{
 "cells": [
  {
   "cell_type": "code",
   "execution_count": 1,
   "id": "283ddc93",
   "metadata": {
    "deletable": false,
    "editable": false
   },
   "outputs": [],
   "source": [
    "# Initialize Otter\n",
    "import otter\n",
    "grader = otter.Notebook(\"HW1_Fall2022.ipynb\")"
   ]
  },
  {
   "cell_type": "markdown",
   "id": "686642ed",
   "metadata": {},
   "source": [
    "# DATA 601\n",
    "\n",
    "## HW1\n",
    "\n",
    "\n",
    "**Learning Objectives**\n",
    "\n",
    "- Explore built-in data types in Python.\n",
    "- Review fundamental programming and problem solving concepts with Python.\n",
    "- Implement functions based on mathematical concepts and definitions.\n",
    "- Gain experience working with the Jupyter notebook environment.\n",
    "\n",
    "_This is an individual homework assignment._ \n",
    "\n",
    "Please complete this homework assignment within the Jupypter notebook environment.  \n",
    "\n",
    "#### Submission \n",
    "\n",
    "In order to ensure that everything goes smoothly, and is easy to grade please follow these instructions:\n",
    "\n",
    "- Please provide your solutions where asked; please do not alter any other parts of this notebook.\n"
   ]
  },
  {
   "cell_type": "markdown",
   "id": "5c3c26d7",
   "metadata": {},
   "source": [
    "#### <font color='red'> Note: Passing the provided test-cases doesn't guarantee points. We check your code with other test-cases for grading.</font> "
   ]
  },
  {
   "cell_type": "code",
   "execution_count": 2,
   "id": "08676521",
   "metadata": {},
   "outputs": [],
   "source": [
    "# Check that we are using a recent version of Jupyter.\n",
    "import IPython\n",
    "assert IPython.version_info[0] >= 3, \"Your version of IPython is too old, please update it.\""
   ]
  },
  {
   "cell_type": "markdown",
   "id": "68b89776",
   "metadata": {},
   "source": [
    "## Part A\n",
    "\n",
    "This part focuses on scalar types. You should be able to complete the following questions without using any collection types."
   ]
  },
  {
   "cell_type": "markdown",
   "id": "54ebc149",
   "metadata": {},
   "source": [
    "### Question 1\n",
    "\n",
    "The central bionomial coefficients form a vertical row down the middle of Pascal's triangle. They can be calculated via the following formula:\n",
    "\n",
    "$$\n",
    "{2n\\choose n} = \\frac{(2n)!}{(n!)^2} = \\prod_{k=1}^{n} \\frac{n+k}{k}  \n",
    "$$\n",
    "\n",
    "Write a function that calculates the nth central bionomial coefficient. You may use in-built functions to calculate the factorials.\n",
    "\n",
    "(3 points)"
   ]
  },
  {
   "cell_type": "code",
   "execution_count": 3,
   "id": "1059808f",
   "metadata": {
    "tags": []
   },
   "outputs": [],
   "source": [
    "import math \n",
    "def cent_binomial_coef(n):\n",
    "    result = math.factorial(2*n)/(math.factorial(n))**2\n",
    "    return result\n"
   ]
  },
  {
   "cell_type": "code",
   "execution_count": 4,
   "id": "888aac08",
   "metadata": {
    "deletable": false,
    "editable": false
   },
   "outputs": [
    {
     "data": {
      "text/html": [
       "<p><strong><pre style='display: inline;'>q1_a</pre></strong> passed!</p>"
      ],
      "text/plain": [
       "q1_a results: All test cases passed!"
      ]
     },
     "execution_count": 4,
     "metadata": {},
     "output_type": "execute_result"
    }
   ],
   "source": [
    "grader.check(\"q1_a\")"
   ]
  },
  {
   "cell_type": "markdown",
   "id": "c38f2137",
   "metadata": {},
   "source": [
    "### Question 2\n",
    "\n",
    "Write a function that determines whether an integer is prime. You may not use built-in functions to determine this directly.\n",
    "\n",
    "(8 points)"
   ]
  },
  {
   "cell_type": "code",
   "execution_count": 5,
   "id": "f106b860",
   "metadata": {
    "tags": []
   },
   "outputs": [],
   "source": [
    "def is_prime(n):\n",
    "    if n <= 1:\n",
    "        return False\n",
    "    for i in range(2,n):\n",
    "        if n % i == 0:\n",
    "            return False\n",
    "    return True"
   ]
  },
  {
   "cell_type": "code",
   "execution_count": 6,
   "id": "e72bfafd",
   "metadata": {
    "deletable": false,
    "editable": false
   },
   "outputs": [
    {
     "data": {
      "text/html": [
       "<p><strong><pre style='display: inline;'>q2_a</pre></strong> passed!</p>"
      ],
      "text/plain": [
       "q2_a results: All test cases passed!"
      ]
     },
     "execution_count": 6,
     "metadata": {},
     "output_type": "execute_result"
    }
   ],
   "source": [
    "grader.check(\"q2_a\")"
   ]
  },
  {
   "cell_type": "markdown",
   "id": "d5862d3a",
   "metadata": {},
   "source": [
    "##### Question 3\n",
    "\n",
    "(5 points)\n",
    "\n",
    "Many things in nature can be modeled by the exponential growth function: \n",
    "$$\n",
    "P(t) = \\alpha \\beta^{\\frac{t}{\\tau}},\n",
    "$$\n",
    "where $\\alpha$ is the initial population, $\\beta$ is the growth rate factor, t is the time passed, and $\\tau$ is the time constant. \n",
    "\n",
    "Imagine that you are an entomologist on the plant Zergo. There is a small insect of interest to you on this planet which has an exponential growth rate. From experimentation you determine that: \n",
    "$\\beta= \\sqrt\\frac{5}{4}$,  and $\\tau= 2^{\\frac{1}{3}}$.\n",
    "\n",
    "Starting with a population $\\alpha$ of 10, use this formula to compute $P(t)$ in the function `population(t)` below. \n",
    "\n",
    "<!--\n",
    "BEGIN QUESTION\n",
    "name: A3\n",
    "manual: true\n",
    "points: 2\n",
    "-->"
   ]
  },
  {
   "cell_type": "code",
   "execution_count": 7,
   "id": "78d604b0",
   "metadata": {
    "tags": []
   },
   "outputs": [],
   "source": [
    "import math\n",
    "def population(t):\n",
    "    return int(10*(math.sqrt(5/4)**(t/(2**(1/3)))))"
   ]
  },
  {
   "cell_type": "code",
   "execution_count": 8,
   "id": "ba90bde8",
   "metadata": {
    "deletable": false,
    "editable": false
   },
   "outputs": [
    {
     "data": {
      "text/html": [
       "<p><strong><pre style='display: inline;'>q3_a</pre></strong> passed!</p>"
      ],
      "text/plain": [
       "q3_a results: All test cases passed!"
      ]
     },
     "execution_count": 8,
     "metadata": {},
     "output_type": "execute_result"
    }
   ],
   "source": [
    "grader.check(\"q3_a\")"
   ]
  },
  {
   "cell_type": "markdown",
   "id": "43ebffb2",
   "metadata": {},
   "source": [
    "## Part B\n",
    "\n",
    "Questions in this part rely on strings, lists, and tuples."
   ]
  },
  {
   "cell_type": "markdown",
   "id": "94373ea9",
   "metadata": {},
   "source": [
    "### Question 1\n",
    "\n",
    "Consider the lists $a=[2,1,2,5,3,1]$ and $b=[2,1,7,1]$. The intersection of these lists, $a \\cap b$, is $[1,1,2]$. Write a function that returns the intersection of two arbitrary lists. You may not use built-in set operations, and should pay attention to duplicates.\n",
    "\n",
    "(5 points)\n"
   ]
  },
  {
   "cell_type": "code",
   "execution_count": 9,
   "id": "32ab4dd2",
   "metadata": {
    "tags": []
   },
   "outputs": [],
   "source": [
    "def intersection_list(a,b):\n",
    "    if not a or not b:\n",
    "        return None\n",
    "    intersection=[]\n",
    "    for i in a:\n",
    "        for j in b:\n",
    "            if i == j:\n",
    "                intersection.append(i)\n",
    "                b.remove(j)\n",
    "                break\n",
    "    if not intersection:\n",
    "        return None\n",
    "    return intersection"
   ]
  },
  {
   "cell_type": "code",
   "execution_count": 10,
   "id": "7adc0f31",
   "metadata": {
    "deletable": false,
    "editable": false
   },
   "outputs": [
    {
     "data": {
      "text/html": [
       "<p><strong><pre style='display: inline;'>q1_b</pre></strong> passed!</p>"
      ],
      "text/plain": [
       "q1_b results: All test cases passed!"
      ]
     },
     "execution_count": 10,
     "metadata": {},
     "output_type": "execute_result"
    }
   ],
   "source": [
    "grader.check(\"q1_b\")"
   ]
  },
  {
   "cell_type": "markdown",
   "id": "da603423",
   "metadata": {},
   "source": [
    "### Question 2\n",
    "(8 points)\n",
    "\n",
    "The scalar triple product of three vectors is defined as:\n",
    "\n",
    "$$\n",
    "a.(b \\times c)\n",
    "$$\n",
    "\n",
    "Write a function that calculates the scalar triple product of three vectors, a, b, and c."
   ]
  },
  {
   "cell_type": "code",
   "execution_count": 11,
   "id": "1b3eb547",
   "metadata": {
    "tags": []
   },
   "outputs": [],
   "source": [
    "def striple_prod(a,b,c):\n",
    "    if not a or not b or not c:\n",
    "        return None\n",
    "    return a[0]*(b[1]*c[2]-b[2]*c[1]) - a[1]*(b[0]*c[2]-b[2]*c[0]) + a[2]*(b[0]*c[1]-b[1]*c[0])\n",
    "    \n",
    "    \n",
    "        "
   ]
  },
  {
   "cell_type": "code",
   "execution_count": 12,
   "id": "0cd2da84",
   "metadata": {
    "deletable": false,
    "editable": false
   },
   "outputs": [
    {
     "data": {
      "text/html": [
       "<p><strong><pre style='display: inline;'>q2_b</pre></strong> passed!</p>"
      ],
      "text/plain": [
       "q2_b results: All test cases passed!"
      ]
     },
     "execution_count": 12,
     "metadata": {},
     "output_type": "execute_result"
    }
   ],
   "source": [
    "grader.check(\"q2_b\")"
   ]
  },
  {
   "cell_type": "markdown",
   "id": "4becb626",
   "metadata": {},
   "source": [
    "### Question 3\n",
    "(10 points)\n",
    "\n",
    "Write a function that, given a piece of text, calculates the most frequently occuring letter.\n"
   ]
  },
  {
   "cell_type": "code",
   "execution_count": 13,
   "id": "0142a6f3",
   "metadata": {
    "tags": []
   },
   "outputs": [],
   "source": [
    "def freq_letters(text):\n",
    "    count ={}\n",
    "    for i in text:\n",
    "        if i.isalpha():\n",
    "            i = i.lower()\n",
    "            if i not in count:\n",
    "                count[i] = 1\n",
    "            else:\n",
    "                count[i] += 1\n",
    "    mostfreqcount = 0\n",
    "    mostf = ''\n",
    "    for n in count:\n",
    "        if count[n] > mostfreqcount:\n",
    "            mostfreqcount = count[n]\n",
    "            mostf = n\n",
    "    return n "
   ]
  },
  {
   "cell_type": "code",
   "execution_count": 16,
   "id": "afbf1e02",
   "metadata": {
    "deletable": false,
    "editable": false
   },
   "outputs": [
    {
     "data": {
      "text/html": [
       "<p><strong><pre style='display: inline;'>q3_b_1</pre></strong> passed!</p><p><strong><pre style='display: inline;'>q3_b_1 - 1</pre> message:</strong> Good job!</p>"
      ],
      "text/plain": [
       "q3_b_1 results: All test cases passed!\n",
       "q3_b_1 - 1 message: Good job!"
      ]
     },
     "execution_count": 16,
     "metadata": {},
     "output_type": "execute_result"
    }
   ],
   "source": [
    "grader.check(\"q3_b_1\")"
   ]
  },
  {
   "cell_type": "markdown",
   "id": "d926a55e",
   "metadata": {},
   "source": [
    "Write a second function that returns the number of vowels and consonants in the text."
   ]
  },
  {
   "cell_type": "code",
   "execution_count": 17,
   "id": "9877ea1b",
   "metadata": {
    "tags": []
   },
   "outputs": [],
   "source": [
    "def vowels(text):\n",
    "    nofv = 0\n",
    "    nofc = 0\n",
    "    for i in text:\n",
    "        if i.isalpha():\n",
    "            i = i.lower()\n",
    "            if i in 'bcdfghjklmnpqrstvwxyz':\n",
    "                nofc += 1\n",
    "            if i in 'aeiou':\n",
    "                nofv += 1\n",
    "    return (nofv, nofc)\n",
    "\n",
    "    "
   ]
  },
  {
   "cell_type": "code",
   "execution_count": 18,
   "id": "10828371",
   "metadata": {
    "deletable": false,
    "editable": false
   },
   "outputs": [
    {
     "data": {
      "text/html": [
       "<p><strong><pre style='display: inline;'>q3_b_2</pre></strong> passed!</p>"
      ],
      "text/plain": [
       "q3_b_2 results: All test cases passed!"
      ]
     },
     "execution_count": 18,
     "metadata": {},
     "output_type": "execute_result"
    }
   ],
   "source": [
    "grader.check(\"q3_b_2\")"
   ]
  },
  {
   "cell_type": "markdown",
   "id": "8b72a1fe",
   "metadata": {
    "tags": []
   },
   "source": [
    "## Part C\n",
    "\n",
    "The question in this part of the assignment is intended to:\n",
    "\n",
    "  1) Illuminate how what you already know is useful in this context.\n",
    "  \n",
    "  2) Provide an exercise in writing about coding concepts and ideas and using the relevant language and terminology. \n",
    "  \n",
    "  3) Demonstrate your understanding of the assignment material in a different format.\n"
   ]
  },
  {
   "cell_type": "markdown",
   "id": "5d225659",
   "metadata": {},
   "source": [
    "<!-- BEGIN QUESTION -->\n",
    "\n",
    "### Question 1 \n",
    "(3 points) \n",
    "\n",
    "In 100 to 250 words identify a concept you have found difficult or confusing from this assignment. Reflect on how your previous learning or experience helped you to understand this concept. Provide your reflection using markdown in the cell below. "
   ]
  },
  {
   "cell_type": "markdown",
   "id": "6d7a0bdf",
   "metadata": {},
   "source": [
    "I have not been doing python problems for a while now. Everything same familiar to me but not so much. In part A, for question 1, I know that there must be a way that we could use recursion to solve it as there's a product. However, I do not know how to do it in a recursion way. Therefore I used the factorial function. I had no problem whatsoever doing questions 2 and 3. Part B was quite challenging. For question 1, the way I did it ely not the most efficient in order to the time and space complexity. For question 2, I forget what I have learned in linear algebra. Therefore, I had to look up the definitions. Question 3 is not as hard as I thought it would be. I did question 3 after the 12th lecture, which helped me recall the data structure of the dictionary in Python."
   ]
  },
  {
   "cell_type": "markdown",
   "id": "8190ae0d",
   "metadata": {},
   "source": [
    "_Type your answer here, replacing this text._"
   ]
  },
  {
   "cell_type": "markdown",
   "id": "bd827d5b",
   "metadata": {},
   "source": [
    "<!-- END QUESTION -->\n",
    "\n",
    "## Submission\n",
    "\n",
    "Make sure you have run all cells in your notebook and that your code works as expected. Save your notebook and upload it to <a href=https://www.gradescope.ca >Gradescope</a>\n",
    "**Please save (ctrl+s) before uploading!**"
   ]
  },
  {
   "cell_type": "code",
   "execution_count": null,
   "id": "fc1daaa6",
   "metadata": {},
   "outputs": [],
   "source": []
  }
 ],
 "metadata": {
  "kernelspec": {
   "display_name": "Python 3 (ipykernel)",
   "language": "python",
   "name": "python3"
  },
  "language_info": {
   "codemirror_mode": {
    "name": "ipython",
    "version": 3
   },
   "file_extension": ".py",
   "mimetype": "text/x-python",
   "name": "python",
   "nbconvert_exporter": "python",
   "pygments_lexer": "ipython3",
   "version": "3.10.5"
  },
  "otter": {
   "OK_FORMAT": true,
   "tests": {
    "q1_a": {
     "name": "q1_a",
     "points": 3,
     "suites": [
      {
       "cases": [
        {
         "code": ">>> cent_binomial_coef(0) == 1\nTrue",
         "failure_message": "Don't forget (0)! is 1.",
         "hidden": false,
         "locked": false,
         "points": 0
        },
        {
         "code": ">>> cent_binomial_coef(1) == 2\nTrue",
         "hidden": false,
         "locked": false,
         "points": 0
        }
       ],
       "scored": true,
       "setup": "",
       "teardown": "",
       "type": "doctest"
      }
     ]
    },
    "q1_b": {
     "name": "q1_b",
     "points": 5,
     "suites": [
      {
       "cases": [
        {
         "code": ">>> def testcase1(intersection_list):\n...     temp = intersection_list([2,1,2,5,3,1], [2,1,7,1])\n...     length = len(temp)\n...     ones = temp.count(1)\n...     twos = temp.count(2)\n...     assert (length, ones, twos) == (3, 2, 1)\n>>> testcase1(intersection_list)\n",
         "hidden": false,
         "locked": false,
         "points": 0
        }
       ],
       "scored": true,
       "setup": "",
       "teardown": "",
       "type": "doctest"
      }
     ]
    },
    "q2_a": {
     "name": "q2_a",
     "points": 8,
     "suites": [
      {
       "cases": [
        {
         "code": ">>> is_prime(2) == True\nTrue",
         "hidden": false,
         "locked": false,
         "points": 0
        },
        {
         "code": ">>> is_prime(3) == True\nTrue",
         "hidden": false,
         "locked": false,
         "points": 0
        },
        {
         "code": ">>> is_prime(4) == False\nTrue",
         "hidden": false,
         "locked": false,
         "points": 0
        }
       ],
       "scored": true,
       "setup": "",
       "teardown": "",
       "type": "doctest"
      }
     ]
    },
    "q2_b": {
     "name": "q2_b",
     "points": 8,
     "suites": [
      {
       "cases": [
        {
         "code": ">>> striple_prod([5, 1, 2], [-1]*3, [2, 1, 0]) == 5\nTrue",
         "hidden": false,
         "locked": false,
         "points": 0
        }
       ],
       "scored": true,
       "setup": "",
       "teardown": "",
       "type": "doctest"
      }
     ]
    },
    "q3_a": {
     "name": "q3_a",
     "points": 5,
     "suites": [
      {
       "cases": [
        {
         "code": ">>> population(5.7) == 16\nTrue",
         "hidden": false,
         "locked": false,
         "points": 0
        },
        {
         "code": ">>> population(2.9) == 12\nTrue",
         "hidden": false,
         "locked": false,
         "points": 0
        }
       ],
       "scored": true,
       "setup": "",
       "teardown": "",
       "type": "doctest"
      }
     ]
    },
    "q3_b_1": {
     "name": "q3_b_1",
     "points": 5,
     "suites": [
      {
       "cases": [
        {
         "code": ">>> freq_letters('a!!!!!').lower() == 'a'\nTrue",
         "failure_message": "You should only count letters a-z and not numbers, punctuation, spaces, etc.",
         "hidden": false,
         "locked": false,
         "points": 0,
         "success_message": "Good job!"
        }
       ],
       "scored": true,
       "setup": "",
       "teardown": "",
       "type": "doctest"
      }
     ]
    },
    "q3_b_2": {
     "name": "q3_b_2",
     "points": 5,
     "suites": [
      {
       "cases": [
        {
         "code": ">>> vowels('I like banana!!') == (6, 5)\nTrue",
         "hidden": false,
         "locked": false,
         "points": 0
        }
       ],
       "scored": true,
       "setup": "",
       "teardown": "",
       "type": "doctest"
      }
     ]
    }
   }
  }
 },
 "nbformat": 4,
 "nbformat_minor": 5
}
