{
 "cells": [
  {
   "cell_type": "code",
   "execution_count": null,
   "metadata": {
    "deletable": false,
    "editable": false
   },
   "outputs": [],
   "source": [
    "# Initialize Otter\n",
    "import otter\n",
    "grader = otter.Notebook(\"PythonPractice.ipynb\")"
   ]
  },
  {
   "cell_type": "markdown",
   "metadata": {},
   "source": [
    "# DATA 601\n",
    "\n",
    "## Python Basics\n",
    "\n",
    "### Practice Problems\n",
    "\n",
    "**Learning Objectives**\n",
    "\n",
    "- Explore built-in data types in Python.\n",
    "- Review fundamental programming and problem solving concepts with Python.\n",
    "- Implement functions based on mathematical concepts and definitions.\n",
    "- Gain experience working with the Jupyter notebook environment."
   ]
  },
  {
   "cell_type": "code",
   "execution_count": 3,
   "metadata": {},
   "outputs": [],
   "source": [
    "# Check that we are using a recent version of Jupyter.\n",
    "import IPython\n",
    "assert IPython.version_info[0] >= 3, \"Your version of IPython is too old, please update it.\""
   ]
  },
  {
   "cell_type": "markdown",
   "metadata": {},
   "source": [
    "#### Testing\n",
    "\n",
    "This notebook makes use of the [Otter autograder](https://otter-grader.readthedocs.io/en/latest/otter_check/index.html) for testing. You can run the test code cell below each question to test your code. You are also encouraged to test with other inputs."
   ]
  },
  {
   "cell_type": "code",
   "execution_count": 4,
   "metadata": {},
   "outputs": [],
   "source": [
    "# Otter-grader is already installed on UCalgary's Data Science Hub. \n",
    "# If you are using another Jupyter environment and need to install \n",
    "# `otter-grader`, uncomment the following line and execute this cell.\n",
    "#!pip install otter-grader"
   ]
  },
  {
   "cell_type": "markdown",
   "metadata": {},
   "source": [
    "## Part A\n",
    "\n",
    "This part focuses on scalar types. You should be able to complete the following questions without using any collection types."
   ]
  },
  {
   "cell_type": "markdown",
   "metadata": {},
   "source": [
    "### Question 1\n",
    "\n",
    "The $n$-th triangular number $T_n$ ($n \\ge 1$) is defined as:\n",
    "$$\n",
    "T_n := \\sum_{k=1}^n k = 1 + 2 + \\cdots + n = \\frac{n(n+1)}{2}\n",
    "$$\n",
    "\n",
    "In the cell below, please provide the code for the function `tri(n)` that returns the $n$-th triangular number as an integer.\n"
   ]
  },
  {
   "cell_type": "code",
   "execution_count": 179,
   "metadata": {
    "nbgrader": {
     "grade": false,
     "grade_id": "tri",
     "locked": false,
     "schema_version": 3,
     "solution": true,
     "task": false
    },
    "tags": [
     "otter_assign_solution_cell"
    ]
   },
   "outputs": [],
   "source": [
    "def tri(n):\n",
    "    '''Returns the n-th triangular number for an input\n",
    "    integer n.\n",
    "    '''\n",
    "    # BEGIN SOLUTION\n",
    "    return (n * (n+1)) // 2\n",
    "    # END SOLUTION"
   ]
  },
  {
   "cell_type": "code",
   "execution_count": null,
   "metadata": {
    "deletable": false,
    "editable": false
   },
   "outputs": [],
   "source": [
    "grader.check(\"A1\")"
   ]
  },
  {
   "cell_type": "markdown",
   "metadata": {},
   "source": [
    "### Question 2\n",
    "\n",
    "In the cell below, provide code for the function `powerOfTwo(n)` that takes a positive integer `n` and returns `True` if `n` is a power of 2, and `False` otherwise.\n"
   ]
  },
  {
   "cell_type": "code",
   "execution_count": 181,
   "metadata": {
    "nbgrader": {
     "grade": false,
     "grade_id": "powerOfTwo",
     "locked": false,
     "schema_version": 3,
     "solution": true,
     "task": false
    },
    "tags": [
     "otter_assign_solution_cell"
    ]
   },
   "outputs": [],
   "source": [
    "def powerOfTwo(n):\n",
    "    '''For a positive integer n, returns True if n is a \n",
    "    power of two, False otherwise.\n",
    "    '''\n",
    "    \n",
    "    # BEGIN SOLUTION\n",
    "    while n != 1:\n",
    "        if  n % 2 == 1:\n",
    "            return False\n",
    "        n = n // 2\n",
    "    return True\n",
    "    # END SOLUTION"
   ]
  },
  {
   "cell_type": "code",
   "execution_count": null,
   "metadata": {
    "deletable": false,
    "editable": false
   },
   "outputs": [],
   "source": [
    "grader.check(\"A2\")"
   ]
  },
  {
   "cell_type": "markdown",
   "metadata": {},
   "source": [
    "### Question 3\n",
    "\n",
    "The $n$-th Fibonacci number $F_n$ can be calculated using the following closed-form formula:\n",
    "$$\n",
    "F_n = \\frac{\\varphi^n - \\psi^n}{\\sqrt{5}},\n",
    "$$\n",
    "where $\\varphi = \\frac{1+\\sqrt{5}}{2}$ and $\\psi = \\frac{1-\\sqrt{5}}{2}$. Use this formula to compute $F_n$ in the function `fib(n)` below. \n"
   ]
  },
  {
   "cell_type": "code",
   "execution_count": 183,
   "metadata": {
    "nbgrader": {
     "grade": false,
     "grade_id": "fib",
     "locked": false,
     "schema_version": 3,
     "solution": true,
     "task": false
    },
    "tags": [
     "otter_assign_solution_cell"
    ]
   },
   "outputs": [],
   "source": [
    "import math\n",
    "def fib(n):\n",
    "    '''Computes the n-th Fibonacci number for a positive \n",
    "    integer n and returns the answer as an integer.\n",
    "    '''\n",
    "    \n",
    "    # BEGIN SOLUTION\n",
    "    phi = (1 + math.sqrt(5))/2\n",
    "    psi = (1 - math.sqrt(5))/2\n",
    "    return int((phi ** n - psi ** n) / math.sqrt(5)) \n",
    "    # END SOLUTION"
   ]
  },
  {
   "cell_type": "code",
   "execution_count": null,
   "metadata": {
    "deletable": false,
    "editable": false
   },
   "outputs": [],
   "source": [
    "grader.check(\"A3\")"
   ]
  },
  {
   "cell_type": "markdown",
   "metadata": {},
   "source": [
    "### Question 4\n",
    "\n",
    "Write a function calld `onesInBinary` that takes a positive integer `n` as input and returns the count of ones in the binary representation of `n`. "
   ]
  },
  {
   "cell_type": "code",
   "execution_count": 4,
   "metadata": {
    "tags": [
     "otter_assign_solution_cell"
    ]
   },
   "outputs": [],
   "source": [
    "def onesInBinary(n):\n",
    "    '''For a positive integer n, returns the count of 1's in binary  \n",
    "    representation of n.\n",
    "    '''\n",
    "    \n",
    "    # BEGIN SOLUTION\n",
    "    count = 0\n",
    "    while n != 0:\n",
    "        if  n % 2 == 1:\n",
    "            count = count + 1\n",
    "        n = n // 2\n",
    "    return count\n",
    "    # END SOLUTION"
   ]
  },
  {
   "cell_type": "code",
   "execution_count": null,
   "metadata": {
    "deletable": false,
    "editable": false
   },
   "outputs": [],
   "source": [
    "grader.check(\"A4\")"
   ]
  },
  {
   "cell_type": "markdown",
   "metadata": {},
   "source": [
    "## Part B\n",
    "\n",
    "Questions in this part rely on strings, lists and tuples."
   ]
  },
  {
   "cell_type": "markdown",
   "metadata": {},
   "source": [
    "### Question 1\n",
    "\n",
    "Write a function called `divisors` that takes a positive integer `n` as input and returuns a list of divisors of `n`. E.g. `divisors(10)` should return `[1, 2, 5, 10]`."
   ]
  },
  {
   "cell_type": "code",
   "execution_count": 10,
   "metadata": {
    "tags": [
     "otter_assign_solution_cell"
    ]
   },
   "outputs": [],
   "source": [
    "def divisors(n):\n",
    "    ''' \n",
    "    Returns a list containing the divisors of positive integer n.\n",
    "    '''\n",
    "    # BEGIN SOLUTION\n",
    "    lst = []\n",
    "    for i in range(1,n+1):\n",
    "        if n % i == 0:\n",
    "            lst.append(i)\n",
    "    return lst\n",
    "    # END SOLUTION"
   ]
  },
  {
   "cell_type": "code",
   "execution_count": null,
   "metadata": {
    "deletable": false,
    "editable": false
   },
   "outputs": [],
   "source": [
    "grader.check(\"B1\")"
   ]
  },
  {
   "cell_type": "markdown",
   "metadata": {},
   "source": [
    "### Question 2\n",
    "\n",
    "Write a function called `isPalindrome` which takes a `string` as an input and returns `True` if the string is a palindrome, and `False` otherwise.\n"
   ]
  },
  {
   "cell_type": "code",
   "execution_count": 7,
   "metadata": {
    "nbgrader": {
     "grade": false,
     "grade_id": "isPalindrome",
     "locked": false,
     "schema_version": 3,
     "solution": true,
     "task": false
    },
    "tags": [
     "otter_assign_solution_cell"
    ]
   },
   "outputs": [],
   "source": [
    "def isPalindrome( str ):\n",
    "    '''\n",
    "    Returns True if str contains a string that is a palindrome,\n",
    "    False otherwise. Does not ignore whitespace characters.\n",
    "    '''\n",
    "    # BEGIN SOLUTION\n",
    "    i=0\n",
    "    j=len(str)-1\n",
    "    while i <= j:\n",
    "        if str[i] != str[j]:\n",
    "            return False\n",
    "        i = i+1\n",
    "        j = j-1\n",
    "    return True\n",
    "    # END SOLUTION"
   ]
  },
  {
   "cell_type": "code",
   "execution_count": null,
   "metadata": {
    "deletable": false,
    "editable": false
   },
   "outputs": [],
   "source": [
    "grader.check(\"B2\")"
   ]
  },
  {
   "cell_type": "markdown",
   "metadata": {},
   "source": [
    "### Question 3\n",
    "\n",
    "Write a function called `transpose` that returns the transpose of an input matrix. You can assume that the input matrix has integer entries and is represented as a list of rows. Furthermore, you can assume that the input is a matrix and not a vector. \n"
   ]
  },
  {
   "cell_type": "code",
   "execution_count": 187,
   "metadata": {
    "nbgrader": {
     "grade": false,
     "grade_id": "transpose",
     "locked": false,
     "schema_version": 3,
     "solution": true,
     "task": false
    },
    "tags": [
     "otter_assign_solution_cell"
    ]
   },
   "outputs": [],
   "source": [
    "def transpose(A):\n",
    "    '''Returns the transpose of A as a list of lists. Each\n",
    "    column of A becomes a row in the returned matrix.\n",
    "    '''\n",
    "    # BEGIN SOLUTION\n",
    "    ROWS = len(A)\n",
    "    COLS = len(A[0])\n",
    "    At = []\n",
    "    for i in range(COLS):\n",
    "        At.append([0]*ROWS)\n",
    "        for j in range(ROWS):\n",
    "            At[i][j] = A[j][i]\n",
    "    return At\n",
    "    # END SOLUTION\n",
    "    "
   ]
  },
  {
   "cell_type": "code",
   "execution_count": null,
   "metadata": {
    "deletable": false,
    "editable": false
   },
   "outputs": [],
   "source": [
    "grader.check(\"B3\")"
   ]
  },
  {
   "cell_type": "markdown",
   "metadata": {},
   "source": [
    "### Question 4\n",
    "\n",
    "Suppose you are given a list of floating point values in the range $[0.0,1.0)$. Write a function to compute a histogram of these values. Your function should take two input parameters, the list `L` and the number of equal-width bins `N` to split the range into. It should return a list containing the counts as integers.\n",
    "\n",
    "For each bin, the left end point is included but the right end-point is not. For example, if we have five bins, the boundaries would be as follows:\n",
    "$[0.0,0.2), [0.2, 0.4), [0.4, 0.6), [0.6, 0.8), [0.8, 1.0)$\n"
   ]
  },
  {
   "cell_type": "code",
   "execution_count": 1,
   "metadata": {
    "nbgrader": {
     "grade": false,
     "grade_id": "hist",
     "locked": false,
     "schema_version": 3,
     "solution": true,
     "task": false
    },
    "tags": [
     "otter_assign_solution_cell"
    ]
   },
   "outputs": [],
   "source": [
    "def hist(L, N=10):\n",
    "    '''For a list of values L, returns a histogram\n",
    "       consisting of N equal-width bins. The histogram is returned as \n",
    "       a list consisting of the counts in each bin. The values are \n",
    "       assumed to be in floating point format in the range [0.0,1.0).\n",
    "    '''\n",
    "    # BEGIN SOLUTION\n",
    "    h = 1.0/N\n",
    "    result = [0]*N\n",
    "    for el in L:\n",
    "        result[int(el / h)] +=1\n",
    "    return result\n",
    "    # END SOLUTION"
   ]
  },
  {
   "cell_type": "code",
   "execution_count": null,
   "metadata": {
    "deletable": false,
    "editable": false
   },
   "outputs": [],
   "source": [
    "grader.check(\"B4\")"
   ]
  },
  {
   "cell_type": "code",
   "execution_count": null,
   "metadata": {},
   "outputs": [],
   "source": []
  },
  {
   "cell_type": "markdown",
   "metadata": {
    "deletable": false,
    "editable": false
   },
   "source": [
    "---\n",
    "\n",
    "To double-check your work, the cell below will rerun all of the autograder tests."
   ]
  },
  {
   "cell_type": "code",
   "execution_count": null,
   "metadata": {
    "deletable": false,
    "editable": false
   },
   "outputs": [],
   "source": [
    "grader.check_all()"
   ]
  }
 ],
 "metadata": {
  "celltoolbar": "Create Assignment",
  "kernelspec": {
   "display_name": "Python 3 (ipykernel)",
   "language": "python",
   "name": "python3"
  },
  "language_info": {
   "codemirror_mode": {
    "name": "ipython",
    "version": 3
   },
   "file_extension": ".py",
   "mimetype": "text/x-python",
   "name": "python",
   "nbconvert_exporter": "python",
   "pygments_lexer": "ipython3",
   "version": "3.10.5"
  },
  "otter": {
   "OK_FORMAT": true,
   "tests": {
    "A1": {
     "name": "A1",
     "points": 1,
     "suites": [
      {
       "cases": [
        {
         "code": ">>> assert tri(1) == 1\n>>> assert tri(5) == 15\n>>> assert tri(36) == 666\n>>> assert tri(10 ** 5) == 5000050000\n",
         "hidden": false,
         "locked": false
        },
        {
         "code": ">>> assert tri(10 ** 10) == 50000000005000000000\n",
         "hidden": true,
         "locked": false
        }
       ],
       "scored": true,
       "setup": "",
       "teardown": "",
       "type": "doctest"
      }
     ]
    },
    "A2": {
     "name": "A2",
     "points": 3,
     "suites": [
      {
       "cases": [
        {
         "code": ">>> assert powerOfTwo(1) is True\n>>> assert powerOfTwo(2) is True\n>>> assert powerOfTwo(64) is True\n>>> assert powerOfTwo(96) is False\n>>> assert powerOfTwo(128) is True\n",
         "hidden": false,
         "locked": false
        },
        {
         "code": ">>> assert powerOfTwo(192) is False\n",
         "hidden": true,
         "locked": false
        }
       ],
       "scored": true,
       "setup": "",
       "teardown": "",
       "type": "doctest"
      }
     ]
    },
    "A3": {
     "name": "A3",
     "points": 2,
     "suites": [
      {
       "cases": [
        {
         "code": ">>> assert fib(1) == 1\n>>> assert fib(2) == 1\n>>> assert fib(5) == 5\n>>> assert fib(11) == 89\n",
         "hidden": false,
         "locked": false
        },
        {
         "code": ">>> assert fib(20) == 6765\n",
         "hidden": true,
         "locked": false
        }
       ],
       "scored": true,
       "setup": "",
       "teardown": "",
       "type": "doctest"
      }
     ]
    },
    "A4": {
     "name": "A4",
     "points": 2,
     "suites": [
      {
       "cases": [
        {
         "code": ">>> assert onesInBinary(12) == 2\n>>> assert onesInBinary(0) == 0\n>>> assert onesInBinary(100) == 3\n>>> assert onesInBinary(101) == 4\n>>> assert onesInBinary(999) == 8\n>>> assert onesInBinary(123456789) == 16\n>>> assert onesInBinary(1234567890) == 12\n",
         "hidden": false,
         "locked": false
        }
       ],
       "scored": true,
       "setup": "",
       "teardown": "",
       "type": "doctest"
      }
     ]
    },
    "B1": {
     "name": "B1",
     "points": 2,
     "suites": [
      {
       "cases": [
        {
         "code": ">>> assert divisors(1) == [1]\n>>> assert divisors(13) == [1, 13]\n>>> assert divisors(25) == [1, 5, 25]\n>>> assert divisors(383) == [1, 383]\n>>> assert divisors(1000) == [1, 2, 4, 5, 8, 10, 20, 25, 40, 50, 100, 125, 200, 250, 500, 1000]\n",
         "hidden": false,
         "locked": false
        }
       ],
       "scored": true,
       "setup": "",
       "teardown": "",
       "type": "doctest"
      }
     ]
    },
    "B2": {
     "name": "B2",
     "points": 3,
     "suites": [
      {
       "cases": [
        {
         "code": ">>> assert isPalindrome(\"\") is True\n>>> assert isPalindrome(\"a\") is True\n>>> assert isPalindrome(\"ab\") is False\n>>> assert isPalindrome(\"aa\") is True\n>>> assert isPalindrome(\"racecar\") is True\n>>> assert isPalindrome(\"race car\") is False\n>>> assert isPalindrome(\"step on no pets\") is True\n",
         "hidden": false,
         "locked": false
        },
        {
         "code": ">>> assert isPalindrome(\"rats live on no evil star\") is True\n",
         "hidden": true,
         "locked": false
        }
       ],
       "scored": true,
       "setup": "",
       "teardown": "",
       "type": "doctest"
      }
     ]
    },
    "B3": {
     "name": "B3",
     "points": 3,
     "suites": [
      {
       "cases": [
        {
         "code": ">>> assert transpose([[1,2],[3,4]]) == [[1,3],[2,4]]\n>>> assert transpose(transpose([[1,2],[3,4]])) == [[1,2],[3,4]]\n>>> assert transpose([[1,2,3],[4,5,6]]) == [[1,4],[2,5],[3,6]]\n>>> assert transpose([[1,4],[2,5],[3,6]]) == [[1,2,3],[4,5,6]]\n",
         "hidden": false,
         "locked": false
        },
        {
         "code": ">>> I = [[1,0,0],[0,1,0],[0,0,1]]\n>>> assert transpose(I) == I\n>>> T4 = [[1,2,3,4],[5,6,7,8],[9,10,11,12],[13,14,15,16]]\n>>> assert transpose(transpose(T4)) == T4\n",
         "hidden": true,
         "locked": false
        }
       ],
       "scored": true,
       "setup": "",
       "teardown": "",
       "type": "doctest"
      }
     ]
    },
    "B4": {
     "name": "B4",
     "points": 4,
     "suites": [
      {
       "cases": [
        {
         "code": ">>> import random\n>>> SIZE = 10000\n>>> # Do not change the random number seed or tests will fail.\n>>> random.seed(a=601, version=2)\n>>> l1 = []\n>>> for i in range(SIZE):\n...     l1.append(random.random())\n>>> assert hist(l1) == [979,1011,991,1019,1004,1000,1050,971,1015,960]\n>>> assert hist(l1, N=5) == [1990, 2010, 2004, 2021, 1975]\n",
         "hidden": false,
         "locked": false
        },
        {
         "code": ">>> import random\n>>> SIZE = 10000\n>>> # Do not change the random number seed or tests will fail.\n>>> random.seed(a=601, version=2)\n>>> l1 = []\n>>> for i in range(SIZE):\n...     l1.append(random.random())\n>>> assert hist(l1, N = 8) == [1208,1344,1204,1248,1273,1247,1263,1213]\n",
         "hidden": true,
         "locked": false
        }
       ],
       "scored": true,
       "setup": "",
       "teardown": "",
       "type": "doctest"
      }
     ]
    }
   }
  }
 },
 "nbformat": 4,
 "nbformat_minor": 4
}
