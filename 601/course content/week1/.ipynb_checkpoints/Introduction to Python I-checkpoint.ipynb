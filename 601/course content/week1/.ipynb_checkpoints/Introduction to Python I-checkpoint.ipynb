{
 "cells": [
  {
   "cell_type": "markdown",
   "metadata": {
    "slideshow": {
     "slide_type": "slide"
    }
   },
   "source": [
    "# Introduction to Python I\n",
    "\n",
    "## Language Basics \n",
    "\n",
    "### DATA 601\n",
    "\n",
    "**Compiled by: Usman Alim ** \n",
    "\n"
   ]
  },
  {
   "cell_type": "markdown",
   "metadata": {},
   "source": [
    "## About this Practice\n",
    "#### Background:\n",
    "Students taking this course come from a range of backgrounds. Many students will be transitioning to python from other programing languages. Other students may have been away from programing for a while and will need some review. Your success in this course requires that you become comfortable with Python and it’s libraries early in the course.  This practice exercise is designed to help you to familiarize yourself with some of the Python basics.\n",
    "\n",
    "#### Objectives of this Notebook:\n",
    "* Introduce the basics of Python as a programing language\n",
    "* Review fundamental data types in python\n",
    "* Review control structures such as conditionals, loops, and functions. \n",
    "\n",
    "#### Prerequisite Knowledge\n",
    "This practice has been designed with the following background knowledge assumed:\n",
    "* Knowledge of how to program in a procedural pregaming language including but not limited to: Java, C++, Object-C, or Visual Basic.\n",
    "*\tBasic problem-solving skills, such as those introduced in introductory programming course.\n",
    "\n",
    "If you satisfy these prerequisites than you are well equipped to connect your previous learning with the skills needed for programming in the Python ecosystem. \n",
    "\n",
    "A good way to cheek your understanding of the material reviewed is by solving the warmup exercises in this notebook. Solving these warm-up exercises will also help ensure that you are well prepared for this course. \n",
    "\n",
    "If you think that you need further introduction to Python, please consult the following:\n",
    "\n",
    "##### Introductory Reading\n",
    "* [**Automate the Boring Stuff with Python**](https://automatetheboringstuff.com) by Al Sweigart.\n",
    "\n",
    "###### Further Reading\n",
    "\n",
    "* **Python for Data Analysis** (second edition), by _Wes McKinney_ ([Library link](https://ucalgary-primo.hosted.exlibrisgroup.com/primo-explore/fulldisplay?docid=01UCALG_ALMA51642853910004336&context=L&vid=UCALGARY&search_scope=EVERYTHING&tab=everything&lang=en_US) for book).\n",
    "* [**The Python Tutorial**](https://docs.python.org/3/tutorial/index.html) by the Python Software Foundation.\n",
    "\n",
    "##### Extra Practice\n",
    "\n",
    "For additional practice, try solving practice problems available at the following web sites.\n",
    "\n",
    "* [**edabit**](https://edabit.com/challenges/python3) - (look at problems rated 'Easy' and 'Medium')\n",
    "* [**PRACTICE PYTHON**](https://www.practicepython.org) - (look at problems rated 'one' and 'two' chillies)\n",
    "\n"
   ]
  },
  {
   "cell_type": "markdown",
   "metadata": {
    "slideshow": {
     "slide_type": "slide"
    }
   },
   "source": [
    "## Outline\n",
    "\n",
    "- [Background](#bg)\n",
    "- [Language Basics](#basics)\n",
    "- [Scalar Types](#scalars) \n",
    "- [Binary Operators](#binaryOps)\n",
    "- [Control Structures](#controls)\n",
    "- [Local Functions](#functions)\n",
    "- [Warmup Exercises I](#exerciseI)\n",
    "- [Collection Types](#collections)\n",
    "- [Warmup Exercises II](#exerciseII)"
   ]
  },
  {
   "cell_type": "markdown",
   "metadata": {
    "slideshow": {
     "slide_type": "slide"
    }
   },
   "source": [
    "## <a name=\"bg\"></a>A Bit of Background on Python\n",
    "\n",
    "* Python first appeared in 1991 and was created by [Guido van Rossum](https://en.wikipedia.org/wiki/Guido_van_Rossum).  \n",
    "\n",
    "* Python is an interpreted, high-level, cross-platform language that supports:  \n",
    "  * Rapid prototyping and sharing\n",
    "  * No need to worry about variable declarations, memory management etc.\n",
    "  \n",
    "* Python is not designed for performance but it does interface nicely with low-level languages and APIs for multi-threading and GPU acceleration. \n",
    "\n",
    "* Python is used extensively in web development.  \n",
    "\n",
    "* Python has gained popularity in the scientific computing and data science communities.  \n",
    "\n",
    "* Python 3 (released in 2008) is the current major version of the language.\n",
    "  * Python 2 is also in use but as of Jan. 1, 2020, has reached its _end-of-life_.\n",
    "  * We will use Python 3 in this course.\n",
    "  * Our focus is on problem solving in the context of data exploration, Python makes this easy.\n",
    "  "
   ]
  },
  {
   "cell_type": "markdown",
   "metadata": {
    "slideshow": {
     "slide_type": "subslide"
    }
   },
   "source": [
    "## Python for Data Science\n",
    "\n",
    "* •\tPython has many libraries that facilitate the Data Science workflow such as:\n",
    "  * `NumPy` and `SciPy` for numerical computation.\n",
    "  * `pandas` for working with tabular data.\n",
    "  * `matplotlib`, `plotly` (and others) for data visualization.\n",
    "  * `TensorFlow` and `scikit-learn` for machine learning.\n",
    "  \n",
    "  \n",
    "* Jupyter:\n",
    "  * Is a web-based, interactive computing notebook environment similar to Mathematica and Maple.\n",
    "  * Can run locally or on a server.\n",
    " \n",
    "Note: Jupyter will be the environment we use for all homework exercises and assignments. You will also be expected to use Jupyter for your course project.\n"
   ]
  },
  {
   "cell_type": "markdown",
   "metadata": {
    "slideshow": {
     "slide_type": "slide"
    }
   },
   "source": [
    "## Python Language Features\n",
    "\n",
    "\n",
    "* Python is *Object-oriented* and  _strongly-typed_ meaning:\n",
    "  * Everything is an object.\n",
    "  * All objects have specific types.\n",
    "  \n",
    "  \n",
    "* Python requires no braces or semi-colons. Instead, indentation is used to structure code which leads to:\n",
    "  * Less typing.\n",
    "  * Readable code for [_literate programming_](https://en.wikipedia.org/wiki/Literate_programming).\n",
    "  \n",
    "  \n",
    "* Python natively supports high-level data types such as tuples, lists and dictionaries. The implications of this native support are:\n",
    "  * Improved abstraction.\n",
    "  * _The need to be wary of performance considerations_.\n",
    "  \n",
    "  \n",
    "* Python supports functional programming.\n",
    "  * Anonymous functions, currying.\n",
    "  \n",
    "  \n",
    "* Python has lots of _syntactic sugar_."
   ]
  },
  {
   "cell_type": "markdown",
   "metadata": {
    "slideshow": {
     "slide_type": "slide"
    }
   },
   "source": [
    "## <a name=\"basics\"></a>Python Language Basics\n",
    "\n",
    "* **Variables**\n",
    "* **References**\n",
    "* **Objects**\n",
    "* **Function calls**"
   ]
  },
  {
   "cell_type": "code",
   "execution_count": 54,
   "metadata": {
    "slideshow": {
     "slide_type": "subslide"
    }
   },
   "outputs": [
    {
     "name": "stdout",
     "output_type": "stream",
     "text": [
      "Welcome to DATA 601\n",
      "welcome to data 601\n"
     ]
    }
   ],
   "source": [
    "# Assignments, function calls and attributes. In an interactive environment, we can use tab-completion to \n",
    "# inspect attributes.\n",
    "\n",
    "a = \"Welcome to DATA 601\"\n",
    "print(a)\n",
    "b = a.lower()\n",
    "print(b)\n",
    "\n",
    "?a.lower"
   ]
  },
  {
   "cell_type": "markdown",
   "metadata": {
    "slideshow": {
     "slide_type": "subslide"
    }
   },
   "source": [
    "Pop up box output from running:\n",
    "\n",
    "?a.lower\n",
    "\n",
    "Signature: a.lower()\n",
    "\n",
    "Docstring: Return a copy of the string converted to lowercase.\n",
    "\n",
    "Type:      builtin_function_or_method"
   ]
  },
  {
   "cell_type": "code",
   "execution_count": 55,
   "metadata": {
    "slideshow": {
     "slide_type": "subslide"
    }
   },
   "outputs": [
    {
     "name": "stdout",
     "output_type": "stream",
     "text": [
      "['a', 'b', 'c', 'd']\n",
      "['a', 'b', 'c', 'd']\n"
     ]
    }
   ],
   "source": [
    "# Everything is an object. We use variables to refer to objects. Different variables can \n",
    "# refer to the same object (aliasing). \n",
    "x = ['a', 'b', 'c']\n",
    "y = x\n",
    "x.append('d')\n",
    "print(x)\n",
    "print(y)\n",
    "\n",
    "# In this example, there's only one object and both variables refer to the same object."
   ]
  },
  {
   "cell_type": "markdown",
   "metadata": {
    "slideshow": {
     "slide_type": "slide"
    }
   },
   "source": [
    "## <a name=\"scalars\"></a>Scalar Types\n",
    "\n",
    "_Scalars_ are 'single value' types, i.e. each scalar has one value associated with it. Python has the following scalar types: \n",
    "\n",
    "* `bool`\n",
    "* `int`\n",
    "* `float`\n",
    "* `complex`\n",
    "* `None`\n",
    "\n",
    "We can use introspection (`?`) and the `isintance` function to determine the type of an object. Use _type casting_ to convert between types."
   ]
  },
  {
   "cell_type": "code",
   "execution_count": 56,
   "metadata": {
    "slideshow": {
     "slide_type": "subslide"
    }
   },
   "outputs": [
    {
     "name": "stdout",
     "output_type": "stream",
     "text": [
      "True\n",
      "False\n",
      "True\n",
      "False\n"
     ]
    }
   ],
   "source": [
    "# Booleans can be either True or False. We can perform Boolean algebra on them. Be careful \n",
    "# about operator precedence.\n",
    "\n",
    "print(True or False)\n",
    "print(True and False)\n",
    "print(not True or True)\n",
    "print(not(True or True))\n"
   ]
  },
  {
   "cell_type": "code",
   "execution_count": 57,
   "metadata": {
    "slideshow": {
     "slide_type": "subslide"
    }
   },
   "outputs": [
    {
     "name": "stdout",
     "output_type": "stream",
     "text": [
      "10\n",
      "100000000000000000000000000000000000000000000000000000000000000000000000000000000\n",
      "10000000000000000000000000000000000000000\n"
     ]
    }
   ],
   "source": [
    "# Integers in Python 3 have arbitrary precision, i.e. they can be arbitrarily large.\n",
    "\n",
    "a = 10\n",
    "b = 10 ** 80 # exponentiation\n",
    "print(a)\n",
    "print(b)\n",
    "print(b // a ** 40)"
   ]
  },
  {
   "cell_type": "code",
   "execution_count": 58,
   "metadata": {
    "slideshow": {
     "slide_type": "subslide"
    }
   },
   "outputs": [
    {
     "name": "stdout",
     "output_type": "stream",
     "text": [
      "3.142857142857143\n",
      "3.14\n",
      "3.143\n",
      "3.1429e+00\n"
     ]
    }
   ],
   "source": [
    "# Floats are used to represent double-precision (64-bit) floating point numbers. Integer \n",
    "# division not yielding a whole number will yield a floating point number. \n",
    "# We can format floating point numbers when displaying them as strings.\n",
    "\n",
    "pi = 22 / 7\n",
    "print(pi)\n",
    "print(\"{:.2f}\".format(pi))\n",
    "print(\"{:.3f}\".format(pi))\n",
    "print(\"{:.4e}\".format(pi))\n"
   ]
  },
  {
   "cell_type": "code",
   "execution_count": 59,
   "metadata": {
    "slideshow": {
     "slide_type": "subslide"
    }
   },
   "outputs": [
    {
     "name": "stdout",
     "output_type": "stream",
     "text": [
      "<class 'NoneType'>\n",
      "True\n",
      "False\n"
     ]
    }
   ],
   "source": [
    "# None is used for the null value in Python, i.e. an empty reference. \n",
    "\n",
    "x = None\n",
    "print(type(x))\n",
    "print(x is None)\n",
    "print(x is not None)"
   ]
  },
  {
   "cell_type": "code",
   "execution_count": 60,
   "metadata": {
    "slideshow": {
     "slide_type": "subslide"
    }
   },
   "outputs": [
    {
     "name": "stdout",
     "output_type": "stream",
     "text": [
      "3.14159\n",
      "3\n",
      "True\n",
      "True\n"
     ]
    },
    {
     "ename": "ValueError",
     "evalue": "invalid literal for int() with base 10: '3.14159'",
     "output_type": "error",
     "traceback": [
      "\u001b[1;31m---------------------------------------------------------------------------\u001b[0m",
      "\u001b[1;31mValueError\u001b[0m                                Traceback (most recent call last)",
      "\u001b[1;32m<ipython-input-60-bf8c41b875f4>\u001b[0m in \u001b[0;36m<module>\u001b[1;34m\u001b[0m\n\u001b[0;32m      9\u001b[0m \u001b[1;33m\u001b[0m\u001b[0m\n\u001b[0;32m     10\u001b[0m \u001b[1;31m# Casting Pi to an int before casting to a float:\u001b[0m\u001b[1;33m\u001b[0m\u001b[1;33m\u001b[0m\u001b[1;33m\u001b[0m\u001b[0m\n\u001b[1;32m---> 11\u001b[1;33m \u001b[0mprint\u001b[0m\u001b[1;33m(\u001b[0m\u001b[0mint\u001b[0m\u001b[1;33m(\u001b[0m\u001b[0mPi\u001b[0m\u001b[1;33m)\u001b[0m\u001b[1;33m)\u001b[0m\u001b[1;33m\u001b[0m\u001b[1;33m\u001b[0m\u001b[0m\n\u001b[0m",
      "\u001b[1;31mValueError\u001b[0m: invalid literal for int() with base 10: '3.14159'"
     ]
    }
   ],
   "source": [
    "# Type casting works nicely between str, bool, int and float types.\n",
    "\n",
    "Pi = \"3.14159\"\n",
    "print(float(Pi))\n",
    "print(int(float(Pi)))\n",
    "print(bool(int(float(Pi)))) # Any non-zero integer is True\n",
    "\n",
    "print( bool(float(Pi)))\n",
    "\n",
    "# Casting Pi to an int before casting to a float:\n",
    "print(int(Pi))"
   ]
  },
  {
   "cell_type": "markdown",
   "metadata": {
    "slideshow": {
     "slide_type": "slide"
    }
   },
   "source": [
    "## <a name=\"binaryOps\"></a>Binary Operators\n",
    "\n",
    "The following binary operators are available in Python. Operators can be _overloaded_.\n",
    "\n",
    "Operation | Description\n",
    "----------|------------\n",
    "`a + b`   | Addition \n",
    "`a - b`   | Subtraction\n",
    "`a * b`   | Multiplication\n",
    "`a ** b`  | Exponentiation\n",
    "`a / b`   | Division\n",
    "`a // b`  | Floor-division\n",
    "`a & b`   | Bitwise AND for ints\n",
    "<code>a &#124; b</code>   | Bitwise OR for ints\n",
    "`a ^ b`   | Bitwise EXCLUSIVE OR for ints\n",
    "`a == b`  | True if `a` equals `b`\n",
    "`a != b`  | True if `a` is not equal to `b`\n",
    "`a < b`, `a <= b` | less-than, less-than-or-equal-to\n",
    "`a > b`, `a >= b` | greater-than, greater-than-or-equal-to\n",
    "`a is b` | True if `a` and `b` reference the same object\n",
    "`a is not b` | True if `a` and `b` reference different objects\n",
    "\n",
    "Note that this table is not exhaustive. \n",
    "\n"
   ]
  },
  {
   "cell_type": "code",
   "execution_count": 61,
   "metadata": {
    "slideshow": {
     "slide_type": "subslide"
    }
   },
   "outputs": [
    {
     "name": "stdout",
     "output_type": "stream",
     "text": [
      "False\n",
      "False\n",
      "2.5\n",
      "2\n",
      "2.4285714285714284\n",
      "2.0\n"
     ]
    }
   ],
   "source": [
    "# Binary operator examples\n",
    "\n",
    "x = 8\n",
    "y = 9\n",
    "print(x == y)\n",
    "print(x is y)\n",
    "\n",
    "print(5 / 2)\n",
    "print(5 // 2)\n",
    "print(5.1 / 2.1)\n",
    "print(5.1 // 2.1)\n"
   ]
  },
  {
   "cell_type": "markdown",
   "metadata": {
    "slideshow": {
     "slide_type": "slide"
    }
   },
   "source": [
    "## <a name=\"controls\"></a>Control Structures\n",
    "\n",
    "* **if elif else**\n",
    "* **Ternary expressions**\n",
    "* **while**\n",
    "* **for**\n",
    "* **Functions**"
   ]
  },
  {
   "cell_type": "code",
   "execution_count": 62,
   "metadata": {
    "slideshow": {
     "slide_type": "subslide"
    }
   },
   "outputs": [
    {
     "name": "stdout",
     "output_type": "stream",
     "text": [
      "-11 is odd\n",
      "negative\n"
     ]
    }
   ],
   "source": [
    "# if statements are very readable in Python. Remember to indent!\n",
    "\n",
    "x = -11\n",
    "\n",
    "# A simple if-else block\n",
    "if x % 2 == 0:\n",
    "    print(\"{0:d} is even\".format(x))\n",
    "else:\n",
    "    print(\"{0:d} is odd\".format(x))\n",
    "    \n",
    "\n",
    "# A block with multiple cases    \n",
    "if x < 0:\n",
    "    print(\"negative\")\n",
    "elif x > 0:\n",
    "    print(\"positive\")\n",
    "else:\n",
    "    print(\"zero\")\n"
   ]
  },
  {
   "cell_type": "code",
   "execution_count": 63,
   "metadata": {
    "slideshow": {
     "slide_type": "subslide"
    }
   },
   "outputs": [
    {
     "name": "stdout",
     "output_type": "stream",
     "text": [
      "Odd\n"
     ]
    }
   ],
   "source": [
    "# Ternary expressions combine an if-else block into a single expression. This is useful syntactic sugar when \n",
    "# the expression in simple but can sacrifice readability when the conditionals are more involved.\n",
    "\n",
    "# Example\n",
    "x = 11\n",
    "print(\"Even\" if x % 2 == 0 else \"Odd\")"
   ]
  },
  {
   "cell_type": "code",
   "execution_count": 80,
   "metadata": {
    "slideshow": {
     "slide_type": "subslide"
    }
   },
   "outputs": [
    {
     "name": "stdout",
     "output_type": "stream",
     "text": [
      "0\n",
      "\n",
      "9\n",
      "7\n",
      "5\n",
      "3\n",
      "1\n",
      "\n",
      "\n",
      "9\n",
      "8\n",
      "7\n",
      "6\n",
      "5\n"
     ]
    }
   ],
   "source": [
    "# Demonstration of while loop. You can 'break' out of a while loop or 'continue' to the next iteration. \n",
    "\n",
    "# A simple while loop\n",
    "x = 1\n",
    "count = 0\n",
    "while x != 1:\n",
    "    x = x // 2\n",
    "    count += 1\n",
    "print(str(count) + \"\\n\")\n",
    "\n",
    "# Continue demonstration\n",
    "x = 10\n",
    "while x > 0:\n",
    "    x -= 1\n",
    "    if x % 2 == 0:\n",
    "        continue\n",
    "    print(x)\n",
    "\n",
    "print(\"\\n\")    \n",
    "\n",
    "\n",
    "# Break demonstration\n",
    "x = 10\n",
    "while x > 0:\n",
    "    x-=1\n",
    "    print(x)\n",
    "    if x <= 5:\n",
    "        break\n",
    "    \n",
    "    \n",
    "    "
   ]
  },
  {
   "cell_type": "code",
   "execution_count": 65,
   "metadata": {
    "slideshow": {
     "slide_type": "subslide"
    }
   },
   "outputs": [
    {
     "name": "stdout",
     "output_type": "stream",
     "text": [
      "<class 'range'>\n",
      "0\n",
      "1\n",
      "2\n",
      "3\n",
      "4\n",
      "5\n",
      "6\n",
      "7\n",
      "8\n",
      "9\n",
      "\n",
      "\n",
      "(0,0)\n",
      "(0,1)\n",
      "(0,2)\n",
      "(0,3)\n",
      "(1,1)\n",
      "(1,2)\n",
      "(1,3)\n",
      "(2,2)\n",
      "(2,3)\n",
      "(3,3)\n"
     ]
    }
   ],
   "source": [
    "# For loops in Python are sophisticated and powerful as they allow \n",
    "# you to iterate over a collection or an iterator. \n",
    "# The syntax is as follows.\n",
    "#\n",
    "# for var in collection:\n",
    "#    do something with var\n",
    "#\n",
    "# \n",
    "#\n",
    "# For loops also support 'continue' and 'break' statements. \n",
    "\n",
    "# We'll look at collections in more detail later, but for now, \n",
    "# let's look at the built in 'range' command which\n",
    "# returns a sequence of intgers within a specified range.\n",
    "\n",
    "seq = range(10)\n",
    "print(type(seq))\n",
    "\n",
    "for i in seq:\n",
    "    print(i)\n",
    "    \n",
    "print(\"\\n\")    \n",
    "    \n",
    "# Nested example\n",
    "seq = range(4)\n",
    "for i in seq:\n",
    "    for j in seq:\n",
    "        if i <= j:\n",
    "            print( \"({0:d},{1:d})\".format(i,j) )\n",
    "    \n",
    "\n"
   ]
  },
  {
   "cell_type": "markdown",
   "metadata": {
    "slideshow": {
     "slide_type": "slide"
    }
   },
   "source": [
    "## <a name=\"functions\"></a>Local Functions\n",
    "\n",
    "Like many other programming languages, functions in Python provide and important way of organizing and reusing code. They are packed with useful high-level features. \n",
    "\n",
    "* _Arguments_ can be _positional_ or specified via _keywords_. \n",
    "* Keyword arguments can be _optional_ and one can also specify _default_ values for them.\n",
    "* Order of keyword arguments can be changed.\n",
    "* Functions can return multiple values."
   ]
  },
  {
   "cell_type": "markdown",
   "metadata": {
    "slideshow": {
     "slide_type": "subslide"
    }
   },
   "source": [
    "\n",
    "* Use the `def` keyword to define a function, and the `return` keyword to return the result.\n",
    "* Functions _parameters_ and any variables declared within the body of the function have _local_ scope.\n",
    "* You have access to variables in the enclosing scope.\n",
    "* An optional string literal can be used as the very first statement. This is the function's _docstring_. \n",
    "* Arguments are _passed by reference_. This has implications for mutable objects. \n",
    "* If `return` is used by itself or if the function falls off the end, `None` is returned."
   ]
  },
  {
   "cell_type": "code",
   "execution_count": 66,
   "metadata": {
    "slideshow": {
     "slide_type": "subslide"
    }
   },
   "outputs": [
    {
     "name": "stdout",
     "output_type": "stream",
     "text": [
      "3628800\n",
      "10\n"
     ]
    }
   ],
   "source": [
    "# Function definitions and scope.\n",
    "\n",
    "def factorial2(n):\n",
    "    \"Returns n!, the factorial of a non-negative integer n\"\n",
    "    # The variables n and result have local scope.\n",
    "    \n",
    "    result = 1\n",
    "    while n > 0:\n",
    "        result *= n\n",
    "        n -= 1\n",
    "    return result\n",
    "\n",
    "num = 10\n",
    "print(factorial2(num)) \n",
    "print(num) # Recall that integers are immutable"
   ]
  },
  {
   "cell_type": "code",
   "execution_count": 67,
   "metadata": {
    "slideshow": {
     "slide_type": "subslide"
    }
   },
   "outputs": [
    {
     "name": "stdout",
     "output_type": "stream",
     "text": [
      "4\n",
      "8\n",
      "4\n",
      "\n",
      "\n",
      "-4\n",
      "-4\n",
      "-4\n"
     ]
    }
   ],
   "source": [
    "# Positional and keyword arguments, default values\n",
    "\n",
    "def func2(x, y=0, z=0):\n",
    "    return x**2 + y**2 - z**2\n",
    "\n",
    "# we can call func2 with 1, 2 or 3 arguments.\n",
    "print(func2(2))\n",
    "print(func2(2,2))\n",
    "print(func2(2,2,2))\n",
    "\n",
    "print(\"\\n\")\n",
    "\n",
    "# We can also use keywords when invoking func2. \n",
    "print(func2(1,y=2, z=3))\n",
    "print(func2(1, z=3, y=2))\n",
    "print(func2(x=1, y=2, z=3)) #Keywords can be used for positional arguments as well\n",
    "\n",
    "\n",
    "# Keyword arguments must follow positional arguments\n",
    "# Thus the following is not allowed.\n",
    "# func2(y=2, z=3, 1)\n",
    "\n",
    "# Keywords need to match the parameters. The following is not allowed.\n",
    "# func2(a=1,b=2,c=3)"
   ]
  },
  {
   "cell_type": "markdown",
   "metadata": {
    "slideshow": {
     "slide_type": "slide"
    }
   },
   "source": [
    "## <a name=\"exerciseI\"></a>Warmup Exercises I\n",
    "\n",
    "a) Write a function that takes three integers as input and returns the largest of the three.\n",
    "\n",
    "b) Write a function that takes three integers as input and returns `True` if either all three integers are even or all three integers are odd, and `False` otherwise.\n",
    "\n",
    "c) Write a function that takes an amount in dollars and cents -- passed in `int` format -- as input, performs penny rounding on the amount and returns the rounded amount as a result in `float` format.   \n",
    "\n",
    "  \n",
    "You are not allowed to use any built-in functions."
   ]
  },
  {
   "cell_type": "code",
   "execution_count": 68,
   "metadata": {
    "slideshow": {
     "slide_type": "subslide"
    }
   },
   "outputs": [],
   "source": [
    "# Use this cell to complete task a: \n",
    "#\n",
    "# write a function  that takes three integers as input \n",
    "# and returns the largest of the three.\n",
    "\n"
   ]
  },
  {
   "cell_type": "code",
   "execution_count": 69,
   "metadata": {
    "slideshow": {
     "slide_type": "subslide"
    }
   },
   "outputs": [],
   "source": [
    "# Use this cell to complete task b: \n",
    "#\n",
    "# Write a function that takes three integers as input \n",
    "# and returns True if either all three integers are even \n",
    "# or all three integers are odd, and False otherwise.\n"
   ]
  },
  {
   "cell_type": "code",
   "execution_count": 70,
   "metadata": {
    "slideshow": {
     "slide_type": "subslide"
    }
   },
   "outputs": [],
   "source": [
    "# Use this cell to complete task c: \n",
    "#\n",
    "# Write a function that takes an amount in dollars and cents -- \n",
    "# passed in int format -- as input. \n",
    "# The fuctnion shoudl perform penny rounding on the amount \n",
    "# and return the rounded amount as a result in float format.\n",
    "\n"
   ]
  },
  {
   "cell_type": "markdown",
   "metadata": {
    "slideshow": {
     "slide_type": "slide"
    }
   },
   "source": [
    "## <a name=\"collections\"></a>Built-in Collection Types\n",
    "\n",
    "- Data structures provide the backbone for implementing algorithms.\n",
    "- A number of convenient collection types are available as first-class citizens in Python. These include:\n",
    "  - Strings\n",
    "  - bytes\n",
    "  - Tuples\n",
    "  - Lists\n",
    "  - Sets\n",
    "  - Dictionaries\n",
    "- All types are either mutable or immutable.\n",
    "  - Mutable types are types where the values assigned to a variable can be changed. Mutable types include:\n",
    "      * List\n",
    "      * Dictionary\n",
    "      * Set\n",
    "  - Immutable types are types where the values assigned to a variable can not be changed. Immutable types include:\n",
    "      * Numeric\n",
    "      * String\n",
    "      * Tuple\n",
    "- There are also a number of convenient ways of indexing, slicing and iterating over collections of data."
   ]
  },
  {
   "cell_type": "code",
   "execution_count": 71,
   "metadata": {
    "slideshow": {
     "slide_type": "subslide"
    }
   },
   "outputs": [
    {
     "name": "stdout",
     "output_type": "stream",
     "text": [
      "This is a string.\n",
      "This is also a string.\n",
      "\"This is\n",
      "a \n",
      "multi-line\n",
      "string.\"\n",
      "\n",
      "4\n",
      "This is a string. This is also a string.\n",
      "THIS IS A STRING.\n"
     ]
    }
   ],
   "source": [
    "# Strings are first-class citizens in Pyhton. \n",
    "# Use single or double quotes to demarcate \n",
    "# strings. Multi-line strings can be demarcated by \n",
    "# triple quotes (single or double). \n",
    "# Strings are immutable data types meanign the \n",
    "# value assigned to the variable can not be changed.\n",
    "\n",
    "a = 'This is a string.'\n",
    "b = \"This is also a string.\"\n",
    "c = '''\\\"This is\n",
    "a \n",
    "multi-line\n",
    "string.\\\"\n",
    "''' # this uses escape characters\n",
    "\n",
    "print(a)\n",
    "print(b)\n",
    "print(c)\n",
    "print(c.count('\\n'))\n",
    "\n",
    "print( a + ' ' + b )# string concatenation. \n",
    "print(a.upper())"
   ]
  },
  {
   "cell_type": "code",
   "execution_count": 72,
   "metadata": {
    "slideshow": {
     "slide_type": "subslide"
    }
   },
   "outputs": [
    {
     "name": "stdout",
     "output_type": "stream",
     "text": [
      "<class 'str'>\n",
      "<class 'bytes'>\n",
      "b'fran\\xc3\\xa7ais'\n",
      "b'\\xd8\\xa7\\xd9\\x8f\\xd8\\xb1\\xd8\\xaf\\xd9\\x8f\\xd9\\x88'\n",
      "b'\\xff'\n"
     ]
    }
   ],
   "source": [
    "# Bytes are used for raw bytes. \n",
    "# This is useful when working with files or unicode encodings.\n",
    "# Note that Python 3 strings support UTF-8.\n",
    "\n",
    "txt = \"français\"\n",
    "txt_utf8 = txt.encode('utf-8')\n",
    "\n",
    "print(type(txt))\n",
    "print(type(txt_utf8))\n",
    "print(txt_utf8)\n",
    "\n",
    "foreign_txt = \"اُردُو\"\n",
    "print(foreign_txt.encode('utf-8'))\n",
    "\n",
    "print(bytes([255])) # an example of type casting\n"
   ]
  },
  {
   "cell_type": "markdown",
   "metadata": {
    "slideshow": {
     "slide_type": "slide"
    }
   },
   "source": [
    "### Tuples\n",
    "\n",
    "- A tuple is a *fixed-length*, _immutable_ sequence of Python objects.\n",
    "- Declare a tuple using parentheses (`()`).\n",
    "- Tuples can be nested.\n",
    "- Convenienct _unpacking_ operations."
   ]
  },
  {
   "cell_type": "code",
   "execution_count": 78,
   "metadata": {
    "slideshow": {
     "slide_type": "subslide"
    }
   },
   "outputs": [
    {
     "name": "stdout",
     "output_type": "stream",
     "text": [
      "(1, 2)\n",
      "(1, 2, 3)\n",
      "\n",
      "\n",
      "((1, 2), (1, 2, 3))\n",
      "\n",
      "\n",
      "('D', 'A', 'T', 'A', ' ', '6', '0', '1')\n",
      "\n",
      "\n",
      "1\n"
     ]
    },
    {
     "ename": "TypeError",
     "evalue": "'tuple' object does not support item assignment",
     "output_type": "error",
     "traceback": [
      "\u001b[1;31m---------------------------------------------------------------------------\u001b[0m",
      "\u001b[1;31mTypeError\u001b[0m                                 Traceback (most recent call last)",
      "\u001b[1;32m<ipython-input-78-b0676066eb20>\u001b[0m in \u001b[0;36m<module>\u001b[1;34m\u001b[0m\n\u001b[0;32m     21\u001b[0m \u001b[1;33m\u001b[0m\u001b[0m\n\u001b[0;32m     22\u001b[0m \u001b[1;31m## Try to change the value of an immutable type\u001b[0m\u001b[1;33m\u001b[0m\u001b[1;33m\u001b[0m\u001b[1;33m\u001b[0m\u001b[0m\n\u001b[1;32m---> 23\u001b[1;33m \u001b[0mpoint2d\u001b[0m\u001b[1;33m[\u001b[0m\u001b[1;36m0\u001b[0m\u001b[1;33m]\u001b[0m \u001b[1;33m=\u001b[0m \u001b[1;36m25\u001b[0m\u001b[1;33m\u001b[0m\u001b[1;33m\u001b[0m\u001b[0m\n\u001b[0m",
      "\u001b[1;31mTypeError\u001b[0m: 'tuple' object does not support item assignment"
     ]
    }
   ],
   "source": [
    "# Creating tuples\n",
    "\n",
    "point2d = (1, 2)\n",
    "point3d = (1, 2, 3)\n",
    "print(point2d)\n",
    "print(point3d)\n",
    "print(\"\\n\")\n",
    "\n",
    "# Tuples can be nested\n",
    "pair = (point2d, point3d)\n",
    "print(pair)\n",
    "print(\"\\n\")\n",
    "\n",
    "# Converting a string to a tuple\n",
    "str = \"DATA 601\"\n",
    "str_tup = tuple(str)\n",
    "print(str_tup)\n",
    "\n",
    "print(\"\\n\")\n",
    "print(point2d[0])\n",
    "\n",
    "## Try to change the value of an immutable type\n",
    "point2d[0] = 25"
   ]
  },
  {
   "cell_type": "code",
   "execution_count": 74,
   "metadata": {
    "slideshow": {
     "slide_type": "subslide"
    }
   },
   "outputs": [
    {
     "name": "stdout",
     "output_type": "stream",
     "text": [
      "('a', 'b', [1, 2, 3])\n"
     ]
    }
   ],
   "source": [
    "# Once a tuple has been declared, we cannot mutate it. However, if a\n",
    "# mutable object stored in a particular slot is mutable, it can be \n",
    "# mutated.\n",
    "\n",
    "# Recall that lists are mutable\n",
    "tup = ('a', 'b',[1,2])\n",
    "\n",
    "# The following is not allowed\n",
    "# tup[0] = 'aa' \n",
    "\n",
    "# but this is ok\n",
    "tup[2].append(3)\n",
    "\n",
    "print(tup)"
   ]
  },
  {
   "cell_type": "markdown",
   "metadata": {
    "slideshow": {
     "slide_type": "slide"
    }
   },
   "source": [
    "### Lists\n",
    "\n",
    "- A list is a *variable-length*, _mutable_ sequence of Python objects.\n",
    "- Declare a list using square brackets (`[]`).\n",
    "- Lists can be nested.\n",
    "- Convenient list modification operations:\n",
    "  - `append`, `extend`, `remove`, `pop` etc.\n",
    "- Can also _slice_ lists."
   ]
  },
  {
   "cell_type": "code",
   "execution_count": 75,
   "metadata": {
    "slideshow": {
     "slide_type": "subslide"
    }
   },
   "outputs": [
    {
     "name": "stdout",
     "output_type": "stream",
     "text": [
      "[0, 1, 2, 3]\n",
      "[2, 3]\n",
      "[0, 1, 2, 3]\n",
      "\n",
      "\n",
      "[0, 1, 2, -1, 3]\n",
      "-1\n",
      "[0, 1, 2, 3]\n",
      "\n",
      "\n",
      "[0, 1, 2, 4]\n",
      "[0, 1, 2, (1, 1)]\n"
     ]
    }
   ],
   "source": [
    "# Creating and modifying lists\n",
    "\n",
    "l1 = [0,1]\n",
    "l2 = [2,3]\n",
    "\n",
    "# Lists can be joined in two ways\n",
    "l3 = l1 + l2   # Creates a new list - slower\n",
    "l1.extend(l2) # Modifies an existing list - faster\n",
    "\n",
    "print(l1)\n",
    "print(l2)\n",
    "print(l3)\n",
    "print(\"\\n\")\n",
    "\n",
    "# Use insert and pop for positional insertion and deletion.\n",
    "# These operations change the list size\n",
    "\n",
    "l3.insert(3,-1)\n",
    "print(l3)\n",
    "print(l3.pop(3))\n",
    "print(l3)\n",
    "print(\"\\n\")\n",
    "\n",
    "# Ofcourse simple indexing is also possible\n",
    "l3[3] = 4\n",
    "print(l3)\n",
    "l3[3] = (1,1)\n",
    "print(l3)\n",
    "\n"
   ]
  },
  {
   "cell_type": "markdown",
   "metadata": {
    "slideshow": {
     "slide_type": "slide"
    }
   },
   "source": [
    "## <a name=\"exerciseII\"></a>Warmup Exercises II\n",
    "\n",
    "a) Write a function that takes a list as an input and returns a new list that contains the items in the input list _reversed_. You are not allowed to use any built-in reversal functions. \n",
    "\n",
    "  You may use `list.insert`\n",
    "  \n",
    "  \n",
    "b)  Write the following functions that take a list of numbers as input and return:\n",
    "  - the maximum\n",
    "  - the minimum\n",
    "  - the sum\n",
    "  \n",
    "  You are not allowed to use any built-in functions."
   ]
  },
  {
   "cell_type": "code",
   "execution_count": 76,
   "metadata": {},
   "outputs": [],
   "source": [
    "# Problem a"
   ]
  },
  {
   "cell_type": "code",
   "execution_count": 77,
   "metadata": {},
   "outputs": [],
   "source": [
    "# Problem b"
   ]
  },
  {
   "cell_type": "code",
   "execution_count": null,
   "metadata": {},
   "outputs": [],
   "source": []
  },
  {
   "cell_type": "code",
   "execution_count": null,
   "metadata": {},
   "outputs": [],
   "source": []
  }
 ],
 "metadata": {
  "celltoolbar": "Slideshow",
  "kernelspec": {
   "display_name": "Python 3",
   "language": "python",
   "name": "python3"
  },
  "language_info": {
   "codemirror_mode": {
    "name": "ipython",
    "version": 3
   },
   "file_extension": ".py",
   "mimetype": "text/x-python",
   "name": "python",
   "nbconvert_exporter": "python",
   "pygments_lexer": "ipython3",
   "version": "3.7.4"
  }
 },
 "nbformat": 4,
 "nbformat_minor": 4
}
