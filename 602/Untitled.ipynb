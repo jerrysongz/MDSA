{
 "cells": [
  {
   "cell_type": "code",
   "execution_count": 1,
   "id": "51975575-4bad-42f2-adab-6b0c6f69ba16",
   "metadata": {},
   "outputs": [
    {
     "data": {
      "text/html": [
       "0.000732600732600733"
      ],
      "text/latex": [
       "0.000732600732600733"
      ],
      "text/markdown": [
       "0.000732600732600733"
      ],
      "text/plain": [
       "[1] 0.0007326007"
      ]
     },
     "metadata": {},
     "output_type": "display_data"
    }
   ],
   "source": [
    "pwin = (1/2730)*(2729/2729) + (2729/2730)*(1/2729)  #set up the equation in R \n",
    "pwin #returns the answer"
   ]
  },
  {
   "cell_type": "code",
   "execution_count": 7,
   "id": "7be4da59-608b-4a1e-a2e6-bfd497d3cf77",
   "metadata": {},
   "outputs": [
    {
     "data": {
      "text/html": [
       "0.04"
      ],
      "text/latex": [
       "0.04"
      ],
      "text/markdown": [
       "0.04"
      ],
      "text/plain": [
       "[1] 0.04"
      ]
     },
     "metadata": {},
     "output_type": "display_data"
    }
   ],
   "source": [
    "0.15 - 0.11"
   ]
  },
  {
   "cell_type": "code",
   "execution_count": 4,
   "id": "6297ff19-a19c-408e-a331-60f4627ceb87",
   "metadata": {},
   "outputs": [
    {
     "data": {
      "text/html": [
       "0.16"
      ],
      "text/latex": [
       "0.16"
      ],
      "text/markdown": [
       "0.16"
      ],
      "text/plain": [
       "[1] 0.16"
      ]
     },
     "metadata": {},
     "output_type": "display_data"
    }
   ],
   "source": [
    "0.85-(0.8-0.11)"
   ]
  },
  {
   "cell_type": "code",
   "execution_count": 8,
   "id": "40c3745b-28ca-49ae-86f1-a37c3eac41f5",
   "metadata": {},
   "outputs": [
    {
     "data": {
      "text/html": [
       "0.96"
      ],
      "text/latex": [
       "0.96"
      ],
      "text/markdown": [
       "0.96"
      ],
      "text/plain": [
       "[1] 0.96"
      ]
     },
     "metadata": {},
     "output_type": "display_data"
    }
   ],
   "source": [
    "0.8 + 0.85 -0.69"
   ]
  },
  {
   "cell_type": "code",
   "execution_count": 9,
   "id": "25d29ed0-0dd4-43c5-a08a-a447fc1d333f",
   "metadata": {},
   "outputs": [
    {
     "data": {
      "text/html": [
       "0.888888888888889"
      ],
      "text/latex": [
       "0.888888888888889"
      ],
      "text/markdown": [
       "0.888888888888889"
      ],
      "text/plain": [
       "[1] 0.8888889"
      ]
     },
     "metadata": {},
     "output_type": "display_data"
    }
   ],
   "source": [
    "8/9"
   ]
  },
  {
   "cell_type": "code",
   "execution_count": 10,
   "id": "9cd04a64-4189-41ef-9633-bd0ff3301483",
   "metadata": {},
   "outputs": [
    {
     "data": {
      "text/html": [
       "0.944444444444444"
      ],
      "text/latex": [
       "0.944444444444444"
      ],
      "text/markdown": [
       "0.944444444444444"
      ],
      "text/plain": [
       "[1] 0.9444444"
      ]
     },
     "metadata": {},
     "output_type": "display_data"
    }
   ],
   "source": [
    "17/18\n",
    "\n",
    "\n"
   ]
  },
  {
   "cell_type": "code",
   "execution_count": 11,
   "id": "d8f81317-c1c1-4580-942d-2c3d0299075b",
   "metadata": {},
   "outputs": [
    {
     "data": {
      "text/html": [
       "0.111111111111111"
      ],
      "text/latex": [
       "0.111111111111111"
      ],
      "text/markdown": [
       "0.111111111111111"
      ],
      "text/plain": [
       "[1] 0.1111111"
      ]
     },
     "metadata": {},
     "output_type": "display_data"
    }
   ],
   "source": [
    "1/9"
   ]
  },
  {
   "cell_type": "code",
   "execution_count": 12,
   "id": "87e7c1b5-c267-438d-8dd5-f05666f9f060",
   "metadata": {},
   "outputs": [
    {
     "data": {
      "text/html": [
       "0.8125"
      ],
      "text/latex": [
       "0.8125"
      ],
      "text/markdown": [
       "0.8125"
      ],
      "text/plain": [
       "[1] 0.8125"
      ]
     },
     "metadata": {},
     "output_type": "display_data"
    }
   ],
   "source": [
    "13/16"
   ]
  },
  {
   "cell_type": "code",
   "execution_count": 16,
   "id": "64a38daf-6209-47e4-8d7c-5b90958ca856",
   "metadata": {},
   "outputs": [
    {
     "data": {
      "text/html": [
       "0.625"
      ],
      "text/latex": [
       "0.625"
      ],
      "text/markdown": [
       "0.625"
      ],
      "text/plain": [
       "[1] 0.625"
      ]
     },
     "metadata": {},
     "output_type": "display_data"
    }
   ],
   "source": [
    "10/16"
   ]
  },
  {
   "cell_type": "code",
   "execution_count": 2,
   "id": "903af2f6-3dd9-4d5d-acc6-6d331c28ebbf",
   "metadata": {},
   "outputs": [
    {
     "data": {
      "text/html": [
       "0.12"
      ],
      "text/latex": [
       "0.12"
      ],
      "text/markdown": [
       "0.12"
      ],
      "text/plain": [
       "[1] 0.12"
      ]
     },
     "metadata": {},
     "output_type": "display_data"
    }
   ],
   "source": [
    "0.24*0.5\n",
    "\n"
   ]
  },
  {
   "cell_type": "code",
   "execution_count": 3,
   "id": "445fefa4-eea9-4ed5-858e-2b30a56e6776",
   "metadata": {},
   "outputs": [
    {
     "data": {
      "text/html": [
       "0.001953125"
      ],
      "text/latex": [
       "0.001953125"
      ],
      "text/markdown": [
       "0.001953125"
      ],
      "text/plain": [
       "[1] 0.001953125"
      ]
     },
     "metadata": {},
     "output_type": "display_data"
    }
   ],
   "source": [
    "(1/8)^3"
   ]
  },
  {
   "cell_type": "code",
   "execution_count": 24,
   "id": "36af340e-7859-43ec-b1d3-470d6b0dd5d6",
   "metadata": {},
   "outputs": [
    {
     "data": {
      "text/html": [
       "0.9074"
      ],
      "text/latex": [
       "0.9074"
      ],
      "text/markdown": [
       "0.9074"
      ],
      "text/plain": [
       "[1] 0.9074"
      ]
     },
     "metadata": {},
     "output_type": "display_data"
    }
   ],
   "source": [
    "round(1-factorial(6)/(6^5), digits = 4)"
   ]
  },
  {
   "cell_type": "code",
   "execution_count": 10,
   "id": "edc45320-cd2d-492f-a2db-425c2bad3b70",
   "metadata": {},
   "outputs": [
    {
     "data": {
      "text/html": [
       "0.1999"
      ],
      "text/latex": [
       "0.1999"
      ],
      "text/markdown": [
       "0.1999"
      ],
      "text/plain": [
       "[1] 0.1999"
      ]
     },
     "metadata": {},
     "output_type": "display_data"
    }
   ],
   "source": [
    "round((choose(14,0)*choose(12,12))/choose(26,12), digits = 4)"
   ]
  },
  {
   "cell_type": "code",
   "execution_count": 13,
   "id": "a165201a-eda1-4a85-a234-cf7b6ffaf21b",
   "metadata": {},
   "outputs": [
    {
     "data": {
      "text/html": [
       "0.999973182020564"
      ],
      "text/latex": [
       "0.999973182020564"
      ],
      "text/markdown": [
       "0.999973182020564"
      ],
      "text/plain": [
       "[1] 0.9999732"
      ]
     },
     "metadata": {},
     "output_type": "display_data"
    }
   ],
   "source": [
    "1 - ((choose(14,14)*choose(12,0))/choose(26,12) + (choose(14,13)*choose(12,1))/choose(26,12))"
   ]
  },
  {
   "cell_type": "code",
   "execution_count": 19,
   "id": "3f3bc228-8045-4c5d-8846-fc187c9fa44a",
   "metadata": {},
   "outputs": [
    {
     "data": {
      "text/html": [
       "0.593283079822318"
      ],
      "text/latex": [
       "0.593283079822318"
      ],
      "text/markdown": [
       "0.593283079822318"
      ],
      "text/plain": [
       "[1] 0.5932831"
      ]
     },
     "metadata": {},
     "output_type": "display_data"
    }
   ],
   "source": [
    "(choose(11,5)*choose(12,5))/choose(23,10)+(choose(11,6)*choose(12,4))/choose(23,10)+(choose(11,7)*choose(12,3))/choose(23,10)+(choose(11,8)*choose(12,2))/choose(23,10)+(choose(11,9)*choose(12,1))/choose(23,10)+(choose(11,10)*choose(12,0))/choose(23,10)"
   ]
  },
  {
   "cell_type": "code",
   "execution_count": 23,
   "id": "d0f267b4-6732-43e4-b899-e9cfdc51f466",
   "metadata": {},
   "outputs": [
    {
     "data": {
      "text/html": [
       "0.0925925925925926"
      ],
      "text/latex": [
       "0.0925925925925926"
      ],
      "text/markdown": [
       "0.0925925925925926"
      ],
      "text/plain": [
       "[1] 0.09259259"
      ]
     },
     "metadata": {},
     "output_type": "display_data"
    }
   ],
   "source": [
    "1-factorial(6)/(6^5)"
   ]
  },
  {
   "cell_type": "code",
   "execution_count": 1,
   "id": "faaca4b6-eac0-42cf-a8d0-96f4fc20662d",
   "metadata": {},
   "outputs": [
    {
     "data": {
      "text/html": [
       "62"
      ],
      "text/latex": [
       "62"
      ],
      "text/markdown": [
       "62"
      ],
      "text/plain": [
       "[1] 62"
      ]
     },
     "metadata": {},
     "output_type": "display_data"
    }
   ],
   "source": [
    "100-38"
   ]
  },
  {
   "cell_type": "code",
   "execution_count": 11,
   "id": "827c890e-5dff-4f19-919e-1ecae6444c3e",
   "metadata": {},
   "outputs": [
    {
     "data": {
      "text/html": [
       "1.6819"
      ],
      "text/latex": [
       "1.6819"
      ],
      "text/markdown": [
       "1.6819"
      ],
      "text/plain": [
       "[1] 1.6819"
      ]
     },
     "metadata": {},
     "output_type": "display_data"
    }
   ],
   "source": [
    "#define values\n",
    "vals <- c(0, 1, 2, 3)\n",
    "\n",
    "#define probabilities\n",
    "probs <- c(.1609, .2644, .3066, .2681)\n",
    "\n",
    "#calculate expected value\n",
    "exp <- sum(vals*probs)\n",
    "exp"
   ]
  },
  {
   "cell_type": "code",
   "execution_count": 12,
   "id": "24361f6f-f8e4-454e-b838-2cf21d629937",
   "metadata": {},
   "outputs": [
    {
     "data": {
      "text/html": [
       "1.0367798175119"
      ],
      "text/latex": [
       "1.0367798175119"
      ],
      "text/markdown": [
       "1.0367798175119"
      ],
      "text/plain": [
       "[1] 1.03678"
      ]
     },
     "metadata": {},
     "output_type": "display_data"
    }
   ],
   "source": [
    "#define values\n",
    "vals <- c(0, 1, 2^2, 3^2)\n",
    "\n",
    "probs <- c(.1609, .2644, .3066, .2681)\n",
    "\n",
    "var <- sum(vals*probs) - exp^2\n",
    "sqrt(var)\n"
   ]
  },
  {
   "cell_type": "code",
   "execution_count": 12,
   "id": "74172fd6-6327-4448-bac4-5aa8f952ad2a",
   "metadata": {},
   "outputs": [
    {
     "data": {
      "text/html": [
       "0.0941646809079309"
      ],
      "text/latex": [
       "0.0941646809079309"
      ],
      "text/markdown": [
       "0.0941646809079309"
      ],
      "text/plain": [
       "[1] 0.09416468"
      ]
     },
     "metadata": {},
     "output_type": "display_data"
    }
   ],
   "source": [
    "dbinom(161, size=181, prob=0.89)"
   ]
  },
  {
   "cell_type": "code",
   "execution_count": 8,
   "id": "d1dfd341-19ec-41f9-aed2-ae009b5fffa1",
   "metadata": {},
   "outputs": [
    {
     "data": {
      "text/html": [
       "0.0950823063050124"
      ],
      "text/latex": [
       "0.0950823063050124"
      ],
      "text/markdown": [
       "0.0950823063050124"
      ],
      "text/plain": [
       "[1] 0.09508231"
      ]
     },
     "metadata": {},
     "output_type": "display_data"
    }
   ],
   "source": [
    "1 - sum(dbinom(0:166, 166 , 0.89))"
   ]
  },
  {
   "cell_type": "code",
   "execution_count": 19,
   "id": "0c1bb4ef-cc70-44f3-a81b-c7234af60e2f",
   "metadata": {},
   "outputs": [
    {
     "data": {
      "text/html": [
       "<style>\n",
       ".list-inline {list-style: none; margin:0; padding: 0}\n",
       ".list-inline>li {display: inline-block}\n",
       ".list-inline>li:not(:last-child)::after {content: \"\\00b7\"; padding: 0 .5ex}\n",
       "</style>\n",
       "<ol class=list-inline><li>0</li><li>1</li><li>2</li><li>3</li></ol>\n"
      ],
      "text/latex": [
       "\\begin{enumerate*}\n",
       "\\item 0\n",
       "\\item 1\n",
       "\\item 2\n",
       "\\item 3\n",
       "\\end{enumerate*}\n"
      ],
      "text/markdown": [
       "1. 0\n",
       "2. 1\n",
       "3. 2\n",
       "4. 3\n",
       "\n",
       "\n"
      ],
      "text/plain": [
       "[1] 0 1 2 3"
      ]
     },
     "metadata": {},
     "output_type": "display_data"
    }
   ],
   "source": [
    "dbinom(161, size=181, prob=0.89)"
   ]
  },
  {
   "cell_type": "code",
   "execution_count": 32,
   "id": "2561e5e1-378c-4fb1-b304-ecdd2796cd17",
   "metadata": {},
   "outputs": [
    {
     "data": {
      "text/html": [
       "0.793277421936865"
      ],
      "text/latex": [
       "0.793277421936865"
      ],
      "text/markdown": [
       "0.793277421936865"
      ],
      "text/plain": [
       "[1] 0.7932774"
      ]
     },
     "metadata": {},
     "output_type": "display_data"
    }
   ],
   "source": [
    "sum(dpois(1:7,5.6))\n"
   ]
  },
  {
   "cell_type": "code",
   "execution_count": 44,
   "id": "16a517ed-d19f-49eb-9f7c-8a1003875432",
   "metadata": {},
   "outputs": [
    {
     "data": {
      "text/html": [
       "0.860303432120342"
      ],
      "text/latex": [
       "0.860303432120342"
      ],
      "text/markdown": [
       "0.860303432120342"
      ],
      "text/plain": [
       "[1] 0.8603034"
      ]
     },
     "metadata": {},
     "output_type": "display_data"
    }
   ],
   "source": [
    "1-ppois(3,6.13333333333,T)"
   ]
  },
  {
   "cell_type": "code",
   "execution_count": 39,
   "id": "ed867225-536f-43c8-ab65-b7267689a37e",
   "metadata": {},
   "outputs": [
    {
     "data": {
      "text/html": [
       "0.127909325593345"
      ],
      "text/latex": [
       "0.127909325593345"
      ],
      "text/markdown": [
       "0.127909325593345"
      ],
      "text/plain": [
       "[1] 0.1279093"
      ]
     },
     "metadata": {},
     "output_type": "display_data"
    }
   ],
   "source": [
    "dpois(4,18.4/3)"
   ]
  },
  {
   "cell_type": "code",
   "execution_count": 45,
   "id": "44cdabb5-9d9b-47e3-92b1-0bf2013ec91a",
   "metadata": {},
   "outputs": [
    {
     "data": {
      "text/html": [
       "0.146983099213186"
      ],
      "text/latex": [
       "0.146983099213186"
      ],
      "text/markdown": [
       "0.146983099213186"
      ],
      "text/plain": [
       "[1] 0.1469831"
      ]
     },
     "metadata": {},
     "output_type": "display_data"
    }
   ],
   "source": [
    "dpois(17,18.4)/sum(dpois(13:20,18.4))"
   ]
  },
  {
   "cell_type": "code",
   "execution_count": 47,
   "id": "b79bfcfd-1295-44d9-bffe-bbd4d03f4cf2",
   "metadata": {},
   "outputs": [
    {
     "data": {
      "text/html": [
       "0.104"
      ],
      "text/latex": [
       "0.104"
      ],
      "text/markdown": [
       "0.104"
      ],
      "text/plain": [
       "[1] 0.104"
      ]
     },
     "metadata": {},
     "output_type": "display_data"
    }
   ],
   "source": [
    "pbeta(1,2,2)-pbeta(0.8,2,2)"
   ]
  },
  {
   "cell_type": "code",
   "execution_count": 49,
   "id": "21153d61-0a8a-4515-be90-ca64fb595bfb",
   "metadata": {},
   "outputs": [
    {
     "data": {
      "text/html": [
       "0.7"
      ],
      "text/latex": [
       "0.7"
      ],
      "text/markdown": [
       "0.7"
      ],
      "text/plain": [
       "[1] 0.7"
      ]
     },
     "metadata": {},
     "output_type": "display_data"
    }
   ],
   "source": [
    "punif(0.2,-0.5,0.5)"
   ]
  },
  {
   "cell_type": "code",
   "execution_count": 53,
   "id": "5a673595-4052-4616-a575-3a08fd4192c3",
   "metadata": {},
   "outputs": [
    {
     "data": {
      "text/html": [
       "0.11717384413225"
      ],
      "text/latex": [
       "0.11717384413225"
      ],
      "text/markdown": [
       "0.11717384413225"
      ],
      "text/plain": [
       "[1] 0.1171738"
      ]
     },
     "metadata": {},
     "output_type": "display_data"
    }
   ],
   "source": [
    "exp(-29/38)-exp(-40/38)"
   ]
  },
  {
   "cell_type": "code",
   "execution_count": 55,
   "id": "3599ebe5-2407-414a-8844-c349ffe42d7e",
   "metadata": {},
   "outputs": [
    {
     "data": {
      "text/html": [
       "0.782665098329361"
      ],
      "text/latex": [
       "0.782665098329361"
      ],
      "text/markdown": [
       "0.782665098329361"
      ],
      "text/plain": [
       "[1] 0.7826651"
      ]
     },
     "metadata": {},
     "output_type": "display_data"
    }
   ],
   "source": [
    "1-exp(-58/38)"
   ]
  },
  {
   "cell_type": "code",
   "execution_count": 57,
   "id": "d8f7211e-db0a-4a0c-bee6-20a6c216b471",
   "metadata": {},
   "outputs": [
    {
     "data": {
      "text/html": [
       "0.2936137367389"
      ],
      "text/latex": [
       "0.2936137367389"
      ],
      "text/markdown": [
       "0.2936137367389"
      ],
      "text/plain": [
       "[1] 0.2936137"
      ]
     },
     "metadata": {},
     "output_type": "display_data"
    }
   ],
   "source": [
    "top <- 1-(1-exp(-3.5/2.04))\n",
    "btm <- 1-(1-exp(-1/2.04))\n",
    "ans <- top/btm\n",
    "ans"
   ]
  },
  {
   "cell_type": "code",
   "execution_count": 73,
   "id": "98e6a0b0-12ee-40e0-b65d-7408cb1914d7",
   "metadata": {},
   "outputs": [
    {
     "name": "stderr",
     "output_type": "stream",
     "text": [
      "Warning message in qexp(58, 38, T):\n",
      "“NaNs produced”\n",
      "Warning message in qexp(30, 38, F):\n",
      "“NaNs produced”\n"
     ]
    },
    {
     "data": {
      "text/html": [
       "NaN"
      ],
      "text/latex": [
       "NaN"
      ],
      "text/markdown": [
       "NaN"
      ],
      "text/plain": [
       "[1] NaN"
      ]
     },
     "metadata": {},
     "output_type": "display_data"
    },
    {
     "name": "stderr",
     "output_type": "stream",
     "text": [
      "Warning message in qexp(58, 38, T):\n",
      "“NaNs produced”\n"
     ]
    },
    {
     "data": {
      "text/html": [
       "NaN"
      ],
      "text/latex": [
       "NaN"
      ],
      "text/markdown": [
       "NaN"
      ],
      "text/plain": [
       "[1] NaN"
      ]
     },
     "metadata": {},
     "output_type": "display_data"
    },
    {
     "data": {
      "text/html": [
       "\n",
       "<table width=\"100%\" summary=\"page for Exponential {stats}\"><tr><td>Exponential {stats}</td><td style=\"text-align: right;\">R Documentation</td></tr></table>\n",
       "\n",
       "<h2>The Exponential Distribution</h2>\n",
       "\n",
       "<h3>Description</h3>\n",
       "\n",
       "<p>Density, distribution function, quantile function and random\n",
       "generation for the exponential distribution with rate <code>rate</code>\n",
       "(i.e., mean <code>1/rate</code>).\n",
       "</p>\n",
       "\n",
       "\n",
       "<h3>Usage</h3>\n",
       "\n",
       "<pre>\n",
       "dexp(x, rate = 1, log = FALSE)\n",
       "pexp(q, rate = 1, lower.tail = TRUE, log.p = FALSE)\n",
       "qexp(p, rate = 1, lower.tail = TRUE, log.p = FALSE)\n",
       "rexp(n, rate = 1)\n",
       "</pre>\n",
       "\n",
       "\n",
       "<h3>Arguments</h3>\n",
       "\n",
       "<table summary=\"R argblock\">\n",
       "<tr valign=\"top\"><td><code>x, q</code></td>\n",
       "<td>\n",
       "<p>vector of quantiles.</p>\n",
       "</td></tr>\n",
       "<tr valign=\"top\"><td><code>p</code></td>\n",
       "<td>\n",
       "<p>vector of probabilities.</p>\n",
       "</td></tr>\n",
       "<tr valign=\"top\"><td><code>n</code></td>\n",
       "<td>\n",
       "<p>number of observations. If <code>length(n) &gt; 1</code>, the length\n",
       "is taken to be the number required.</p>\n",
       "</td></tr>\n",
       "<tr valign=\"top\"><td><code>rate</code></td>\n",
       "<td>\n",
       "<p>vector of rates.</p>\n",
       "</td></tr>\n",
       "<tr valign=\"top\"><td><code>log, log.p</code></td>\n",
       "<td>\n",
       "<p>logical; if TRUE, probabilities p are given as log(p).</p>\n",
       "</td></tr>\n",
       "<tr valign=\"top\"><td><code>lower.tail</code></td>\n",
       "<td>\n",
       "<p>logical; if TRUE (default), probabilities are\n",
       "<i>P[X &le; x]</i>, otherwise, <i>P[X &gt; x]</i>.</p>\n",
       "</td></tr>\n",
       "</table>\n",
       "\n",
       "\n",
       "<h3>Details</h3>\n",
       "\n",
       "<p>If <code>rate</code> is not specified, it assumes the default value of\n",
       "<code>1</code>.\n",
       "</p>\n",
       "<p>The exponential distribution with rate <i>&lambda;</i> has density\n",
       "</p>\n",
       "<p style=\"text-align: center;\"><i>f(x) = &lambda; {e}^{- &lambda; x}</i></p>\n",
       "<p> for <i>x &ge; 0</i>.\n",
       "</p>\n",
       "\n",
       "\n",
       "<h3>Value</h3>\n",
       "\n",
       "<p><code>dexp</code> gives the density,\n",
       "<code>pexp</code> gives the distribution function,\n",
       "<code>qexp</code> gives the quantile function, and\n",
       "<code>rexp</code> generates random deviates.\n",
       "</p>\n",
       "<p>The length of the result is determined by <code>n</code> for\n",
       "<code>rexp</code>, and is the maximum of the lengths of the\n",
       "numerical arguments for the other functions.  \n",
       "</p>\n",
       "<p>The numerical arguments other than <code>n</code> are recycled to the\n",
       "length of the result.  Only the first elements of the logical\n",
       "arguments are used.\n",
       "</p>\n",
       "\n",
       "\n",
       "<h3>Note</h3>\n",
       "\n",
       "<p>The cumulative hazard <i>H(t) = - log(1 - F(t))</i>\n",
       "is <code>-pexp(t, r, lower = FALSE, log = TRUE)</code>.\n",
       "</p>\n",
       "\n",
       "\n",
       "<h3>Source</h3>\n",
       "\n",
       "<p><code>dexp</code>, <code>pexp</code> and <code>qexp</code> are all calculated\n",
       "from numerically stable versions of the definitions.\n",
       "</p>\n",
       "<p><code>rexp</code> uses\n",
       "</p>\n",
       "<p>Ahrens, J. H. and Dieter, U. (1972).\n",
       "Computer methods for sampling from the exponential and normal distributions.\n",
       "<em>Communications of the ACM</em>, <b>15</b>, 873&ndash;882.\n",
       "</p>\n",
       "\n",
       "\n",
       "<h3>References</h3>\n",
       "\n",
       "<p>Becker, R. A., Chambers, J. M. and Wilks, A. R. (1988)\n",
       "<em>The New S Language</em>.\n",
       "Wadsworth &amp; Brooks/Cole.\n",
       "</p>\n",
       "<p>Johnson, N. L., Kotz, S. and Balakrishnan, N. (1995)\n",
       "<em>Continuous Univariate Distributions</em>, volume 1, chapter 19.\n",
       "Wiley, New York.\n",
       "</p>\n",
       "\n",
       "\n",
       "<h3>See Also</h3>\n",
       "\n",
       "<p><code>exp</code> for the exponential function.\n",
       "</p>\n",
       "<p>Distributions for other standard distributions, including\n",
       "<code>dgamma</code> for the gamma distribution and\n",
       "<code>dweibull</code> for the Weibull distribution, both of which\n",
       "generalize the exponential.\n",
       "</p>\n",
       "\n",
       "\n",
       "<h3>Examples</h3>\n",
       "\n",
       "<pre>\n",
       "dexp(1) - exp(-1) #-&gt; 0\n",
       "\n",
       "## a fast way to generate *sorted*  U[0,1]  random numbers:\n",
       "rsunif &lt;- function(n) { n1 &lt;- n+1\n",
       "   cE &lt;- cumsum(rexp(n1)); cE[seq_len(n)]/cE[n1] }\n",
       "plot(rsunif(1000), ylim=0:1, pch=\".\")\n",
       "abline(0,1/(1000+1), col=adjustcolor(1, 0.5))\n",
       "</pre>\n",
       "\n",
       "<hr /><div style=\"text-align: center;\">[Package <em>stats</em> version 4.1.3 ]</div>"
      ],
      "text/latex": [
       "\\inputencoding{utf8}\n",
       "\\HeaderA{Exponential}{The Exponential Distribution}{Exponential}\n",
       "\\aliasA{dexp}{Exponential}{dexp}\n",
       "\\aliasA{pexp}{Exponential}{pexp}\n",
       "\\aliasA{qexp}{Exponential}{qexp}\n",
       "\\aliasA{rexp}{Exponential}{rexp}\n",
       "\\keyword{distribution}{Exponential}\n",
       "%\n",
       "\\begin{Description}\\relax\n",
       "Density, distribution function, quantile function and random\n",
       "generation for the exponential distribution with rate \\code{rate}\n",
       "(i.e., mean \\code{1/rate}).\n",
       "\\end{Description}\n",
       "%\n",
       "\\begin{Usage}\n",
       "\\begin{verbatim}\n",
       "dexp(x, rate = 1, log = FALSE)\n",
       "pexp(q, rate = 1, lower.tail = TRUE, log.p = FALSE)\n",
       "qexp(p, rate = 1, lower.tail = TRUE, log.p = FALSE)\n",
       "rexp(n, rate = 1)\n",
       "\\end{verbatim}\n",
       "\\end{Usage}\n",
       "%\n",
       "\\begin{Arguments}\n",
       "\\begin{ldescription}\n",
       "\\item[\\code{x, q}] vector of quantiles.\n",
       "\\item[\\code{p}] vector of probabilities.\n",
       "\\item[\\code{n}] number of observations. If \\code{length(n) > 1}, the length\n",
       "is taken to be the number required.\n",
       "\\item[\\code{rate}] vector of rates.\n",
       "\\item[\\code{log, log.p}] logical; if TRUE, probabilities p are given as log(p).\n",
       "\\item[\\code{lower.tail}] logical; if TRUE (default), probabilities are\n",
       "\\eqn{P[X \\le x]}{}, otherwise, \\eqn{P[X > x]}{}.\n",
       "\\end{ldescription}\n",
       "\\end{Arguments}\n",
       "%\n",
       "\\begin{Details}\\relax\n",
       "If \\code{rate} is not specified, it assumes the default value of\n",
       "\\code{1}.\n",
       "\n",
       "The exponential distribution with rate \\eqn{\\lambda}{} has density\n",
       "\\deqn{f(x) = \\lambda {e}^{- \\lambda x}}{} for \\eqn{x \\ge 0}{}.\n",
       "\\end{Details}\n",
       "%\n",
       "\\begin{Value}\n",
       "\\code{dexp} gives the density,\n",
       "\\code{pexp} gives the distribution function,\n",
       "\\code{qexp} gives the quantile function, and\n",
       "\\code{rexp} generates random deviates.\n",
       "\n",
       "The length of the result is determined by \\code{n} for\n",
       "\\code{rexp}, and is the maximum of the lengths of the\n",
       "numerical arguments for the other functions.  \n",
       "\n",
       "The numerical arguments other than \\code{n} are recycled to the\n",
       "length of the result.  Only the first elements of the logical\n",
       "arguments are used.\n",
       "\\end{Value}\n",
       "%\n",
       "\\begin{Note}\\relax\n",
       "The cumulative hazard \\eqn{H(t) = - \\log(1 - F(t))}{}\n",
       "is \\code{-pexp(t, r, lower = FALSE, log = TRUE)}.\n",
       "\\end{Note}\n",
       "%\n",
       "\\begin{Source}\\relax\n",
       "\\code{dexp}, \\code{pexp} and \\code{qexp} are all calculated\n",
       "from numerically stable versions of the definitions.\n",
       "\n",
       "\\code{rexp} uses\n",
       "\n",
       "Ahrens, J. H. and Dieter, U. (1972).\n",
       "Computer methods for sampling from the exponential and normal distributions.\n",
       "\\emph{Communications of the ACM}, \\bold{15}, 873--882.\n",
       "\\end{Source}\n",
       "%\n",
       "\\begin{References}\\relax\n",
       "Becker, R. A., Chambers, J. M. and Wilks, A. R. (1988)\n",
       "\\emph{The New S Language}.\n",
       "Wadsworth \\& Brooks/Cole.\n",
       "\n",
       "Johnson, N. L., Kotz, S. and Balakrishnan, N. (1995)\n",
       "\\emph{Continuous Univariate Distributions}, volume 1, chapter 19.\n",
       "Wiley, New York.\n",
       "\\end{References}\n",
       "%\n",
       "\\begin{SeeAlso}\\relax\n",
       "\\code{\\LinkA{exp}{exp}} for the exponential function.\n",
       "\n",
       "\\LinkA{Distributions}{Distributions} for other standard distributions, including\n",
       "\\code{\\LinkA{dgamma}{dgamma}} for the gamma distribution and\n",
       "\\code{\\LinkA{dweibull}{dweibull}} for the Weibull distribution, both of which\n",
       "generalize the exponential.\n",
       "\\end{SeeAlso}\n",
       "%\n",
       "\\begin{Examples}\n",
       "\\begin{ExampleCode}\n",
       "dexp(1) - exp(-1) #-> 0\n",
       "\n",
       "## a fast way to generate *sorted*  U[0,1]  random numbers:\n",
       "rsunif <- function(n) { n1 <- n+1\n",
       "   cE <- cumsum(rexp(n1)); cE[seq_len(n)]/cE[n1] }\n",
       "plot(rsunif(1000), ylim=0:1, pch=\".\")\n",
       "abline(0,1/(1000+1), col=adjustcolor(1, 0.5))\n",
       "\\end{ExampleCode}\n",
       "\\end{Examples}"
      ],
      "text/plain": [
       "Exponential               package:stats                R Documentation\n",
       "\n",
       "_\bT_\bh_\be _\bE_\bx_\bp_\bo_\bn_\be_\bn_\bt_\bi_\ba_\bl _\bD_\bi_\bs_\bt_\br_\bi_\bb_\bu_\bt_\bi_\bo_\bn\n",
       "\n",
       "_\bD_\be_\bs_\bc_\br_\bi_\bp_\bt_\bi_\bo_\bn:\n",
       "\n",
       "     Density, distribution function, quantile function and random\n",
       "     generation for the exponential distribution with rate ‘rate’\n",
       "     (i.e., mean ‘1/rate’).\n",
       "\n",
       "_\bU_\bs_\ba_\bg_\be:\n",
       "\n",
       "     dexp(x, rate = 1, log = FALSE)\n",
       "     pexp(q, rate = 1, lower.tail = TRUE, log.p = FALSE)\n",
       "     qexp(p, rate = 1, lower.tail = TRUE, log.p = FALSE)\n",
       "     rexp(n, rate = 1)\n",
       "     \n",
       "_\bA_\br_\bg_\bu_\bm_\be_\bn_\bt_\bs:\n",
       "\n",
       "    x, q: vector of quantiles.\n",
       "\n",
       "       p: vector of probabilities.\n",
       "\n",
       "       n: number of observations. If ‘length(n) > 1’, the length is\n",
       "          taken to be the number required.\n",
       "\n",
       "    rate: vector of rates.\n",
       "\n",
       "log, log.p: logical; if TRUE, probabilities p are given as log(p).\n",
       "\n",
       "lower.tail: logical; if TRUE (default), probabilities are P[X <= x],\n",
       "          otherwise, P[X > x].\n",
       "\n",
       "_\bD_\be_\bt_\ba_\bi_\bl_\bs:\n",
       "\n",
       "     If ‘rate’ is not specified, it assumes the default value of ‘1’.\n",
       "\n",
       "     The exponential distribution with rate lambda has density\n",
       "\n",
       "                       f(x) = lambda {e}^{- lambda x}                   \n",
       "     \n",
       "     for x >= 0.\n",
       "\n",
       "_\bV_\ba_\bl_\bu_\be:\n",
       "\n",
       "     ‘dexp’ gives the density, ‘pexp’ gives the distribution function,\n",
       "     ‘qexp’ gives the quantile function, and ‘rexp’ generates random\n",
       "     deviates.\n",
       "\n",
       "     The length of the result is determined by ‘n’ for ‘rexp’, and is\n",
       "     the maximum of the lengths of the numerical arguments for the\n",
       "     other functions.\n",
       "\n",
       "     The numerical arguments other than ‘n’ are recycled to the length\n",
       "     of the result.  Only the first elements of the logical arguments\n",
       "     are used.\n",
       "\n",
       "_\bN_\bo_\bt_\be:\n",
       "\n",
       "     The cumulative hazard H(t) = - log(1 - F(t)) is ‘-pexp(t, r, lower\n",
       "     = FALSE, log = TRUE)’.\n",
       "\n",
       "_\bS_\bo_\bu_\br_\bc_\be:\n",
       "\n",
       "     ‘dexp’, ‘pexp’ and ‘qexp’ are all calculated from numerically\n",
       "     stable versions of the definitions.\n",
       "\n",
       "     ‘rexp’ uses\n",
       "\n",
       "     Ahrens, J. H. and Dieter, U. (1972).  Computer methods for\n",
       "     sampling from the exponential and normal distributions.\n",
       "     _Communications of the ACM_, *15*, 873-882.\n",
       "\n",
       "_\bR_\be_\bf_\be_\br_\be_\bn_\bc_\be_\bs:\n",
       "\n",
       "     Becker, R. A., Chambers, J. M. and Wilks, A. R. (1988) _The New S\n",
       "     Language_.  Wadsworth & Brooks/Cole.\n",
       "\n",
       "     Johnson, N. L., Kotz, S. and Balakrishnan, N. (1995) _Continuous\n",
       "     Univariate Distributions_, volume 1, chapter 19.  Wiley, New York.\n",
       "\n",
       "_\bS_\be_\be _\bA_\bl_\bs_\bo:\n",
       "\n",
       "     ‘exp’ for the exponential function.\n",
       "\n",
       "     Distributions for other standard distributions, including ‘dgamma’\n",
       "     for the gamma distribution and ‘dweibull’ for the Weibull\n",
       "     distribution, both of which generalize the exponential.\n",
       "\n",
       "_\bE_\bx_\ba_\bm_\bp_\bl_\be_\bs:\n",
       "\n",
       "     dexp(1) - exp(-1) #-> 0\n",
       "     \n",
       "     ## a fast way to generate *sorted*  U[0,1]  random numbers:\n",
       "     rsunif <- function(n) { n1 <- n+1\n",
       "        cE <- cumsum(rexp(n1)); cE[seq_len(n)]/cE[n1] }\n",
       "     plot(rsunif(1000), ylim=0:1, pch=\".\")\n",
       "     abline(0,1/(1000+1), col=adjustcolor(1, 0.5))\n",
       "     "
      ]
     },
     "metadata": {},
     "output_type": "display_data"
    }
   ],
   "source": [
    "qexp(58,38,T)/qexp(30,38,F)\n",
    "qexp(58,38,T)\n",
    "help(pexp)"
   ]
  },
  {
   "cell_type": "code",
   "execution_count": null,
   "id": "ec690e4c-f7e5-4003-9f1d-f94d4109336a",
   "metadata": {},
   "outputs": [],
   "source": []
  },
  {
   "cell_type": "code",
   "execution_count": null,
   "id": "797a9edf-ad7f-4c34-a557-86cab629a977",
   "metadata": {},
   "outputs": [],
   "source": []
  },
  {
   "cell_type": "code",
   "execution_count": 74,
   "id": "890d1542-796b-46f8-b149-54fa6136d3bc",
   "metadata": {},
   "outputs": [
    {
     "data": {
      "text/html": [
       "0.329421477881917"
      ],
      "text/latex": [
       "0.329421477881917"
      ],
      "text/markdown": [
       "0.329421477881917"
      ],
      "text/plain": [
       "[1] 0.3294215"
      ]
     },
     "metadata": {},
     "output_type": "display_data"
    }
   ],
   "source": [
    "pexp(8,1/3.7)-pexp(3,1/3.7)"
   ]
  },
  {
   "cell_type": "code",
   "execution_count": 75,
   "id": "7cb4b196-1be4-4d39-a9cc-2acb53813e76",
   "metadata": {},
   "outputs": [
    {
     "data": {
      "text/html": [
       "0.521377027488768"
      ],
      "text/latex": [
       "0.521377027488768"
      ],
      "text/markdown": [
       "0.521377027488768"
      ],
      "text/plain": [
       "[1] 0.521377"
      ]
     },
     "metadata": {},
     "output_type": "display_data"
    }
   ],
   "source": [
    "(exp(-30/38)-exp(-58/38))/exp(-30/38)"
   ]
  },
  {
   "cell_type": "code",
   "execution_count": null,
   "id": "8db591d1-0e1e-4bf3-89de-2599b7caf31c",
   "metadata": {},
   "outputs": [],
   "source": []
  }
 ],
 "metadata": {
  "kernelspec": {
   "display_name": "R",
   "language": "R",
   "name": "ir"
  },
  "language_info": {
   "codemirror_mode": "r",
   "file_extension": ".r",
   "mimetype": "text/x-r-source",
   "name": "R",
   "pygments_lexer": "r",
   "version": "4.1.3"
  }
 },
 "nbformat": 4,
 "nbformat_minor": 5
}
